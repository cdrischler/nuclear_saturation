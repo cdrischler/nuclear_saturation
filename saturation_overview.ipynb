{
 "cells": [
  {
   "cell_type": "markdown",
   "metadata": {},
   "source": [
    "# Empirical constraints: an overview"
   ]
  },
  {
   "cell_type": "markdown",
   "metadata": {},
   "source": [
    "## Imports"
   ]
  },
  {
   "cell_type": "code",
   "execution_count": 2,
   "metadata": {
    "tags": [
     "dqwd"
    ]
   },
   "outputs": [],
   "source": [
    "import pandas as pd\n",
    "import numpy as np\n",
    "import matplotlib.pyplot as plt\n",
    "from plot_helpers import *\n",
    "import seaborn as sns"
   ]
  },
  {
   "cell_type": "code",
   "execution_count": 3,
   "metadata": {},
   "outputs": [
    {
     "data": {
      "text/html": [
       "<div>\n",
       "<style scoped>\n",
       "    .dataframe tbody tr th:only-of-type {\n",
       "        vertical-align: middle;\n",
       "    }\n",
       "\n",
       "    .dataframe tbody tr th {\n",
       "        vertical-align: top;\n",
       "    }\n",
       "\n",
       "    .dataframe thead th {\n",
       "        text-align: right;\n",
       "    }\n",
       "</style>\n",
       "<table border=\"1\" class=\"dataframe\">\n",
       "  <thead>\n",
       "    <tr style=\"text-align: right;\">\n",
       "      <th></th>\n",
       "      <th>Label</th>\n",
       "      <th>rho0</th>\n",
       "      <th>E/A</th>\n",
       "      <th>type</th>\n",
       "    </tr>\n",
       "  </thead>\n",
       "  <tbody>\n",
       "    <tr>\n",
       "      <th>5988</th>\n",
       "      <td>UNEDF</td>\n",
       "      <td>0.155741</td>\n",
       "      <td>-15.714737</td>\n",
       "      <td>Schunck</td>\n",
       "    </tr>\n",
       "    <tr>\n",
       "      <th>5989</th>\n",
       "      <td>UNEDF</td>\n",
       "      <td>0.155969</td>\n",
       "      <td>-15.776474</td>\n",
       "      <td>Schunck</td>\n",
       "    </tr>\n",
       "    <tr>\n",
       "      <th>5990</th>\n",
       "      <td>UNEDF</td>\n",
       "      <td>0.155711</td>\n",
       "      <td>-15.768158</td>\n",
       "      <td>Schunck</td>\n",
       "    </tr>\n",
       "    <tr>\n",
       "      <th>5991</th>\n",
       "      <td>UNEDF</td>\n",
       "      <td>0.155931</td>\n",
       "      <td>-15.747983</td>\n",
       "      <td>Schunck</td>\n",
       "    </tr>\n",
       "    <tr>\n",
       "      <th>5992</th>\n",
       "      <td>UNEDF</td>\n",
       "      <td>0.156699</td>\n",
       "      <td>-15.782378</td>\n",
       "      <td>Schunck</td>\n",
       "    </tr>\n",
       "    <tr>\n",
       "      <th>5993</th>\n",
       "      <td>UNEDF</td>\n",
       "      <td>0.156109</td>\n",
       "      <td>-15.720015</td>\n",
       "      <td>Schunck</td>\n",
       "    </tr>\n",
       "    <tr>\n",
       "      <th>5994</th>\n",
       "      <td>UNEDF</td>\n",
       "      <td>0.156056</td>\n",
       "      <td>-15.725898</td>\n",
       "      <td>Schunck</td>\n",
       "    </tr>\n",
       "    <tr>\n",
       "      <th>5995</th>\n",
       "      <td>UNEDF</td>\n",
       "      <td>0.155219</td>\n",
       "      <td>-15.712381</td>\n",
       "      <td>Schunck</td>\n",
       "    </tr>\n",
       "    <tr>\n",
       "      <th>5996</th>\n",
       "      <td>UNEDF</td>\n",
       "      <td>0.155984</td>\n",
       "      <td>-15.724321</td>\n",
       "      <td>Schunck</td>\n",
       "    </tr>\n",
       "    <tr>\n",
       "      <th>5997</th>\n",
       "      <td>UNEDF</td>\n",
       "      <td>0.155629</td>\n",
       "      <td>-15.763643</td>\n",
       "      <td>Schunck</td>\n",
       "    </tr>\n",
       "    <tr>\n",
       "      <th>5998</th>\n",
       "      <td>UNEDF</td>\n",
       "      <td>0.156612</td>\n",
       "      <td>-15.771891</td>\n",
       "      <td>Schunck</td>\n",
       "    </tr>\n",
       "    <tr>\n",
       "      <th>5999</th>\n",
       "      <td>UNEDF</td>\n",
       "      <td>0.155384</td>\n",
       "      <td>-15.717066</td>\n",
       "      <td>Schunck</td>\n",
       "    </tr>\n",
       "  </tbody>\n",
       "</table>\n",
       "</div>"
      ],
      "text/plain": [
       "      Label      rho0        E/A     type\n",
       "5988  UNEDF  0.155741 -15.714737  Schunck\n",
       "5989  UNEDF  0.155969 -15.776474  Schunck\n",
       "5990  UNEDF  0.155711 -15.768158  Schunck\n",
       "5991  UNEDF  0.155931 -15.747983  Schunck\n",
       "5992  UNEDF  0.156699 -15.782378  Schunck\n",
       "5993  UNEDF  0.156109 -15.720015  Schunck\n",
       "5994  UNEDF  0.156056 -15.725898  Schunck\n",
       "5995  UNEDF  0.155219 -15.712381  Schunck\n",
       "5996  UNEDF  0.155984 -15.724321  Schunck\n",
       "5997  UNEDF  0.155629 -15.763643  Schunck\n",
       "5998  UNEDF  0.156612 -15.771891  Schunck\n",
       "5999  UNEDF  0.155384 -15.717066  Schunck"
      ]
     },
     "execution_count": 3,
     "metadata": {},
     "output_type": "execute_result"
    }
   ],
   "source": [
    "dtypes={\"Label\":str, \"rho0\":np.float64, \"E/aA\": np.float64}\n",
    "data_skyrme=pd.read_csv(\"data/satpoints_skyrme.csv\", comment=\"#\", dtype=dtypes)\n",
    "data_skyrme[\"type\"]=\"Skyrme\"\n",
    "data_rmf=pd.read_csv(\"data/satpoints_rmf.csv\", comment=\"#\", dtype=dtypes)\n",
    "data_rmf[\"type\"]=\"RMF\"\n",
    "data_FC1=pd.read_csv(\"data/forChristan_samples1.csv\",comment=\"#\", names=[\"rho0\",\"E/A\"])\n",
    "data_FC2=pd.read_csv(\"data/forChristan_samples2.csv\",comment=\"#\", names=[\"rho0\",\"E/A\"])\n",
    "data_FC3=pd.read_csv(\"data/forChristan_samples3.csv\",comment=\"#\", names=[\"rho0\",\"E/A\"])\n",
    "data_FC1[\"type\"]=\"Schunck\"\n",
    "data_FC2[\"type\"]=\"Schunck\"\n",
    "data_FC3[\"type\"]=\"Schunck\"\n",
    "data_FC1[\"Label\"]=\"UNEDF\"\n",
    "data_FC2[\"Label\"]=\"UNEDF\"\n",
    "data_FC3[\"Label\"]=\"UNEDF\"\n",
    "\n",
    "data=pd.concat([data_skyrme, data_rmf, data_FC1, data_FC2, data_FC3])\n",
    "\n",
    "\n",
    "\n",
    "\n",
    "\n",
    "\n",
    "data.tail(n=12)"
   ]
  },
  {
   "cell_type": "markdown",
   "metadata": {},
   "source": [
    "## Plot the data"
   ]
  },
  {
   "cell_type": "code",
   "execution_count": 13,
   "metadata": {
    "scrolled": true
   },
   "outputs": [
    {
     "data": {
      "image/png": "[encoded data removed]",
      "text/plain": [
       "<Figure size 440.157x419.685 with 1 Axes>"
      ]
     },
     "metadata": {
      "needs_background": "light"
     },
     "output_type": "display_data"
    }
   ],
   "source": [
    "fig, ax = plt.subplots(1, 1, figsize=(8.6*cm, 8.2*cm), constrained_layout=True)\n",
    "\n",
    "legend_elements=[]\n",
    "for imodel,model in enumerate((\"Skyrme\", \"RMF\")):\n",
    "    masked_data=data[data[\"type\"]==model]\n",
    "    color=colorset[imodel]\n",
    "    confidence_ellipse(masked_data[\"rho0\"], masked_data[\"E/A\"], \n",
    "                       ax, n_std=2.0, facecolor=color, show_scatter=True)\n",
    "    legend_elements.append(Ellipse((0, 0), width=1, height=1, facecolor=color, label=f\"{model} (2$\\\\sigma$)\"))\n",
    "    \n",
    "\n",
    "plot_empirical_saturation(ax=ax, zorder=-3)\n",
    "\n",
    "color=facecolor=\"0.8\"\n",
    "confidence_ellipse_mean_cov([np.mean([0.155,0.165]),np.mean([-16, -15.5])], np.diag([0.005,0.25])**2, \n",
    "                            ax=ax, n_std=1, facecolor=\"0.8\")\n",
    "legend_elements.append(Ellipse((0, 0), width=1, height=1, facecolor=color, label=f\"McDonnell+ (2015) (3$\\\\sigma$)\"))\n",
    "# 0.155 ≤ ρc ≤ 0.165 (fm−3 ); −16.0 ≤ E NM /A ≤ −15.5 (MeV);\n",
    "\n",
    "\n",
    "def plotkde(filename):\n",
    "    data1 = np.loadtxt(filename, delimiter=',', skiprows=1)\n",
    "    sns.kdeplot(x=data1[:,0], y=data1[:,1], fill=True, levels=[.05,1], color=\"orange\")\n",
    "    legend_elements.append(Ellipse((0, 0), width=1, height=1, facecolor=\"orange\", label=f\"Schunck+ (2020) (2$\\\\sigma$)\"))   \n",
    "     \n",
    "plotkde(\"data/forChristan_samples1.csv\")\n",
    "#plotkde(\"data/forChristan_samples2.csv\")\n",
    "#plotkde(\"data/forChristan_samples3.csv\")\n",
    "\n",
    "ax.legend(handles=legend_elements, loc='best')\n",
    "#ax.axvspan(.155,.165,alpha=.2)\n",
    "ax.set_xlim(0.14, 0.18)\n",
    "ax.set_ylim(-17, -15.)\n",
    "ax.set_xlabel('Saturation Density $n_0$ [fm$^{-3}$]')\n",
    "ax.set_ylabel('Saturation Energy $E_0/A$ [MeV]')\n",
    "fig.savefig(\"saturation.pdf\")"
   ]
  },
  {
   "cell_type": "code",
   "execution_count": null,
   "metadata": {},
   "outputs": [],
   "source": []
  }
 ],
 "metadata": {
  "kernelspec": {
   "display_name": "Python 3 (ipykernel)",
   "language": "python",
   "name": "python3"
  },
  "language_info": {
   "codemirror_mode": {
    "name": "ipython",
    "version": 3
   },
   "file_extension": ".py",
   "mimetype": "text/x-python",
   "name": "python",
   "nbconvert_exporter": "python",
   "pygments_lexer": "ipython3",
   "version": "3.9.12"
  }
 },
 "nbformat": 4,
 "nbformat_minor": 4
}
