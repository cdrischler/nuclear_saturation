{
 "cells": [
  {
   "cell_type": "markdown",
   "metadata": {},
   "source": [
    "# Empirical constraints: an overview"
   ]
  },
  {
   "cell_type": "markdown",
   "metadata": {},
   "source": [
    "## Imports"
   ]
  },
  {
   "cell_type": "code",
   "execution_count": 1,
   "metadata": {
    "tags": [
     "dqwd"
    ]
   },
   "outputs": [],
   "source": [
    "import pandas as pd\n",
    "import numpy as np\n",
    "import matplotlib.pyplot as plt\n",
    "from plot_helpers import *"
   ]
  },
  {
   "cell_type": "code",
   "execution_count": 2,
   "metadata": {},
   "outputs": [
    {
     "data": {
      "text/html": [
       "<div>\n",
       "<style scoped>\n",
       "    .dataframe tbody tr th:only-of-type {\n",
       "        vertical-align: middle;\n",
       "    }\n",
       "\n",
       "    .dataframe tbody tr th {\n",
       "        vertical-align: top;\n",
       "    }\n",
       "\n",
       "    .dataframe thead th {\n",
       "        text-align: right;\n",
       "    }\n",
       "</style>\n",
       "<table border=\"1\" class=\"dataframe\">\n",
       "  <thead>\n",
       "    <tr style=\"text-align: right;\">\n",
       "      <th></th>\n",
       "      <th>Label</th>\n",
       "      <th>rho0</th>\n",
       "      <th>E/A</th>\n",
       "      <th>type</th>\n",
       "    </tr>\n",
       "  </thead>\n",
       "  <tbody>\n",
       "    <tr>\n",
       "      <th>0</th>\n",
       "      <td>BKA22</td>\n",
       "      <td>0.147</td>\n",
       "      <td>-15.91</td>\n",
       "      <td>RMF</td>\n",
       "    </tr>\n",
       "    <tr>\n",
       "      <th>1</th>\n",
       "      <td>BKA24</td>\n",
       "      <td>0.147</td>\n",
       "      <td>-15.95</td>\n",
       "      <td>RMF</td>\n",
       "    </tr>\n",
       "    <tr>\n",
       "      <th>2</th>\n",
       "      <td>BSR11</td>\n",
       "      <td>0.147</td>\n",
       "      <td>-16.08</td>\n",
       "      <td>RMF</td>\n",
       "    </tr>\n",
       "    <tr>\n",
       "      <th>3</th>\n",
       "      <td>BSR12</td>\n",
       "      <td>0.147</td>\n",
       "      <td>-16.10</td>\n",
       "      <td>RMF</td>\n",
       "    </tr>\n",
       "    <tr>\n",
       "      <th>4</th>\n",
       "      <td>Z271v5</td>\n",
       "      <td>0.148</td>\n",
       "      <td>-16.24</td>\n",
       "      <td>RMF</td>\n",
       "    </tr>\n",
       "  </tbody>\n",
       "</table>\n",
       "</div>"
      ],
      "text/plain": [
       "    Label   rho0    E/A type\n",
       "0   BKA22  0.147 -15.91  RMF\n",
       "1   BKA24  0.147 -15.95  RMF\n",
       "2   BSR11  0.147 -16.08  RMF\n",
       "3   BSR12  0.147 -16.10  RMF\n",
       "4  Z271v5  0.148 -16.24  RMF"
      ]
     },
     "execution_count": 2,
     "metadata": {},
     "output_type": "execute_result"
    }
   ],
   "source": [
    "dtypes={\"Label\":str, \"rho0\":np.float64, \"E/aA\": np.float64}\n",
    "data_skyrme=pd.read_csv(\"data/satpoints_skyrme.csv\", comment=\"#\", dtype=dtypes)\n",
    "data_skyrme[\"type\"]=\"Skyrme\"\n",
    "data_rmf=pd.read_csv(\"data/satpoints_rmf.csv\", comment=\"#\", dtype=dtypes)\n",
    "data_rmf[\"type\"]=\"RMF\"\n",
    "data=pd.concat([data_skyrme,data_rmf])\n",
    "data.tail()"
   ]
  },
  {
   "cell_type": "markdown",
   "metadata": {},
   "source": [
    "## Plot the data"
   ]
  },
  {
   "cell_type": "code",
   "execution_count": 3,
   "metadata": {},
   "outputs": [
    {
     "data": {
      "image/png": "[encoded data removed]",
      "text/plain": [
       "<Figure size 440.157x419.685 with 1 Axes>"
      ]
     },
     "metadata": {
      "needs_background": "light"
     },
     "output_type": "display_data"
    }
   ],
   "source": [
    "fig, ax = plt.subplots(1, 1, figsize=(8.6*cm, 8.2*cm), constrained_layout=True)\n",
    "\n",
    "legend_elements=[]\n",
    "for imodel,model in enumerate((\"Skyrme\", \"RMF\")):\n",
    "    masked_data=data[data[\"type\"]==model]\n",
    "    color=colorset[imodel]\n",
    "    confidence_ellipse(masked_data[\"rho0\"], masked_data[\"E/A\"], \n",
    "                       ax, n_std=2.0, facecolor=color, show_scatter=True)\n",
    "    legend_elements.append(Ellipse((0, 0), width=1, height=1, facecolor=color, label=f\"{model} (2$\\\\sigma$)\"))\n",
    "\n",
    "plot_empirical_saturation(ax=ax, zorder=-3)\n",
    "\n",
    "color=facecolor=\"0.8\"\n",
    "confidence_ellipse_mean_cov([np.mean([0.155,0.165]),np.mean([-16, -15.5])], np.diag([0.005,0.25])**2, \n",
    "                            ax=ax, n_std=1, facecolor=\"0.8\")\n",
    "legend_elements.append(Ellipse((0, 0), width=1, height=1, facecolor=color, label=f\"McDonnell+ (2015) (3$\\\\sigma$)\"))\n",
    "# 0.155 ≤ ρc ≤ 0.165 (fm−3 ); −16.0 ≤ E NM /A ≤ −15.5 (MeV);\n",
    "\n",
    "ax.legend(handles=legend_elements, loc='best')\n",
    "\n",
    "ax.set_xlim(0.13, 0.21)\n",
    "ax.set_ylim(-18, -12.)\n",
    "ax.set_xlabel('Saturation Density $n_0$ [fm$^{-3}$]')\n",
    "ax.set_ylabel('Saturation Energy $E_0/A$ [MeV]')\n",
    "fig.savefig(\"saturation.pdf\")"
   ]
  },
  {
   "cell_type": "code",
   "execution_count": null,
   "metadata": {},
   "outputs": [],
   "source": []
  }
 ],
 "metadata": {
  "kernelspec": {
   "display_name": "Python 3",
   "language": "python",
   "name": "python3"
  },
  "language_info": {
   "codemirror_mode": {
    "name": "ipython",
    "version": 3
   },
   "file_extension": ".py",
   "mimetype": "text/x-python",
   "name": "python",
   "nbconvert_exporter": "python",
   "pygments_lexer": "ipython3",
   "version": "3.9.6"
  }
 },
 "nbformat": 4,
 "nbformat_minor": 4
}
