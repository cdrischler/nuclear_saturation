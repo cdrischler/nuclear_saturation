{
 "cells": [
  {
   "cell_type": "markdown",
   "metadata": {},
   "source": [
    "# Empirical constraints: an overview"
   ]
  },
  {
   "cell_type": "markdown",
   "metadata": {},
   "source": [
    "## Imports"
   ]
  },
  {
   "cell_type": "code",
   "execution_count": 1,
   "metadata": {
    "tags": [
     "dqwd"
    ]
   },
   "outputs": [
    {
     "name": "stderr",
     "output_type": "stream",
     "text": [
      "C:\\Users\\sbezo\\anaconda3\\lib\\site-packages\\scipy\\__init__.py:146: UserWarning: A NumPy version >=1.16.5 and <1.23.0 is required for this version of SciPy (detected version 1.23.1\n",
      "  warnings.warn(f\"A NumPy version >={np_minversion} and <{np_maxversion}\"\n"
     ]
    }
   ],
   "source": [
    "import pandas as pd\n",
    "import numpy as np\n",
    "import matplotlib.pyplot as plt\n",
    "from plot_helpers import *\n",
    "import seaborn as sns"
   ]
  },
  {
   "cell_type": "code",
   "execution_count": 2,
   "metadata": {},
   "outputs": [
    {
     "data": {
      "text/html": [
       "<div>\n",
       "<style scoped>\n",
       "    .dataframe tbody tr th:only-of-type {\n",
       "        vertical-align: middle;\n",
       "    }\n",
       "\n",
       "    .dataframe tbody tr th {\n",
       "        vertical-align: top;\n",
       "    }\n",
       "\n",
       "    .dataframe thead th {\n",
       "        text-align: right;\n",
       "    }\n",
       "</style>\n",
       "<table border=\"1\" class=\"dataframe\">\n",
       "  <thead>\n",
       "    <tr style=\"text-align: right;\">\n",
       "      <th></th>\n",
       "      <th>Label</th>\n",
       "      <th>rho0</th>\n",
       "      <th>E/A</th>\n",
       "      <th>type</th>\n",
       "    </tr>\n",
       "  </thead>\n",
       "  <tbody>\n",
       "    <tr>\n",
       "      <th>0</th>\n",
       "      <td>SLy4</td>\n",
       "      <td>0.160000</td>\n",
       "      <td>-15.972000</td>\n",
       "      <td>Skyrme</td>\n",
       "    </tr>\n",
       "    <tr>\n",
       "      <th>1</th>\n",
       "      <td>UNEDF0</td>\n",
       "      <td>0.160530</td>\n",
       "      <td>-16.056000</td>\n",
       "      <td>Skyrme</td>\n",
       "    </tr>\n",
       "    <tr>\n",
       "      <th>2</th>\n",
       "      <td>UNEDF1</td>\n",
       "      <td>0.158710</td>\n",
       "      <td>-15.800000</td>\n",
       "      <td>Skyrme</td>\n",
       "    </tr>\n",
       "    <tr>\n",
       "      <th>3</th>\n",
       "      <td>UNEDF2</td>\n",
       "      <td>0.156310</td>\n",
       "      <td>-15.800000</td>\n",
       "      <td>Skyrme</td>\n",
       "    </tr>\n",
       "    <tr>\n",
       "      <th>4</th>\n",
       "      <td>KDE0v1</td>\n",
       "      <td>0.165000</td>\n",
       "      <td>-16.230000</td>\n",
       "      <td>Skyrme</td>\n",
       "    </tr>\n",
       "    <tr>\n",
       "      <th>...</th>\n",
       "      <td>...</td>\n",
       "      <td>...</td>\n",
       "      <td>...</td>\n",
       "      <td>...</td>\n",
       "    </tr>\n",
       "    <tr>\n",
       "      <th>3976</th>\n",
       "      <td>UNDEF</td>\n",
       "      <td>0.155594</td>\n",
       "      <td>-15.714904</td>\n",
       "      <td>Schunck</td>\n",
       "    </tr>\n",
       "    <tr>\n",
       "      <th>3977</th>\n",
       "      <td>UNDEF</td>\n",
       "      <td>0.155445</td>\n",
       "      <td>-15.731806</td>\n",
       "      <td>Schunck</td>\n",
       "    </tr>\n",
       "    <tr>\n",
       "      <th>3978</th>\n",
       "      <td>UNDEF</td>\n",
       "      <td>0.155052</td>\n",
       "      <td>-15.755521</td>\n",
       "      <td>Schunck</td>\n",
       "    </tr>\n",
       "    <tr>\n",
       "      <th>3979</th>\n",
       "      <td>UNDEF</td>\n",
       "      <td>0.155543</td>\n",
       "      <td>-15.802464</td>\n",
       "      <td>Schunck</td>\n",
       "    </tr>\n",
       "    <tr>\n",
       "      <th>3980</th>\n",
       "      <td>UNDEF</td>\n",
       "      <td>0.157275</td>\n",
       "      <td>-15.793917</td>\n",
       "      <td>Schunck</td>\n",
       "    </tr>\n",
       "  </tbody>\n",
       "</table>\n",
       "<p>10000 rows × 4 columns</p>\n",
       "</div>"
      ],
      "text/plain": [
       "       Label      rho0        E/A     type\n",
       "0       SLy4  0.160000 -15.972000   Skyrme\n",
       "1     UNEDF0  0.160530 -16.056000   Skyrme\n",
       "2     UNEDF1  0.158710 -15.800000   Skyrme\n",
       "3     UNEDF2  0.156310 -15.800000   Skyrme\n",
       "4     KDE0v1  0.165000 -16.230000   Skyrme\n",
       "...      ...       ...        ...      ...\n",
       "3976   UNDEF  0.155594 -15.714904  Schunck\n",
       "3977   UNDEF  0.155445 -15.731806  Schunck\n",
       "3978   UNDEF  0.155052 -15.755521  Schunck\n",
       "3979   UNDEF  0.155543 -15.802464  Schunck\n",
       "3980   UNDEF  0.157275 -15.793917  Schunck\n",
       "\n",
       "[10000 rows x 4 columns]"
      ]
     },
     "execution_count": 2,
     "metadata": {},
     "output_type": "execute_result"
    }
   ],
   "source": [
    "dtypes={\"Label\":str, \"rho0\":np.float64, \"E/aA\": np.float64}\n",
    "data_skyrme=pd.read_csv(\"data/satpoints_skyrme.csv\", comment=\"#\", dtype=dtypes)\n",
    "data_rmf=pd.read_csv(\"data/satpoints_rmf.csv\", comment=\"#\", dtype=dtypes)\n",
    "data_FC1=pd.read_csv(\"data/forChristan_samples1.csv\",comment=\"#\", names=[\"rho0\",\"E/A\"])\n",
    "data_FC2=pd.read_csv(\"data/forChristan_samples2.csv\",comment=\"#\", names=[\"rho0\",\"E/A\"])\n",
    "data_FC3=pd.read_csv(\"data/forChristan_samples3.csv\",comment=\"#\", names=[\"rho0\",\"E/A\"])\n",
    "\n",
    "def import_fwf_data(filepath, column_name):\n",
    "    data = pd.read_fwf(filepath, skiprows=7, comment='#', usecols=column_name)\n",
    "    return data.rename(columns={column_name[0]:\"rho0\", column_name[1]:\"E/A\"})\n",
    "                       \n",
    "data_RMF012_1 = import_fwf_data(\"saturation/RMF012/CovEllipse.out\", [\"A39\",\"B39\"])\n",
    "data_RMF012_2 = import_fwf_data(\"saturation/RMF012/CovEllipse.out\", [\"A95\",\"B95\"])\n",
    "data_RMF016_1 = import_fwf_data(\"saturation/RMF016/CovEllipse.out\", [\"A39\",\"B39\"])\n",
    "data_RMF016_2 = import_fwf_data(\"saturation/RMF016/CovEllipse.out\", [\"A95\",\"B95\"])\n",
    "data_RMF022_1 = import_fwf_data(\"saturation/RMF022/CovEllipse.out\", [\"A39\",\"B39\"])\n",
    "data_RMF022_2 = import_fwf_data(\"saturation/RMF022/CovEllipse.out\", [\"A95\",\"B95\"])\n",
    "data_RMF028_1 = import_fwf_data(\"saturation/RMF028/CovEllipse.out\", [\"A39\",\"B39\"])\n",
    "data_RMF028_2 = import_fwf_data(\"saturation/RMF028/CovEllipse.out\", [\"A95\",\"B95\"])\n",
    "data_RMF032_1 = import_fwf_data(\"saturation/RMF032/CovEllipse.out\", [\"A39\",\"B39\"])\n",
    "data_RMF032_2 = import_fwf_data(\"saturation/RMF032/CovEllipse.out\", [\"A95\",\"B95\"])\n",
    "\n",
    "def insert_type(typename, data):\n",
    "    data[\"type\"]=typename\n",
    "    return data\n",
    "\n",
    "\n",
    "insert_type(\"Skyrme\", data_skyrme)\n",
    "insert_type(\"RMF\", data_rmf)\n",
    "\n",
    "\n",
    "def insert_type_and_label(typename, labelname, data):\n",
    "    data[\"type\"]=typename\n",
    "    data[\"Label\"]=labelname\n",
    "    return data\n",
    "\n",
    "insert_type_and_label(\"Schunck\", \"UNDEF\", data_FC1)\n",
    "insert_type_and_label(\"Schunck\", \"UNDEF\", data_FC2)\n",
    "insert_type_and_label(\"Schunck\", \"UNDEF\", data_FC3)\n",
    "insert_type_and_label(\"RMF012\", \"temp\", data_RMF012_1)\n",
    "insert_type_and_label(\"RMF012\", \"temp\", data_RMF012_2)\n",
    "insert_type_and_label(\"RMF016\", \"temp\", data_RMF016_1)\n",
    "insert_type_and_label(\"RMF016\", \"temp\", data_RMF016_2)\n",
    "insert_type_and_label(\"RMF022\", \"temp\", data_RMF022_1)\n",
    "insert_type_and_label(\"RMF022\", \"temp\", data_RMF022_2)\n",
    "insert_type_and_label(\"RMF028\", \"temp\", data_RMF028_1)\n",
    "insert_type_and_label(\"RMF028\", \"temp\", data_RMF028_2)\n",
    "insert_type_and_label(\"RMF032\", \"temp\", data_RMF032_1)\n",
    "insert_type_and_label(\"RMF032\", \"temp\", data_RMF032_2)\n",
    "\n",
    "\n",
    "\n",
    "data=pd.concat([data_skyrme, data_rmf, data_FC1, data_FC2, data_FC3, data_RMF012_1, data_RMF012_2, data_RMF016_1, data_RMF016_2, data_RMF022_1, data_RMF022_2, data_RMF028_1, data_RMF028_2, data_RMF032_1, data_RMF032_2])\n",
    "\n",
    "data.head(n=10000)"
   ]
  },
  {
   "cell_type": "markdown",
   "metadata": {},
   "source": [
    "## Plot the data"
   ]
  },
  {
   "cell_type": "code",
   "execution_count": 3,
   "metadata": {
    "scrolled": false
   },
   "outputs": [
    {
     "data": {
      "text/plain": [
       "Text(0, 0.5, 'Saturation Energy $E_0/A$ [MeV]')"
      ]
     },
     "execution_count": 3,
     "metadata": {},
     "output_type": "execute_result"
    },
    {
     "data": {
      "image/png": "[encoded data removed]",
      "text/plain": [
       "<Figure size 440.157x419.685 with 1 Axes>"
      ]
     },
     "metadata": {
      "needs_background": "light"
     },
     "output_type": "display_data"
    }
   ],
   "source": [
    "fig, ax = plt.subplots(1, 1, figsize=(8.6*cm, 8.2*cm), constrained_layout=True)\n",
    "\n",
    "legend_elements=[]\n",
    "for imodel,model in enumerate((\"Skyrme\", \"RMF\")):\n",
    "    masked_data=data[data[\"type\"]==model]\n",
    "    color=colorset[imodel]\n",
    "    confidence_ellipse(masked_data[\"rho0\"], masked_data[\"E/A\"], \n",
    "                       ax, n_std=2.0, facecolor=color, show_scatter=True)\n",
    "    legend_elements.append(Ellipse((0, 0), width=1, height=1, facecolor=color, label=f\"{model} (2$\\\\sigma$)\"))\n",
    "    \n",
    "\n",
    "plot_empirical_saturation(ax=ax, zorder=-3)\n",
    "\n",
    "color=facecolor=\"0.8\"\n",
    "\n",
    "confidence_ellipse_mean_cov(np.array([np.mean([0.155,0.165]),np.mean([-16, -15.5])]), np.diag([0.005,0.25])**2, \n",
    "                            ax=ax, n_std=1, facecolor=\"0.8\")\n",
    "legend_elements.append(Ellipse((0, 0), width=1, height=1, facecolor=color, label=f\"McDonnell+ (2015) (3$\\\\sigma$)\"))\n",
    "# 0.155 ≤ ρc ≤ 0.165 (fm−3 ); −16.0 ≤ E NM /A ≤ −15.5 (MeV);\n",
    "\n",
    "def hartree_code(filepath):\n",
    "    data = pd.read_fwf(filepath, comment='#', header=None)\n",
    "    data_str = (data.loc[2,0])\n",
    "    data_val = data_str.strip('][').split(', ')\n",
    "    A_mean = float(data_val[0])\n",
    "    B_mean = float(data_val[1])\n",
    "    Cov = float(data_val[2])*float(data_val[3])*float(data_val[4])\n",
    "    A_std = float(data_val[2])\n",
    "    B_std = float(data_val[3])\n",
    "    return (A_mean, B_mean, Cov, A_std, B_std)\n",
    "\n",
    "A_12, B_12, Cov_12, A_std_12, B_std_12 = hartree_code(\"saturation/RMF012/CovEllipse.com\")\n",
    "A_16, B_16, Cov_16, A_std_16, B_std_16 = hartree_code(\"saturation/RMF016/CovEllipse.com\")\n",
    "A_22, B_22, Cov_22, A_std_22, B_std_22 = hartree_code(\"saturation/RMF022/CovEllipse.com\")\n",
    "A_28, B_28, Cov_28, A_std_28, B_std_28 = hartree_code(\"saturation/RMF028/CovEllipse.com\") \n",
    "A_32, B_32, Cov_32, A_std_32, B_std_32 = hartree_code(\"saturation/RMF032/CovEllipse.com\") \n",
    "\n",
    "confidence_ellipse_mean_cov(np.array([A_12, B_12]), np.array([[A_std_12**2, Cov_12],[Cov_12, B_std_12**2]]),\n",
    "                           ax=ax, n_std=2, facecolor=\"c\")\n",
    "legend_elements.append(Ellipse((0, 0), width=1, height=1, facecolor=\"c\", label=f\"RMF012 (2$\\\\sigma$)\"))\n",
    "\n",
    "confidence_ellipse_mean_cov(np.array([A_16, B_16]), np.array([[A_std_16**2, Cov_16],[Cov_16, B_std_16**2]]),\n",
    "                           ax=ax, n_std=2, facecolor=\"k\")\n",
    "legend_elements.append(Ellipse((0, 0), width=1, height=1, facecolor=\"k\", label=f\"RMF016 (2$\\\\sigma$)\"))\n",
    "\n",
    "confidence_ellipse_mean_cov(np.array([A_22, B_22]), np.array([[A_std_22**2, Cov_22],[Cov_22, B_std_22**2]]),\n",
    "                           ax=ax, n_std=2, facecolor=\"lime\")\n",
    "legend_elements.append(Ellipse((0, 0), width=1, height=1, facecolor=\"lime\", label=f\"RMF022 (2$\\\\sigma$)\"))\n",
    "\n",
    "confidence_ellipse_mean_cov(np.array([A_28, B_28]), np.array([[A_std_28**2, Cov_28],[Cov_28, B_std_28**2]]),\n",
    "                           ax=ax, n_std=2, facecolor=\"aqua\")\n",
    "legend_elements.append(Ellipse((0, 0), width=1, height=1, facecolor=\"aqua\", label=f\"RMF028 (2$\\\\sigma$)\"))\n",
    "\n",
    "confidence_ellipse_mean_cov(np.array([A_32, B_32]), np.array([[A_std_32**2, Cov_32],[Cov_32, B_std_32**2]]),\n",
    "                           ax=ax, n_std=2, facecolor=\"magenta\")\n",
    "legend_elements.append(Ellipse((0, 0), width=1, height=1, facecolor=\"magenta\", label=f\"RMF032 (2$\\\\sigma$)\"))\n",
    "\n",
    "def plotkde(filename):\n",
    "    data1 = np.loadtxt(filename, delimiter=',', skiprows=1)\n",
    "    sns.kdeplot(x=data1[:,0], y=data1[:,1], fill=True, levels=[.05,1], color=\"orange\")\n",
    "    legend_elements.append(Ellipse((0, 0), width=1, height=1, facecolor=\"orange\", label=f\"Schunck+ (2020) (95\\%)\"))   \n",
    "     \n",
    "plotkde(\"data/forChristan_samples1.csv\")\n",
    "#plotkde(\"data/forChristan_samples2.csv\")\n",
    "#plotkde(\"data/forChristan_samples3.csv\")\n",
    "\n",
    "ax.legend(handles=legend_elements, loc='best', fontsize='xx-small', ncol=2)\n",
    "#ax.axvspan(.155,.165,alpha=.2)\n",
    "ax.set_xlim(0.14, 0.18)\n",
    "ax.set_ylim(-17, -15.)\n",
    "ax.set_xlabel('Saturation Density $n_0$ [fm$^{-3}$]')\n",
    "ax.set_ylabel('Saturation Energy $E_0/A$ [MeV]')\n",
    "#fig.savefig(\"saturation.pdf\")"
   ]
  },
  {
   "cell_type": "code",
   "execution_count": null,
   "metadata": {},
   "outputs": [],
   "source": []
  }
 ],
 "metadata": {
  "kernelspec": {
   "display_name": "Python 3 (ipykernel)",
   "language": "python",
   "name": "python3"
  },
  "language_info": {
   "codemirror_mode": {
    "name": "ipython",
    "version": 3
   },
   "file_extension": ".py",
   "mimetype": "text/x-python",
   "name": "python",
   "nbconvert_exporter": "python",
   "pygments_lexer": "ipython3",
   "version": "3.9.12"
  }
 },
 "nbformat": 4,
 "nbformat_minor": 4
}
