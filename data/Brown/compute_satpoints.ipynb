{
 "cells": [
  {
   "attachments": {},
   "cell_type": "markdown",
   "metadata": {},
   "source": [
    "# Data from Alex Brown: pre-processing\n",
    "\n",
    "This notebook extracts the saturation point in a format suitable for us using Alex Brown's original input file."
   ]
  },
  {
   "cell_type": "code",
   "execution_count": 1,
   "metadata": {
    "pycharm": {
     "name": "#%%\n"
    }
   },
   "outputs": [],
   "source": [
    "import pandas as pd\n",
    "import matplotlib.pyplot as plt\n",
    "from scipy import interpolate, optimize"
   ]
  },
  {
   "attachments": {},
   "cell_type": "markdown",
   "metadata": {},
   "source": [
    "Read the data provided by Alex Brown:"
   ]
  },
  {
   "cell_type": "code",
   "execution_count": 2,
   "metadata": {
    "pycharm": {
     "name": "#%%\n"
    }
   },
   "outputs": [],
   "source": [
    "data = pd.read_csv(\"all.am\", comment=\"#\", delimiter=\"\\s+\", header=None, \n",
    "            engine=\"python\", \n",
    "            converters={\"-\": 111110},\n",
    "            na_values=\"-\", keep_default_na=True)"
   ]
  },
  {
   "attachments": {},
   "cell_type": "markdown",
   "metadata": {},
   "source": [
    "The data provides the equation of state as a function of the density, so we need to find the minimum w.r.t. the density. We write the results for the saturation point to disk for our analysis."
   ]
  },
  {
   "cell_type": "code",
   "execution_count": 3,
   "metadata": {
    "pycharm": {
     "name": "#%%\n"
    }
   },
   "outputs": [],
   "source": [
    "with open(\"satpoints_brown.csv\", \"w\") as file:\n",
    "    file.write(\"label,rho0,E/A\\n\")\n",
    "    for icol, col in enumerate(data.columns[1:], start=1):\n",
    "        label = f\"brown:{icol}\"  # unclear how to map results in Alex Brown's recent data file to EDF labels\n",
    "        fint = interpolate.interp1d(data[0],data[col], kind=\"cubic\")\n",
    "        sol = optimize.minimize(fint, x0=0.15, args=(), method='Nelder-Mead')\n",
    "        #print((f\"{sol.x[0]},{sol.fun}\"))\n",
    "        file.write(f\"{label},{sol.x[0]:.5f},{sol.fun:.5f}\\n\")"
   ]
  },
  {
   "attachments": {},
   "cell_type": "markdown",
   "metadata": {},
   "source": [
    "Read the results and plot:"
   ]
  },
  {
   "cell_type": "code",
   "execution_count": 4,
   "metadata": {
    "pycharm": {
     "name": "#%%\n"
    }
   },
   "outputs": [
    {
     "data": {
      "text/plain": [
       "<matplotlib.collections.PathCollection at 0x2d2a06710>"
      ]
     },
     "execution_count": 4,
     "metadata": {},
     "output_type": "execute_result"
    },
    {
     "data": {
      "image/png": "[encoded data removed]",
      "text/plain": [
       "<Figure size 640x480 with 1 Axes>"
      ]
     },
     "metadata": {},
     "output_type": "display_data"
    }
   ],
   "source": [
    "data = pd.read_csv(\"satpoints_brown.csv\", header=0)\n",
    "plt.scatter(data[\"rho0\"], data[\"E/A\"])"
   ]
  },
  {
   "cell_type": "code",
   "execution_count": null,
   "metadata": {
    "collapsed": false,
    "pycharm": {
     "name": "#%%\n"
    }
   },
   "outputs": [],
   "source": []
  }
 ],
 "metadata": {
  "kernelspec": {
   "display_name": "vs_code",
   "language": "python",
   "name": "python3"
  },
  "language_info": {
   "codemirror_mode": {
    "name": "ipython",
    "version": 3
   },
   "file_extension": ".py",
   "mimetype": "text/x-python",
   "name": "python",
   "nbconvert_exporter": "python",
   "pygments_lexer": "ipython3",
   "version": "3.10.10"
  }
 },
 "nbformat": 4,
 "nbformat_minor": 4
}
