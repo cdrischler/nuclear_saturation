{
 "cells": [
  {
   "cell_type": "code",
   "execution_count": 1,
   "metadata": {},
   "outputs": [],
   "source": [
    "import pandas as pd\n",
    "import matplotlib.pyplot as plt\n",
    "from scipy import interpolate, optimize"
   ]
  },
  {
   "cell_type": "code",
   "execution_count": 2,
   "metadata": {},
   "outputs": [],
   "source": [
    "data = pd.read_csv(\"all.am\", comment=\"#\", delimiter=\"\\s+\", header=None, \n",
    "            engine=\"python\", \n",
    "            converters={\"-\": 111110},\n",
    "            na_values=\"-\", keep_default_na=True)"
   ]
  },
  {
   "cell_type": "code",
   "execution_count": 3,
   "metadata": {},
   "outputs": [],
   "source": [
    "with open(\"satpoints_brown.csv\", \"w\") as file:\n",
    "    file.write(\"Label,rho0,E/A\\n\")\n",
    "    for col in data.columns[1:]:\n",
    "        label = \"unknown\"  # unclear how to map results in Alex Brown's recent data file to EDFs labels\n",
    "        fint = interpolate.interp1d(data[0],data[col], kind=\"cubic\")\n",
    "        sol = optimize.minimize(fint, x0=0.15, args=(), method='Nelder-Mead')\n",
    "        #print((f\"{sol.x[0]},{sol.fun}\"))\n",
    "        file.write(f\"{label},{sol.x[0]:.5f},{sol.fun:.5f}\\n\")"
   ]
  },
  {
   "cell_type": "code",
   "execution_count": 5,
   "metadata": {},
   "outputs": [
    {
     "data": {
      "text/plain": "<matplotlib.collections.PathCollection at 0x137baf730>"
     },
     "execution_count": 5,
     "metadata": {},
     "output_type": "execute_result"
    },
    {
     "data": {
      "text/plain": "<Figure size 432x288 with 1 Axes>",
      "image/png": "[encoded data removed]"
     },
     "metadata": {
      "needs_background": "light"
     },
     "output_type": "display_data"
    }
   ],
   "source": [
    "data = pd.read_csv(\"satpoints_brown.csv\", header=0)\n",
    "plt.scatter(data[\"rho0\"], data[\"E/A\"])"
   ]
  },
  {
   "cell_type": "code",
   "execution_count": null,
   "outputs": [],
   "source": [],
   "metadata": {
    "collapsed": false,
    "pycharm": {
     "name": "#%%\n"
    }
   }
  }
 ],
 "metadata": {
  "kernelspec": {
   "name": "satpoint",
   "language": "python",
   "display_name": "satpoint"
  },
  "language_info": {
   "codemirror_mode": {
    "name": "ipython",
    "version": 3
   },
   "file_extension": ".py",
   "mimetype": "text/x-python",
   "name": "python",
   "nbconvert_exporter": "python",
   "pygments_lexer": "ipython3",
   "version": "3.8.5"
  }
 },
 "nbformat": 4,
 "nbformat_minor": 4
}