{
 "cells": [
  {
   "cell_type": "code",
   "execution_count": 1,
   "metadata": {},
   "outputs": [],
   "source": [
    "import scipy as sp\n",
    "import pandas as pd\n",
    "import matplotlib.pyplot as plt\n",
    "from scipy import interpolate, optimize"
   ]
  },
  {
   "cell_type": "code",
   "execution_count": 2,
   "metadata": {},
   "outputs": [],
   "source": [
    "data = pd.read_csv(\"all.am\", comment=\"#\", delimiter=\"\\s+\", header=None, \n",
    "            engine=\"python\", \n",
    "            converters={\"-\": 111110},\n",
    "            na_values=\"-\", keep_default_na=True)"
   ]
  },
  {
   "cell_type": "code",
   "execution_count": 3,
   "metadata": {},
   "outputs": [],
   "source": [
    "with open(\"satpoints.csv\", \"w\") as file:\n",
    "    for col in data.columns[1:]:\n",
    "        fint = interpolate.interp1d(data[0],data[col], kind=\"cubic\")\n",
    "        sol = optimize.minimize(fint, x0=0.15, args=(), method='Nelder-Mead')\n",
    "        #print((f\"{sol.x[0]},{sol.fun}\"))\n",
    "        file.write(f\"{sol.x[0]:.5f},{sol.fun:.5f}\\n\")"
   ]
  },
  {
   "cell_type": "code",
   "execution_count": null,
   "metadata": {},
   "outputs": [],
   "source": []
  }
 ],
 "metadata": {
  "kernelspec": {
   "display_name": "env",
   "language": "python",
   "name": "env"
  },
  "language_info": {
   "codemirror_mode": {
    "name": "ipython",
    "version": 3
   },
   "file_extension": ".py",
   "mimetype": "text/x-python",
   "name": "python",
   "nbconvert_exporter": "python",
   "pygments_lexer": "ipython3",
   "version": "3.8.5"
  }
 },
 "nbformat": 4,
 "nbformat_minor": 4
}
