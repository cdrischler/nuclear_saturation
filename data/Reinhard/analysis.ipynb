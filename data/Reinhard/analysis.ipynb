{
 "cells": [
  {
   "cell_type": "markdown",
   "source": [
    "# Analysis of the GNUplot file P.G. Reinhard provided"
   ],
   "metadata": {
    "collapsed": false,
    "pycharm": {
     "name": "#%% md\n"
    }
   }
  },
  {
   "cell_type": "code",
   "execution_count": 1,
   "metadata": {
    "collapsed": true,
    "pycharm": {
     "name": "#%%\n"
    }
   },
   "outputs": [],
   "source": [
    "import numpy as np\n",
    "import pandas as pd\n",
    "import matplotlib.pyplot as plt"
   ]
  },
  {
   "cell_type": "markdown",
   "source": [
    "For simplicity, we copy & paste the two data sets contained in the GNUplot file into separate csv files. The data points are the contour ellipse of the 68% confidence region.\n",
    "\n",
    "The variable labeled `variance` seems to be the standard deviation, actually.\n",
    "\n",
    "We assume that the (commented-out) variable `alignment` is the Pearson correlation cofficient:"
   ],
   "metadata": {
    "collapsed": false,
    "pycharm": {
     "name": "#%% md\n"
    }
   }
  },
  {
   "cell_type": "code",
   "execution_count": 2,
   "outputs": [],
   "source": [
    "params_svmin = dict(\n",
    "    label = \"SV-min\",\n",
    "    data = pd.read_csv(\"SV-min.csv\"),\n",
    "    mean = np.array([0.16108, -15.910]),\n",
    "    sig1 = 1.19302E-03,\n",
    "    sig2 = 3.32045E-02,\n",
    "    pearson = 0.18714\n",
    ")"
   ],
   "metadata": {
    "collapsed": false,
    "pycharm": {
     "name": "#%%\n"
    }
   }
  },
  {
   "cell_type": "markdown",
   "source": [
    "However, for `TOV`, variable `alignment` seems to have a different meaning. Empirically, we find that we need to take the square root, wit a negative sign."
   ],
   "metadata": {
    "collapsed": false,
    "pycharm": {
     "name": "#%% md\n"
    }
   }
  },
  {
   "cell_type": "code",
   "execution_count": 3,
   "outputs": [],
   "source": [
    "params_tov = dict(\n",
    "    label = \"TOV\",\n",
    "    data = pd.read_csv(\"TOV.csv\"),\n",
    "    mean = np.array([0.161110997, -15.9396000]),\n",
    "    sig1 = 1.70800090E-03,\n",
    "    sig2 = 2.76002884E-02,\n",
    "    pearson = -np.sqrt(3.51108E-02)\n",
    ")"
   ],
   "metadata": {
    "collapsed": false,
    "pycharm": {
     "name": "#%%\n"
    }
   }
  },
  {
   "cell_type": "code",
   "execution_count": 4,
   "outputs": [
    {
     "data": {
      "text/plain": "<Figure size 640x480 with 2 Axes>",
      "image/png": "[encoded data removed]"
     },
     "metadata": {},
     "output_type": "display_data"
    }
   ],
   "source": [
    "fig, axs = plt.subplots(1, 2)\n",
    "from modules.plot_helpers import confidence_ellipse_mean_cov\n",
    "all_params = [params_svmin, params_tov]\n",
    "for iax, ax in enumerate(axs):\n",
    "    params = all_params[iax]\n",
    "    offdiag = params[\"pearson\"] * params[\"sig1\"] * params[\"sig2\"]\n",
    "    cov = np.array([[params[\"sig1\"]**2, offdiag],\n",
    "                    [offdiag, params[\"sig2\"]**2]])\n",
    "    confidence_ellipse_mean_cov(ax=ax,\n",
    "                                mean=params[\"mean\"],\n",
    "                                cov=cov,\n",
    "                                n_std=1,\n",
    "                                edgecolor=\"k\", facecolor=\"k\")\n",
    "    ax.scatter(params[\"data\"][\"rho0\"], params[\"data\"][\"E/A\"], s=5)\n",
    "    ax.set_xlim(0.1595, 0.1635)\n",
    "    ax.set_ylim(-16.0, -15.85)\n",
    "    ax.set_title(params[\"label\"])"
   ],
   "metadata": {
    "collapsed": false,
    "pycharm": {
     "name": "#%%\n"
    }
   }
  },
  {
   "cell_type": "markdown",
   "source": [
    "With the interpretation of the variables described above, the confidence ellipses we obtain match well the ones P.G. Reinhard provided us with."
   ],
   "metadata": {
    "collapsed": false,
    "pycharm": {
     "name": "#%% md\n"
    }
   }
  },
  {
   "cell_type": "code",
   "execution_count": 5,
   "outputs": [],
   "source": [
    "data = {\n",
    "    \"label\": [params[\"label\"] for params in all_params],\n",
    "    \"mean rho0\": [params[\"mean\"][0] for params in all_params],\n",
    "    \"mean E/A\": [params[\"mean\"][1] for params in all_params],\n",
    "    \"sigma rho0\": [params[\"sig1\"] for params in all_params],\n",
    "    \"sigma E/A\": [params[\"sig2\"] for params in all_params],\n",
    "    \"rho\": [params[\"pearson\"] for params in all_params]\n",
    "}\n",
    "df = pd.DataFrame(data=data)\n",
    "df.to_csv(\"CovEllipse.dat\", index=False)"
   ],
   "metadata": {
    "collapsed": false,
    "pycharm": {
     "name": "#%%\n"
    }
   }
  },
  {
   "cell_type": "code",
   "execution_count": 5,
   "outputs": [],
   "source": [],
   "metadata": {
    "collapsed": false,
    "pycharm": {
     "name": "#%%\n"
    }
   }
  }
 ],
 "metadata": {
  "kernelspec": {
   "display_name": "Python 3",
   "language": "python",
   "name": "python3"
  },
  "language_info": {
   "codemirror_mode": {
    "name": "ipython",
    "version": 2
   },
   "file_extension": ".py",
   "mimetype": "text/x-python",
   "name": "python",
   "nbconvert_exporter": "python",
   "pygments_lexer": "ipython2",
   "version": "2.7.6"
  }
 },
 "nbformat": 4,
 "nbformat_minor": 0
}