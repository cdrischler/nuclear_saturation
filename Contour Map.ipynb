{
 "cells": [
  {
   "cell_type": "code",
   "execution_count": 1,
   "id": "fa1e773c",
   "metadata": {},
   "outputs": [
    {
     "data": {
      "image/png": "[encoded data removed]",
      "text/plain": [
       "<Figure size 432x288 with 1 Axes>"
      ]
     },
     "metadata": {
      "needs_background": "light"
     },
     "output_type": "display_data"
    }
   ],
   "source": [
    "import pandas as pd\n",
    "import numpy as np\n",
    "import matplotlib as mpl\n",
    "import matplotlib.pyplot as plt\n",
    "import seaborn as sns\n",
    "import corner\n",
    "\n",
    "def plotkde(filename):\n",
    "    data1 = np.loadtxt(filename, delimiter=',', skiprows=1)\n",
    "    x1=[]\n",
    "    y1=[]\n",
    "    for values1 in data1:\n",
    "        x1.append(values1[0])\n",
    "        y1.append(values1[1])\n",
    "    sns.kdeplot(data=data1,x=x1,y=y1,fill=False,levels=[.68,.95])\n",
    "    \n",
    "plotkde(\"data/forChristan_samples1.csv\")\n",
    "#plotkde(\"data/forChristan_samples2.csv\")\n",
    "#plotkde(\"data/forChristan_samples3.csv\")"
   ]
  },
  {
   "cell_type": "code",
   "execution_count": 2,
   "id": "44150d15",
   "metadata": {},
   "outputs": [
    {
     "data": {
      "text/html": [
       "<div>\n",
       "<style scoped>\n",
       "    .dataframe tbody tr th:only-of-type {\n",
       "        vertical-align: middle;\n",
       "    }\n",
       "\n",
       "    .dataframe tbody tr th {\n",
       "        vertical-align: top;\n",
       "    }\n",
       "\n",
       "    .dataframe thead th {\n",
       "        text-align: right;\n",
       "    }\n",
       "</style>\n",
       "<table border=\"1\" class=\"dataframe\">\n",
       "  <thead>\n",
       "    <tr style=\"text-align: right;\">\n",
       "      <th></th>\n",
       "      <th>Label</th>\n",
       "      <th>rho0</th>\n",
       "      <th>E/A</th>\n",
       "      <th>type</th>\n",
       "      <th>#rho0</th>\n",
       "    </tr>\n",
       "  </thead>\n",
       "  <tbody>\n",
       "    <tr>\n",
       "      <th>7</th>\n",
       "      <td>Ska35</td>\n",
       "      <td>0.158</td>\n",
       "      <td>-16.080000</td>\n",
       "      <td>Skyrme</td>\n",
       "      <td>NaN</td>\n",
       "    </tr>\n",
       "    <tr>\n",
       "      <th>8</th>\n",
       "      <td>SKRA</td>\n",
       "      <td>0.159</td>\n",
       "      <td>-15.780000</td>\n",
       "      <td>Skyrme</td>\n",
       "      <td>NaN</td>\n",
       "    </tr>\n",
       "    <tr>\n",
       "      <th>9</th>\n",
       "      <td>SkT1</td>\n",
       "      <td>0.161</td>\n",
       "      <td>-15.980000</td>\n",
       "      <td>Skyrme</td>\n",
       "      <td>NaN</td>\n",
       "    </tr>\n",
       "    <tr>\n",
       "      <th>10</th>\n",
       "      <td>SkT2</td>\n",
       "      <td>0.161</td>\n",
       "      <td>-15.940000</td>\n",
       "      <td>Skyrme</td>\n",
       "      <td>NaN</td>\n",
       "    </tr>\n",
       "    <tr>\n",
       "      <th>11</th>\n",
       "      <td>SkT3</td>\n",
       "      <td>0.161</td>\n",
       "      <td>-15.950000</td>\n",
       "      <td>Skyrme</td>\n",
       "      <td>NaN</td>\n",
       "    </tr>\n",
       "    <tr>\n",
       "      <th>...</th>\n",
       "      <td>...</td>\n",
       "      <td>...</td>\n",
       "      <td>...</td>\n",
       "      <td>...</td>\n",
       "      <td>...</td>\n",
       "    </tr>\n",
       "    <tr>\n",
       "      <th>5995</th>\n",
       "      <td>NaN</td>\n",
       "      <td>NaN</td>\n",
       "      <td>-15.762646</td>\n",
       "      <td>FC</td>\n",
       "      <td>0.158372</td>\n",
       "    </tr>\n",
       "    <tr>\n",
       "      <th>5996</th>\n",
       "      <td>NaN</td>\n",
       "      <td>NaN</td>\n",
       "      <td>-15.747243</td>\n",
       "      <td>FC</td>\n",
       "      <td>0.157417</td>\n",
       "    </tr>\n",
       "    <tr>\n",
       "      <th>5997</th>\n",
       "      <td>NaN</td>\n",
       "      <td>NaN</td>\n",
       "      <td>-15.783587</td>\n",
       "      <td>FC</td>\n",
       "      <td>0.157780</td>\n",
       "    </tr>\n",
       "    <tr>\n",
       "      <th>5998</th>\n",
       "      <td>NaN</td>\n",
       "      <td>NaN</td>\n",
       "      <td>-15.774422</td>\n",
       "      <td>FC</td>\n",
       "      <td>0.155705</td>\n",
       "    </tr>\n",
       "    <tr>\n",
       "      <th>5999</th>\n",
       "      <td>NaN</td>\n",
       "      <td>NaN</td>\n",
       "      <td>-15.792556</td>\n",
       "      <td>FC</td>\n",
       "      <td>0.157303</td>\n",
       "    </tr>\n",
       "  </tbody>\n",
       "</table>\n",
       "<p>6012 rows × 5 columns</p>\n",
       "</div>"
      ],
      "text/plain": [
       "      Label   rho0        E/A    type     #rho0\n",
       "7     Ska35  0.158 -16.080000  Skyrme       NaN\n",
       "8      SKRA  0.159 -15.780000  Skyrme       NaN\n",
       "9      SkT1  0.161 -15.980000  Skyrme       NaN\n",
       "10     SkT2  0.161 -15.940000  Skyrme       NaN\n",
       "11     SkT3  0.161 -15.950000  Skyrme       NaN\n",
       "...     ...    ...        ...     ...       ...\n",
       "5995    NaN    NaN -15.762646      FC  0.158372\n",
       "5996    NaN    NaN -15.747243      FC  0.157417\n",
       "5997    NaN    NaN -15.783587      FC  0.157780\n",
       "5998    NaN    NaN -15.774422      FC  0.155705\n",
       "5999    NaN    NaN -15.792556      FC  0.157303\n",
       "\n",
       "[6012 rows x 5 columns]"
      ]
     },
     "execution_count": 2,
     "metadata": {},
     "output_type": "execute_result"
    }
   ],
   "source": [
    "dtypes={\"rho0\":np.float64, \"E/aA\": np.float64}\n",
    "data_skyrme=pd.read_csv(\"data/satpoints_skyrme.csv\", comment=\"#\", dtype=dtypes)\n",
    "data_skyrme[\"type\"]=\"Skyrme\"\n",
    "data_rmf=pd.read_csv(\"data/satpoints_rmf.csv\", comment=\"#\", dtype=dtypes)\n",
    "data_rmf[\"type\"]=\"RMF\"\n",
    "data_FC=pd.read_csv(\"data/forChristan_samples1.csv\", dtype=dtypes)\n",
    "data_FC[\"type\"]=\"FC\"\n",
    "data=pd.concat([data_skyrme,data_rmf,data_FC])\n",
    "\n",
    "data.tail(n=6012)"
   ]
  },
  {
   "cell_type": "code",
   "execution_count": 3,
   "id": "5f067409",
   "metadata": {},
   "outputs": [
    {
     "data": {
      "image/png": "[encoded data removed]",
      "text/plain": [
       "<Figure size 244.8x244.8 with 1 Axes>"
      ]
     },
     "metadata": {
      "needs_background": "light"
     },
     "output_type": "display_data"
    }
   ],
   "source": [
    "def plotcorner(filename):\n",
    "    data = np.loadtxt(filename, delimiter = \",\", skiprows = 1)\n",
    "\n",
    "    x = []\n",
    "    y = []\n",
    "\n",
    "    for values in data:\n",
    "        x.append(values[0])\n",
    "        y.append(values[1])\n",
    "\n",
    "\n",
    "    x = np.array(x)\n",
    "    \n",
    "\n",
    "    corner.corner(x)\n",
    "\n",
    "plotcorner(\"data/forChristan_samples1.csv\")\n",
    "\n",
    "\n",
    "\n",
    "\n",
    "\n"
   ]
  },
  {
   "cell_type": "code",
   "execution_count": null,
   "id": "beeefeec",
   "metadata": {},
   "outputs": [],
   "source": []
  }
 ],
 "metadata": {
  "kernelspec": {
   "display_name": "Python 3 (ipykernel)",
   "language": "python",
   "name": "python3"
  },
  "language_info": {
   "codemirror_mode": {
    "name": "ipython",
    "version": 3
   },
   "file_extension": ".py",
   "mimetype": "text/x-python",
   "name": "python",
   "nbconvert_exporter": "python",
   "pygments_lexer": "ipython3",
   "version": "3.9.12"
  }
 },
 "nbformat": 4,
 "nbformat_minor": 5
}
