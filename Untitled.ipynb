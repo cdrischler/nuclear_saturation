{
 "cells": [
  {
   "cell_type": "code",
   "execution_count": 2,
   "id": "06d455ac",
   "metadata": {},
   "outputs": [
    {
     "name": "stdout",
     "output_type": "stream",
     "text": [
      "0.0002478046920499912\n"
     ]
    }
   ],
   "source": [
    "import pandas as pd\n",
    "import numpy as np\n",
    "\n",
    "dtypes = {\"hamiltonian\": str, \"hamiltonian_brief\": str, \"n0\": np.float64, \"En0\": np.float64, \"method\": str, \"mbpt_order\": np.float64, \"set_id\": str, \"reference\": str}\n",
    "mytypes = {\"n0\": np.float64, \"En0\": np.float64}\n",
    "data = pd.read_csv(\"data/saturation_points.csv\", comment = \"#\", usecols=[2,3])\n",
    "\n",
    "x = data[\"n0\"]\n",
    "y = data[\"En0\"]\n",
    "sigma = data[\"n0\"].var()   \n",
    "print(sigma)"
   ]
  },
  {
   "cell_type": "code",
   "execution_count": null,
   "id": "dfa5f67f",
   "metadata": {},
   "outputs": [],
   "source": []
  }
 ],
 "metadata": {
  "kernelspec": {
   "display_name": "Python 3 (ipykernel)",
   "language": "python",
   "name": "python3"
  },
  "language_info": {
   "codemirror_mode": {
    "name": "ipython",
    "version": 3
   },
   "file_extension": ".py",
   "mimetype": "text/x-python",
   "name": "python",
   "nbconvert_exporter": "python",
   "pygments_lexer": "ipython3",
   "version": "3.9.12"
  }
 },
 "nbformat": 4,
 "nbformat_minor": 5
}
