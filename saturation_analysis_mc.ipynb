{
 "cells": [
  {
   "cell_type": "markdown",
   "source": [
    "# Bayesian analysis of the empirical saturation point (MC version)\n",
    "\n",
    "This notebook provides an independent implementation of our saturation analysis using brute-force Monte Carlo sampling. It can be used to check and generalize our analysis using conjugate priors.\n"
   ],
   "metadata": {
    "collapsed": false
   }
  },
  {
   "cell_type": "code",
   "execution_count": 1,
   "metadata": {
    "collapsed": true
   },
   "outputs": [],
   "source": [
    "import emcee as mc\n",
    "import numpy as np\n",
    "import pandas as pd\n",
    "import numba as nb\n",
    "from scipy.optimize import minimize\n",
    "from scipy.stats import invwishart, multivariate_normal, multivariate_t"
   ]
  },
  {
   "cell_type": "markdown",
   "source": [
    "To test the analysis, let's create some dummy data from the prior we have used before:"
   ],
   "metadata": {
    "collapsed": false
   }
  },
  {
   "cell_type": "code",
   "execution_count": 2,
   "outputs": [],
   "source": [
    "prior_params = {\"mu\": np.array([0.16, -15.9]),\n",
    "                \"Lambda\": np.array([[0.01**2, 0], [0, 0.32**2]]),\n",
    "                \"kappa\": 1, \"nu\": 3}\n",
    "np.random.seed(42)\n",
    "tmp = multivariate_normal.rvs(mean=prior_params[\"mu\"], cov=prior_params[\"Lambda\"], size=1000)\n",
    "data = pd.DataFrame(data={\"n0\": tmp[:, 0], \"E0\": tmp[:, 1]})"
   ],
   "metadata": {
    "collapsed": false,
    "pycharm": {
     "name": "#%%\n"
    }
   }
  },
  {
   "cell_type": "markdown",
   "source": [
    "## Bayes' theorem\n",
    "\n",
    "Our analysis is based on Bayes' theorem. We need to define the prior, posterior, and likelihood. We use the (natural) logarithms of these quantities. The variables we will do the inference for are agglomerated in the parameter vector $\\theta = (\\mu_0, \\mu_1; \\Sigma_{0,0}, \\Sigma_{0,1}, \\Sigma_{1,1})$. To test the implementation, we define the $\\theta$ associated with the prior:"
   ],
   "metadata": {
    "collapsed": false
   }
  },
  {
   "cell_type": "code",
   "execution_count": 3,
   "outputs": [],
   "source": [
    "theta_prior = (prior_params[\"mu\"][0], prior_params[\"mu\"][1],\n",
    "           prior_params[\"Lambda\"][0, 0], prior_params[\"Lambda\"][0, 1],\n",
    "           prior_params[\"Lambda\"][1, 1])"
   ],
   "metadata": {
    "collapsed": false,
    "pycharm": {
     "name": "#%%\n"
    }
   }
  },
  {
   "cell_type": "code",
   "execution_count": 56,
   "outputs": [],
   "source": [
    "@nb.jit(nopython=True, fastmath=True)\n",
    "def validate_matrix(mat, raise_error=False, atol_sym=1e-08, atol_eval=1e-06):\n",
    "    \"\"\"\n",
    "    Checks that the 2x2 matrix `mat` is symmetric and positive definite\n",
    "    :param mat: 2x2 matrix\n",
    "    :param raise_error: raise error if not symmetric and positive definite\n",
    "    :param atol_sym: absolute tolerance used for comparison (symmetry)\n",
    "    :param atol_eval: absolute tolerance used for comparison (positiveness)\n",
    "    :return: returns boolean result of the validation\n",
    "    \"\"\"\n",
    "    stat_sym = np.abs(mat[0,1]-mat[1,0]) < atol_sym\n",
    "    #v, _ = np.linalg.eig(mat) # only `eig` supported by numba\n",
    "    eigvals = 0.5 * (mat[0,0] - np.array([1., -1]) * np.sqrt(4.* mat[0,1]*mat[1,0] + (mat[0,0] - mat[1,1])**2) + mat[1,1])\n",
    "    stat_pos_def = (eigvals > atol_eval).all()\n",
    "    stat = stat_sym and stat_pos_def\n",
    "    if not stat and raise_error:\n",
    "        raise ValueError(\"Non-symmetric 2x2 matrix encountered.\")\n",
    "    else:\n",
    "        return stat"
   ],
   "metadata": {
    "collapsed": false,
    "pycharm": {
     "name": "#%%\n"
    }
   }
  },
  {
   "cell_type": "code",
   "execution_count": 57,
   "outputs": [],
   "source": [
    "@nb.jit(nopython=True)\n",
    "def parse_theta_vec(theta):\n",
    "    \"\"\"\n",
    "    converts the array/vector `theta` into a mean value and (symmetric) covariance matrix\n",
    "    :param theta: contains the components of the mean vector and the non-redundant components of the (symmetric) covariance matrix\n",
    "    :return: mean vector, full covariance matrix\n",
    "    \"\"\"\n",
    "    mu = np.array([theta[0], theta[1]])\n",
    "    cov = np.array([[theta[2], theta[3]], [theta[3], theta[4]]])\n",
    "    return mu, cov"
   ],
   "metadata": {
    "collapsed": false,
    "pycharm": {
     "name": "#%%\n"
    }
   }
  },
  {
   "cell_type": "code",
   "execution_count": 58,
   "outputs": [],
   "source": [
    "def log_prior(theta):\n",
    "    \"\"\"\n",
    "    computes the log pdf of our chosen prior distribution, the normal-inverse-Wishart distribution\n",
    "    Note: we can't use here `numba` straightforwardly because it does not support the distribution functions; `numba-scipy` and `numba-stats` address this issue but the inverse Wishart distribution has not been implemented in these libraries\n",
    "    :param theta: parameter vector\n",
    "    :return: log pdf associated with the prior\n",
    "    \"\"\"\n",
    "    mu, sigma = parse_theta_vec(theta)\n",
    "    if not validate_matrix(sigma):\n",
    "        return -np.inf\n",
    "    log_norm = multivariate_normal.logpdf(x=mu, mean=prior_params[\"mu\"], cov=sigma/prior_params[\"kappa\"])\n",
    "    log_invwishart = invwishart.logpdf(x=sigma, df=prior_params[\"nu\"], scale=prior_params[\"Lambda\"])\n",
    "    return log_norm + log_invwishart"
   ],
   "metadata": {
    "collapsed": false,
    "pycharm": {
     "name": "#%%\n"
    }
   }
  },
  {
   "cell_type": "code",
   "execution_count": 59,
   "outputs": [],
   "source": [
    "@nb.jit(nopython=True, fastmath=True)\n",
    "def log_likelihood(theta, sat_data):\n",
    "    \"\"\"\n",
    "    computes the logarithm of the likelihood function, the standard Chi-squared likelihood function\n",
    "    :param theta: parameter vector\n",
    "    :param sat_data: array (number of point, 2) containing the datasets for the saturation density and energy\n",
    "    :return: logarithm of the likelihood function\n",
    "    \"\"\"\n",
    "    mu, sigma = parse_theta_vec(theta)\n",
    "    # exclude non-positive-definite covariance matrices\n",
    "    if not validate_matrix(sigma):\n",
    "        #print('covariance not valid')\n",
    "        return -np.inf\n",
    "    chi2 = 0.\n",
    "    sigma_inv = np.linalg.inv(sigma)\n",
    "    for row in sat_data:\n",
    "        diff = (row - mu)\n",
    "        chi2 += np.dot(diff, sigma_inv @ diff)\n",
    "    return -0.5 * (chi2 + len(sat_data) * np.log(np.abs(np.linalg.det(sigma))))"
   ],
   "metadata": {
    "collapsed": false,
    "pycharm": {
     "name": "#%%\n"
    }
   }
  },
  {
   "cell_type": "code",
   "execution_count": 50,
   "outputs": [],
   "source": [
    "def log_posterior(theta, sat_data):\n",
    "    \"\"\"\n",
    "    computes the log posterior, which is in this particular case also the normal-inverse-Wishart distribution (conjugagy).\n",
    "    :param theta: parameter vector\n",
    "    :param sat_data: pandas dataframe containing the datasets for the saturation density and energy\n",
    "    :return: log pdf associated with the posterior\n",
    "    \"\"\"\n",
    "    lp = log_prior(theta)\n",
    "    if not np.isfinite(lp):\n",
    "        return -np.inf\n",
    "    return lp + log_likelihood(theta, sat_data)"
   ],
   "metadata": {
    "collapsed": false,
    "pycharm": {
     "name": "#%%\n"
    }
   }
  },
  {
   "cell_type": "markdown",
   "source": [
    "### Testing our implementation"
   ],
   "metadata": {
    "collapsed": false
   }
  },
  {
   "cell_type": "markdown",
   "source": [
    "## Bayesian inference\n",
    "\n",
    "### Determine initial walker position using MLE or MAP\n",
    "\n",
    "We need to specify the initial position of the random walkers for Monte Carlo sampling. We use here either the MAP or MLE."
   ],
   "metadata": {
    "collapsed": false,
    "pycharm": {
     "name": "#%% md\n"
    }
   }
  },
  {
   "cell_type": "code",
   "execution_count": 27,
   "outputs": [],
   "source": [
    "def get_initial_walker_pos(function=log_posterior, method=\"Nelder-Mead\", return_theta=False, **kwargs):\n",
    "    \"\"\"\n",
    "    finds the maximum of the argument `function`; to be used to determine either the maximum a posterior (MAP) or maximum likelihood estimation (MLE)\n",
    "    :param function: either likelihood function or posterior or prior\n",
    "    :param method: method used for optimization, see scipy documentation\n",
    "    :param kwargs: options passed to the optimizer, see scipy documentation\n",
    "    :param return_theta: boolean to request solution vector or (mu, cov)\n",
    "    :return: mean value and covariance associated with the found maximum or found maximum (if return_theta)\n",
    "    \"\"\"\n",
    "    nll = lambda *args: -function(*args)\n",
    "    args = () if function == log_prior else (data.to_numpy(),)\n",
    "    sol = minimize(nll, theta_prior, args=args, method=method, options=kwargs)\n",
    "    mu, cov = parse_theta_vec(sol.x)\n",
    "    if not validate_matrix(cov):\n",
    "        raise ValueError(\"Covariance matrix not positive definite\")\n",
    "    return sol.x if return_theta else (mu, cov)"
   ],
   "metadata": {
    "collapsed": false,
    "pycharm": {
     "name": "#%%\n"
    }
   }
  },
  {
   "cell_type": "code",
   "execution_count": 28,
   "outputs": [],
   "source": [
    "map_estimate = get_initial_walker_pos(function=log_posterior, method=\"Nelder-Mead\", maxiter=10000000)\n",
    "mle_estimate = get_initial_walker_pos(function=log_likelihood, method=\"SLSQP\", maxiter=10000000)"
   ],
   "metadata": {
    "collapsed": false,
    "pycharm": {
     "name": "#%%\n"
    }
   }
  },
  {
   "cell_type": "markdown",
   "source": [
    "We expect both the MAP and MLE to be close to the (input) prior, so let's compute the difference of the respective mean values and covariance matrices:"
   ],
   "metadata": {
    "collapsed": false,
    "pycharm": {
     "name": "#%% md\n"
    }
   }
  },
  {
   "cell_type": "code",
   "execution_count": 29,
   "outputs": [
    {
     "name": "stdout",
     "output_type": "stream",
     "text": [
      "map\n",
      "[0.00057203 0.01061376]\n",
      "[[ 2.28988501e-06  7.91196393e-06]\n",
      " [ 7.91196393e-06 -8.34970776e-03]]\n",
      "estimated covariance matrix checks out: True\n",
      "mle\n",
      "[0.0005698  0.01061878]\n",
      "[[ 2.90476630e-06  8.08915365e-06]\n",
      " [ 8.08915365e-06 -7.80861038e-03]]\n",
      "estimated covariance matrix checks out: True\n"
     ]
    }
   ],
   "source": [
    "for lbl, est in ((\"map\", map_estimate), (\"mle\", mle_estimate)):\n",
    "    print(lbl)\n",
    "    mu, cov = est\n",
    "    print(mu-prior_params[\"mu\"])\n",
    "    print(cov-prior_params[\"Lambda\"])\n",
    "    print(\"estimated covariance matrix checks out:\", validate_matrix(cov))"
   ],
   "metadata": {
    "collapsed": false,
    "pycharm": {
     "name": "#%%\n"
    }
   }
  },
  {
   "cell_type": "markdown",
   "source": [
    "Sinc the prior is quite uninformed, the MLE and MAP are very close to each other, as expected."
   ],
   "metadata": {
    "collapsed": false
   }
  },
  {
   "cell_type": "markdown",
   "source": [
    "### Monte Carlo sampling\n",
    "\n",
    "We use the library `multiprocess` because `multiprocessing` has issues with Jupyter notebooks.\n",
    "\n",
    "Warning: runtime might be several hours depending on the configuration."
   ],
   "metadata": {
    "collapsed": false
   }
  },
  {
   "cell_type": "code",
   "execution_count": 12,
   "outputs": [],
   "source": [
    "import multiprocess as mp\n",
    "def run_mcmc_sampler(sat_data, nwalkers=1000, nsteps=50, nsteps_burn=50, log_prob_fn=log_posterior, num_threads=4, ndim=5, offset=1e-2):\n",
    "    \"\"\"\n",
    "    samples the function provided by `log_prob_fn`\n",
    "    :param sat_data: datasets for saturation point\n",
    "    :param nwalkers: number of walkers\n",
    "    :param nsteps: number of MCMC steps after burn-in phase\n",
    "    :param nsteps_burn: number of MCMC steps used for burn in\n",
    "    :param log_prob_fn: function to be sampled\n",
    "    :param num_threads: number of threads to be used\n",
    "    :param ndim: dimension of parameter vector `theta` (here: 5)\n",
    "    :param offset: magnitude of random displacement from walkers' initial positions\n",
    "    :return: sampler, pos, prob, state (see emcee documentation)\n",
    "    \"\"\"\n",
    "    if log_prob_fn == log_likelihood:\n",
    "        init_pos = get_initial_walker_pos(function=log_prob_fn, method=\"SLSQP\",\n",
    "        return_theta=True)\n",
    "    else:\n",
    "        init_pos = get_initial_walker_pos(function=log_posterior, method=\"Nelder-Mead\", return_theta=True)\n",
    "\n",
    "    if num_threads is None:\n",
    "        num_threads = mp.cpu_count()\n",
    "\n",
    "    args = None if log_prob_fn == log_prior else (sat_data.to_numpy(),)\n",
    "    with mp.Pool(num_threads) as pool:\n",
    "        # for multiprocessing with emcee, see https://emcee.readthedocs.io/en/stable/tutorials/parallel/#multiprocessing\n",
    "        # https://stackoverflow.com/questions/41385708/multiprocessing-example-giving-attributeerror\n",
    "        sampler = mc.EnsembleSampler(nwalkers=nwalkers, ndim=ndim,\n",
    "                                     log_prob_fn=log_prob_fn, args=args, pool=pool)\n",
    "        pos = init_pos + offset * np.random.randn(nwalkers, ndim)\n",
    "        if nsteps_burn > 0:\n",
    "            pos, _, _ = sampler.run_mcmc(initial_state=pos, nsteps=nsteps_burn, progress=True)\n",
    "            sampler.reset()\n",
    "        pos, prob, state = sampler.run_mcmc(initial_state=pos, nsteps=nsteps, progress=True)\n",
    "    return sampler, pos, prob, state"
   ],
   "metadata": {
    "collapsed": false,
    "pycharm": {
     "name": "#%%\n"
    }
   }
  },
  {
   "cell_type": "markdown",
   "source": [
    "### Testing\n",
    "\n",
    "We test here that that the implemented distribution functions match the analytically known results for the mean values.\n",
    "\n",
    "We begin the testing with the prior distribution:"
   ],
   "metadata": {
    "collapsed": false
   }
  },
  {
   "cell_type": "code",
   "execution_count": 60,
   "outputs": [
    {
     "name": "stderr",
     "output_type": "stream",
     "text": [
      "  0%|          | 0/10000 [00:00<?, ?it/s]/Users/cdrischler/Dropbox/Projects/nuclear_saturation/env_satpoint/lib/python3.9/site-packages/emcee/moves/red_blue.py:99: RuntimeWarning: invalid value encountered in double_scalars\n",
      "  lnpdiff = f + nlp - state.log_prob[j]\n",
      "100%|██████████| 10000/10000 [01:14<00:00, 134.90it/s]\n",
      "100%|██████████| 100000/100000 [12:22<00:00, 134.65it/s]\n"
     ]
    },
    {
     "data": {
      "text/plain": "array([ 1.60878782e-01, -1.58889536e+01,  1.42354180e-03, -4.85025238e-04,\n        3.77786437e-01])"
     },
     "execution_count": 60,
     "metadata": {},
     "output_type": "execute_result"
    }
   ],
   "source": [
    "sampler, pos, prob, state = run_mcmc_sampler(sat_data=data, log_prob_fn=log_prior, nwalkers=10, nsteps=100000, nsteps_burn=10000)\n",
    "samples = sampler.flatchain\n",
    "samples.mean(axis=0)"
   ],
   "metadata": {
    "collapsed": false,
    "pycharm": {
     "name": "#%%\n"
    }
   }
  },
  {
   "cell_type": "markdown",
   "source": [
    "Our expectation for the mean values from the prior distribution is a follows:\n",
    "$$\n",
    "E(\\mu) = \\mu_0 \\;, \\qquad\n",
    "E(\\Sigma) = \\frac{\\Sigma}{\\nu - p -1} \\quad \\mathrm{for} \\; \\nu > p + 1\n",
    "$$\n",
    "with $p=2$ being associated with rank of the $p \\times p$ covariance matrix $\\Sigma$. Hence, the mean value of the covariance matrix is _undefined_ in our case."
   ],
   "metadata": {
    "collapsed": false,
    "pycharm": {
     "name": "#%% md\n"
    }
   }
  },
  {
   "cell_type": "code",
   "execution_count": 13,
   "outputs": [],
   "source": [
    "def mean_val_inv_wish(Lambda, nu):\n",
    "    \"\"\"\n",
    "    computes the mean value of the Inverse-Wishart distribution, see https://en.wikipedia.org/wiki/Inverse-Wishart_distribution\n",
    "    :param Lambda: covariance matrix\n",
    "    :param nu: degree of freedom\n",
    "    :return: mean value of the associated Inverse-Wishart distribution\n",
    "    \"\"\"\n",
    "    p = len(Lambda)\n",
    "    return Lambda / (nu - p - 1) if nu > p+1 else np.inf"
   ],
   "metadata": {
    "collapsed": false,
    "pycharm": {
     "name": "#%%\n"
    }
   }
  },
  {
   "cell_type": "code",
   "execution_count": 14,
   "outputs": [
    {
     "name": "stdout",
     "output_type": "stream",
     "text": [
      "mean of mean vector: [  0.16 -15.9 ]\n",
      "mean of covariance matrix: inf\n"
     ]
    }
   ],
   "source": [
    "mean_mean_vec = prior_params[\"mu\"]\n",
    "mean_cov = mean_val_inv_wish(prior_params[\"Lambda\"], prior_params[\"nu\"])\n",
    "print(f\"mean of mean vector: {mean_mean_vec}\")\n",
    "print(f\"mean of covariance matrix: {mean_cov}\")"
   ],
   "metadata": {
    "collapsed": false,
    "pycharm": {
     "name": "#%%\n"
    }
   }
  },
  {
   "cell_type": "markdown",
   "source": [
    "The mean vector matches well the one from the prior.\n",
    "\n",
    "Next, let's consider the posterior distribution:"
   ],
   "metadata": {
    "collapsed": false,
    "pycharm": {
     "name": "#%% md\n"
    }
   }
  },
  {
   "cell_type": "code",
   "execution_count": 64,
   "outputs": [
    {
     "name": "stderr",
     "output_type": "stream",
     "text": [
      "  0%|          | 0/5000 [00:00<?, ?it/s]/Users/cdrischler/Dropbox/Projects/nuclear_saturation/env_satpoint/lib/python3.9/site-packages/emcee/moves/red_blue.py:99: RuntimeWarning: invalid value encountered in double_scalars\n",
      "  lnpdiff = f + nlp - state.log_prob[j]\n",
      "100%|██████████| 5000/5000 [00:40<00:00, 122.34it/s]\n",
      "100%|██████████| 100000/100000 [14:03<00:00, 118.48it/s]\n"
     ]
    }
   ],
   "source": [
    "sampler, pos, prob, state = run_mcmc_sampler(sat_data=data, log_prob_fn=log_posterior, nwalkers=10, nsteps=100000, nsteps_burn=5000)"
   ],
   "metadata": {
    "collapsed": false,
    "pycharm": {
     "name": "#%%\n"
    }
   }
  },
  {
   "cell_type": "code",
   "execution_count": 65,
   "outputs": [
    {
     "data": {
      "text/plain": "array([ 1.61370948e-01, -1.58900320e+01, -2.27777506e-03,  3.45362686e-04,\n        9.51105654e-02])"
     },
     "execution_count": 65,
     "metadata": {},
     "output_type": "execute_result"
    }
   ],
   "source": [
    "samples = sampler.flatchain\n",
    "samples.mean(axis=0)"
   ],
   "metadata": {
    "collapsed": false,
    "pycharm": {
     "name": "#%%\n"
    }
   }
  },
  {
   "cell_type": "markdown",
   "source": [
    "Our expectation for the mean values from the updated prior distribution due to conjugacy is as follows (see our manuscript for the equations):"
   ],
   "metadata": {
    "collapsed": false,
    "pycharm": {
     "name": "#%% md\n"
    }
   }
  },
  {
   "cell_type": "code",
   "execution_count": 66,
   "outputs": [
    {
     "name": "stdout",
     "output_type": "stream",
     "text": [
      "expected mean vector [  0.16056925 -15.88939104]\n",
      "expected covariance matrix: [[1.03011545e-04 8.06869820e-06]\n",
      " [8.06869820e-06 9.46951596e-02]]\n"
     ]
    }
   ],
   "source": [
    "ret = dict()\n",
    "ret[\"kappa\"] = prior_params[\"kappa\"] + len(data)\n",
    "ret[\"nu\"] = prior_params[\"nu\"] + len(data)\n",
    "ret[\"sample_mean\"] = data.mean().to_numpy()\n",
    "ret[\"mu\"] = np.array([prior_params[\"kappa\"], len(data)]) @ np.array([prior_params[\"mu\"], ret[\"sample_mean\"]]) /ret[\"kappa\"]\n",
    "diff = ret[\"sample_mean\"] - prior_params[\"mu\"]\n",
    "tmp = data - ret[\"sample_mean\"]\n",
    "ret[\"sum_squared_dev\"] = np.sum([np.outer(row.to_numpy(), row.to_numpy()) for irow, row in tmp.iterrows()], axis=0)\n",
    "ret[\"Lambda\"] = prior_params[\"Lambda\"] + ret[\"sum_squared_dev\"] + (prior_params[\"kappa\"] * len(data) / ret[\"kappa\"]) * np.outer(diff, diff)\n",
    "print(\"expected mean vector\", ret[\"mu\"])\n",
    "print(\"expected covariance matrix:\", mean_val_inv_wish(ret[\"Lambda\"], ret[\"nu\"]))"
   ],
   "metadata": {
    "collapsed": false,
    "pycharm": {
     "name": "#%%\n"
    }
   }
  },
  {
   "cell_type": "markdown",
   "source": [
    "Note that $\\Sigma_{1,1}$ (lower right) is large \\[Note that the matrix elements above include the denominator from the mean value\\]. Does that make sense? But keep in mind that $\\Sigma/\\kappa_n$ will be used as covariance matrix in the normal distribution (of the Normal-Inverse Wishart)---but not in the inverse Wishart distribution.\n",
    "\n",
    "The mean vector looks like a match. Except for the $\\Sigma_{11}$ component, it does not look like a good match for $\\Sigma$. Here are the ratios of the matrix elements:"
   ],
   "metadata": {
    "collapsed": false
   }
  },
  {
   "cell_type": "code",
   "execution_count": 67,
   "outputs": [
    {
     "data": {
      "text/plain": "array([[-22.11184254,  42.80277646],\n       [ 42.80277646,   1.00438677]])"
     },
     "execution_count": 67,
     "metadata": {},
     "output_type": "execute_result"
    }
   ],
   "source": [
    "m, c = parse_theta_vec(samples.mean(axis=0))\n",
    "c/mean_val_inv_wish(ret[\"Lambda\"], ret[\"nu\"])"
   ],
   "metadata": {
    "collapsed": false,
    "pycharm": {
     "name": "#%%\n"
    }
   }
  },
  {
   "cell_type": "markdown",
   "source": [
    "## Useful links\n",
    "\n",
    "* [Covariances and Pearson correlation](https://cxwangyi.wordpress.com/2010/08/29/pearson-correlation-coefficient-covariance-matrix-and-linear-dependency/)\n",
    "* [emcee tutorial for fitting (1)](https://prappleizer.github.io/Tutorials/MCMC/MCMC_Tutorial_Solution.html)\n",
    "* [emcee tutorial for fitting (2)](https://users.obs.carnegiescience.edu/cburns/ipynbs/Emcee.html)\n",
    "* [emcee tutorial for fitting (3)](https://emcee.readthedocs.io/en/stable/tutorials/line/)\n",
    "* [multivariate normal distribution](https://online.stat.psu.edu/stat505/book/export/html/636)\n",
    "* [A Note on Wishart and Inverse Wishart Priors for Covariance Matrix](https://jbds.isdsa.org/public/journals/1/html/v1n2/p2/)"
   ],
   "metadata": {
    "collapsed": false,
    "pycharm": {
     "name": "#%% md\n"
    }
   }
  }
 ],
 "metadata": {
  "kernelspec": {
   "display_name": "Python 3",
   "language": "python",
   "name": "python3"
  },
  "language_info": {
   "codemirror_mode": {
    "name": "ipython",
    "version": 2
   },
   "file_extension": ".py",
   "mimetype": "text/x-python",
   "name": "python",
   "nbconvert_exporter": "python",
   "pygments_lexer": "ipython2",
   "version": "2.7.6"
  }
 },
 "nbformat": 4,
 "nbformat_minor": 0
}