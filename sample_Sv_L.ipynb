{
 "cells": [
  {
   "attachments": {},
   "cell_type": "markdown",
   "id": "1456412e",
   "metadata": {},
   "source": [
    "# Semi-microscopic constraints of nuclear symmetry energy parameters\n",
    "\n",
    "This notebook derives constraints on the nuclear symmetry energy parameters $(S_v,L)$ from chiral EFT calculations in pure neutron matter combined with empirical constraints on the nuclear saturation point.\n",
    "\n",
    "The notebook is a minimalistic version of BUQEYE's [`derivatives-bands.ipynb`](https://github.com/buqeye/nuclear-matter-convergence/blob/master/analysis/derivatives-bands.ipynb) for this specific purpose.\n",
    "\n",
    "## Installation\n",
    "\n",
    "Navigate to the root directory of the `nuclear_saturation` repository and follow these instructions to install the code:\n",
    "\n",
    "```shell\n",
    "python3 -m venv env_esym  # in the root dir of this repository\n",
    "source env_esym/bin/activate\n",
    "python3 -m pip install -r requirements_esym.txt\n",
    "python3 -m ipykernel install --name \"nuclear-esym\"\n",
    "```\n",
    "\n",
    "For completeness, we state the packages would need to be installed manually:\n",
    "```shell\n",
    "python3 -m pip install numpy\n",
    "python3 -m pip install sympy\n",
    "python3 -m pip install jupyter\n",
    "python3 -m pip install corner\n",
    "python3 -m pip install arviz\n",
    "python3 -m pip install gsum\n",
    "python3 -m pip install pymc3\n",
    "python3 -m pip install statsmodels\n",
    "python3 -m pip install docrep\n",
    "python3 -m pip install findiff\n",
    "python3 -m pip install seaborn\n",
    "python3 -m pip uninstall gsum\n",
    "python3 -m pip uninstall gptools\n",
    "python3 -m pip install git+https://github.com/buqeye/gsum\n",
    "python3 -m pip install Cython\n",
    "python3 -m pip install git+https://github.com/markchil/gptools\n",
    "python3 -m pip install tqdm\n",
    "```\n",
    "\n",
    "Clone BUQEYE's GitHub repository [nuclear-matter-convergence](https://github.com/buqeye/nuclear-matter-convergence) to your computer [e.g., in `~/GitHub/nuclear-matter-convergence`] and tell your Python interpreter where to find it:"
   ]
  },
  {
   "cell_type": "code",
   "execution_count": 11,
   "id": "1fe43304",
   "metadata": {},
   "outputs": [],
   "source": [
    "import sys\n",
    "PATH_BUQEYE_NUCLMATT = '~/GitHub/nuclear-matter-convergence' # this might be different\n",
    "sys.path.append(PATH_BUQEYE_NUCLMATT)"
   ]
  },
  {
   "cell_type": "markdown",
   "id": "6073a863",
   "metadata": {},
   "source": [
    "Now, you should be able to import the BUQEYE packages for EOS truncation error analysis and sampling:"
   ]
  },
  {
   "cell_type": "code",
   "execution_count": 2,
   "id": "05f03257",
   "metadata": {},
   "outputs": [
    {
     "name": "stdout",
     "output_type": "stream",
     "text": [
      "Deprecation Warning: 'triangle' has been renamed to 'corner'. This shim should continue to work but you should use 'import corner' in new code. https://github.com/dfm/corner.py\n"
     ]
    }
   ],
   "source": [
    "%load_ext autoreload\n",
    "%autoreload 2\n",
    "%matplotlib inline\n",
    "\n",
    "import numpy as np\n",
    "from scipy import stats\n",
    "import pandas as pd\n",
    "from nuclear_matter import fermi_momentum, nuclear_density, kf_derivative_wrt_density\n",
    "from nuclear_matter import compute_pressure, compute_pressure_cov\n",
    "from nuclear_matter import compute_slope, compute_slope_cov\n",
    "from nuclear_matter import compute_compressibility, compute_compressibility_cov\n",
    "from nuclear_matter import compute_speed_of_sound\n",
    "from nuclear_matter import setup_rc_params\n",
    "from nuclear_matter import InputData\n",
    "from nuclear_matter import confidence_ellipse, confidence_ellipse_mean_cov\n",
    "from nuclear_matter.graphs import add_top_order_legend, compute_filled_handles, plot_empirical_saturation\n",
    "from nuclear_matter.derivatives import ObservableContainer"
   ]
  },
  {
   "cell_type": "markdown",
   "id": "1dbdb329",
   "metadata": {},
   "source": [
    "## Sampling strategy\n",
    "\n",
    "As discussed in the manuscript, we use the standard quadratic approximation of the EOS's isospin dependence to constraint $(S_v,L)$:\n",
    "\n",
    "\\begin{align} \n",
    "    S_v = \\frac{E}{N}(n_0) - E_0 \\quad \\text{and} \\quad \n",
    "%   L &= 3n_0 \\dv{n}\\frac{E}{N}(n)\\bigg|_{n=n_0} \\,.\n",
    "    L = \\frac{3}{n_0} p(n_0) =  3 n_0  \\frac{d}{dn} \\frac{E}{N}(n) \\big|_{n=n_0}\\,.\n",
    "% P(n_0) &= n^2 \\dv{n} \\frac{E}{N}(n)\\bigg|_{n=n_0} \\, ,\n",
    "\\end{align}\n",
    "\n",
    "The microscopic input of our calculations are the neutron matter results for $(E(n_0)/N, p(n_0))$ obtained by the BUQEYE collaboration (see their [GitHub repository](https://github.com/buqeye/nuclear-matter-convergence)) with correlated to-all-orders EFT truncation errors fully quantified.\n",
    "\n",
    "The empirical input of our calculations are our inferred empirical saturation points. \n",
    "\n",
    "Specifically, we marginalize as follows:\n",
    "$$\n",
    "P(S_v,L) = \\int dn_0 \\int dE_0 \\, P(S_v,L \\mid n_0, E_0) \\, P(n_0, E_0)\\,,\n",
    "$$\n",
    "where $P(n_0, E_0)$ is the posterior predictive obtained in our manuscript."
   ]
  },
  {
   "cell_type": "code",
   "execution_count": 20,
   "id": "41aef906",
   "metadata": {},
   "outputs": [],
   "source": [
    "def sample_sv_l(posterior_predict_params, num_sats=101, num_GP_samples=50, Lambda=500, high_density=True):\n",
    "    \"\"\"\n",
    "    samples (S_v,L) as described above.\n",
    "\n",
    "    Parameters:\n",
    "    -----------\n",
    "    posterior_predict_params: dict() specifiying the mean vector, scale matrix, and dof \n",
    "    of the (empirical) saturation point\n",
    "    num_sats: number of samples from the empirical saturation point\n",
    "    num_GP_samples: number of samples from the PNM GP-B EOS (at N3LO) per empirical saturation point sample\n",
    "    Lambda: either 450 or 500 (in MeV): momentum cutoff of the interactions\n",
    "    high_density: (boolean) whether the results up to 2nsat or just 1.2nsat should be used \n",
    "    (shouldn't make a difference for this application)\n",
    "\n",
    "    [This function could be written more efficiently.]\n",
    "    \"\"\"\n",
    "\n",
    "    # initializing of the GPs for the PNM EOS following the\n",
    "    # BUQEYE Jupyter notebooks for the nuclear matter convergence\n",
    "    if Lambda not in (500, 450):\n",
    "        raise ValueError(f\"Requested Lambda {Lambda} not supported.\")\n",
    "\n",
    "    if high_density:\n",
    "        filename = f'{PATH_BUQEYE_NUCLMATT}/data/all_matter_data_high_density.csv'\n",
    "    else:\n",
    "        filename = '{PATH_BUQEYE_NUCLMATT}/data/all_matter_data.csv'\n",
    "        \n",
    "    data = InputData(filename, Lambda)\n",
    "    density = data.density\n",
    "    kf_n = data.kf_n\n",
    "    density_all = np.arange(density[0], density[-1], 0.005)\n",
    "    kf_n_all = fermi_momentum(density_all, degeneracy=2)\n",
    "    y_n_2_plus_3bf = data.y_n_2_plus_3bf\n",
    "    orders = np.array([0, 2, 3, 4])\n",
    "    breakdown = 600 # MeV\n",
    "    verbose = True\n",
    "    kf0_n = fermi_momentum(0.16, 2)  # constant value, consistent with BUQEYE paper(s)\n",
    "\n",
    "    ref_neutron = 16 / kf0_n**2\n",
    "\n",
    "    if Lambda == 500:\n",
    "        std_neutron = 1.00\n",
    "        ls_neutron = 0.973\n",
    "    elif Lambda == 450:\n",
    "        std_neutron = 0.8684060649936118\n",
    "        ls_neutron = 0.7631421388401067\n",
    "    min_uncertainty = 0.02  # Twenty keV\n",
    "    uncertainty_factor = 0.001  # 0.1%\n",
    "    err_y_n = np.abs(y_n_2_plus_3bf[:, -1]) * uncertainty_factor\n",
    "    err_y_n[np.abs(err_y_n) < min_uncertainty] = min_uncertainty\n",
    "    obs_neutron = ObservableContainer(\n",
    "        density=density,\n",
    "        kf=kf_n,\n",
    "        y=y_n_2_plus_3bf,\n",
    "        orders=orders,\n",
    "        density_interp=density_all,\n",
    "        kf_interp=kf_n_all,\n",
    "        std=std_neutron,\n",
    "        ls=ls_neutron,\n",
    "        ref=ref_neutron,\n",
    "        breakdown=breakdown,\n",
    "        err_y=err_y_n,\n",
    "        include_3bf=False,\n",
    "        derivs=[0, 1, 2],\n",
    "        verbose=verbose,\n",
    "    )\n",
    "    # emp_sat_point_dist = stats.multivariate_normal(\n",
    "    #     mean=[0.17, -16.], \n",
    "    #     cov=np.diag([0.01**2, 0.1**2])\n",
    "    # )\n",
    "\n",
    "    # use a default PPD for the empirical saturation point,\n",
    "    # if none is provided\n",
    "    if posterior_predict_params is None:\n",
    "        dist_kwargs = dict(\n",
    "            loc=[  0.16083667, -15.9292    ], \n",
    "            shape=np.array([[1.07708821e-05, 1.65382275e-04],\n",
    "            [1.65382275e-04, 2.74842604e-02]]),\n",
    "            df=17\n",
    "        )\n",
    "    else:\n",
    "        dist_kwargs = dict(\n",
    "            loc=posterior_predict_params[\"mu\"], \n",
    "            shape=posterior_predict_params[\"Psi\"],\n",
    "            df=posterior_predict_params[\"nu\"]\n",
    "        )    \n",
    "\n",
    "    # the posterior predictive is a bivariate t-distribution;\n",
    "    # sample PNM E/N and pressure from GP-B\n",
    "    emp_sat_point_dist = stats.multivariate_t(**dist_kwargs)\n",
    "    np.random.seed(512)\n",
    "    de_sats = np.atleast_2d(emp_sat_point_dist.rvs(num_sats))\n",
    "    d_sats = de_sats[:, 0]\n",
    "    e_sats = de_sats[:, 1]\n",
    "    kf_n_sats = fermi_momentum(d_sats, 2)\n",
    "    Kf_n_sats = kf_n_sats[:, None]\n",
    "\n",
    "    def compute_Esym_L(kf, n, e, E_dE, E_dE_cov):\n",
    "        \"\"\"\n",
    "        computes (S_v=Esym,L) for a given Fermi momentum `kf`, corresponding density `n` and SNM energy `e`;\n",
    "        `S2_dS2` and `S2_dS2_cov` are the (value, derivative) and joint covariance matrix of the\n",
    "        energy per neturon (E/N) and it's density derivative (E'/N) at that density `n`. \n",
    "        \"\"\"\n",
    "        to_Esym_L_mat = np.array([\n",
    "            [1, 0],\n",
    "            [0, 3*n*kf_derivative_wrt_density(kf, n)]  # the derivative is w.r.t. to kf, not the density\n",
    "        ])\n",
    "        S2_L = to_Esym_L_mat @ E_dE - np.array([e, 0])\n",
    "        S2_L_cov = to_Esym_L_mat @ E_dE_cov @ to_Esym_L_mat.T\n",
    "        return S2_L, S2_L_cov\n",
    "\n",
    "    from tqdm import tqdm\n",
    "    np.random.seed(1024)\n",
    "    df = []\n",
    "    for index in tqdm(range(num_sats), desc=\"Sampling emp. sat. point\"):  # could be easily parallelized\n",
    "        E_dE, E_dE_cov = obs_neutron.predict(np.atleast_2d(Kf_n_sats[index]), order=4, derivs=[0, 1])   # order is 4 (N3LO)\n",
    "        E_L_mean, E_L_cov = compute_Esym_L(kf=kf_n_sats[index], n=d_sats[index], e=e_sats[index],\n",
    "                                           E_dE=E_dE, E_dE_cov=E_dE_cov)\n",
    "        # note that the derivative is w.r.t. kf, not the density\n",
    "        sample = stats.multivariate_normal.rvs(mean=E_L_mean, cov=E_L_cov, size=num_GP_samples)\n",
    "        df.append(pd.DataFrame(np.atleast_2d(sample), columns=(\"Sv\", \"L\")))\n",
    "    return pd.concat(df)"
   ]
  },
  {
   "attachments": {},
   "cell_type": "markdown",
   "id": "45414f24",
   "metadata": {},
   "source": [
    "Let's run a simple sanity test, assuming the saturation point is given by exactly the canonical value of (0.16 $\\mathrm{fm}^{-3}$, -16 MeV). In that case, we ought to reproduce BUQEYE's published results for the marginal distributions:"
   ]
  },
  {
   "cell_type": "code",
   "execution_count": 35,
   "id": "7699bac4",
   "metadata": {},
   "outputs": [
    {
     "name": "stdout",
     "output_type": "stream",
     "text": [
      "For EFT order 0, the best polynomial has max nu = 8\n",
      "For EFT order 2, the best polynomial has max nu = 8\n",
      "For EFT order 3, the best polynomial has max nu = 8\n",
      "For EFT order 4, the best polynomial has max nu = 8\n"
     ]
    },
    {
     "name": "stderr",
     "output_type": "stream",
     "text": [
      "Sampling emp. sat. point: 100%|██████████| 1/1 [00:03<00:00,  3.53s/it]\n"
     ]
    },
    {
     "name": "stdout",
     "output_type": "stream",
     "text": [
      "Sv (sampled): 32.362 +/- 0.987 MeV\n",
      "expected Sv [32.36297218  0.986838  ]\n",
      "L (sampled): 54.331 +/- 7.577 MeV\n",
      "expect L [54.33503047  7.57715677]\n"
     ]
    }
   ],
   "source": [
    "nsat, esat = 0.16, -16.  # fm**-3 / MeV\n",
    "dist_kwargs = dict(\n",
    "            mu=[  nsat, esat    ], \n",
    "            Psi=np.eye(2)*1e-9,\n",
    "            nu=160000  # normal\n",
    "        )\n",
    "\n",
    "dat = sample_sv_l(posterior_predict_params=dist_kwargs, num_sats=1, num_GP_samples = 50000000, Lambda=500)\n",
    "dat_mean = dat.mean()\n",
    "dat_std = np.sqrt(np.diag(dat.cov()))\n",
    "print(f'Sv (sampled): {dat_mean[\"Sv\"]:.3f} +/- {dat_std[0]:.3f} MeV')\n",
    "print(\"expected Sv [MeV]\", np.array([16.362972180704700 - esat, 0.9868380045082120]))  # Sv (data from BUQEYE)  # for 500 MeV interaction\n",
    "print(f'L (sampled): {dat_mean[\"L\"]:.3f} +/- {dat_std[1]:.3f} MeV')\n",
    "print(\"expected L [MeV]\", np.array([2.8978682916931900, 0.4041150279261480]) * 3. / nsat)  # Slope parameter (mean, std; data from BUQEYE)  # for 500 MeV interaction"
   ]
  },
  {
   "attachments": {},
   "cell_type": "markdown",
   "id": "0c17a8b8",
   "metadata": {},
   "source": [
    "The sample estimates and expected values match well. Note that since the empirical saturation point is given by a point estimate, we only need to sample it only once. We can perform another check by plotting the samples with more samples, including more samples from the distribution describing the empirical saturation point:"
   ]
  },
  {
   "cell_type": "code",
   "execution_count": 38,
   "id": "39ac2f77",
   "metadata": {},
   "outputs": [
    {
     "name": "stdout",
     "output_type": "stream",
     "text": [
      "For EFT order 0, the best polynomial has max nu = 8\n",
      "For EFT order 2, the best polynomial has max nu = 8\n",
      "For EFT order 3, the best polynomial has max nu = 8\n",
      "For EFT order 4, the best polynomial has max nu = 8\n"
     ]
    },
    {
     "name": "stderr",
     "output_type": "stream",
     "text": [
      "Sampling emp. sat. point: 100%|██████████| 10100/10100 [03:37<00:00, 46.47it/s]\n"
     ]
    },
    {
     "name": "stdout",
     "output_type": "stream",
     "text": [
      "Pandas support in corner is deprecated; use ArviZ directly\n"
     ]
    },
    {
     "data": {
      "image/png": "[encoded data removed]",
      "text/plain": [
       "<Figure size 400x400 with 4 Axes>"
      ]
     },
     "metadata": {},
     "output_type": "display_data"
    }
   ],
   "source": [
    "import matplotlib.pyplot as plt\n",
    "import arviz as az\n",
    "import corner\n",
    "df = sample_sv_l(posterior_predict_params=dist_kwargs, num_sats=10100, num_GP_samples=50, Lambda=500)\n",
    "fig, axes = plt.subplots(2, 2, figsize=(4, 4), constrained_layout=False)\n",
    "fig = corner.corner(\n",
    "    data=df,\n",
    "    range=[(28, 36), (5, 100)],\n",
    "    labels=[r'$S_v$ [MeV]', r'$L$ [MeV]'], \n",
    "    fig=fig,\n",
    "    bins=180,\n",
    "    quantiles=(0.16, 0.5, 0.84),  # note that the median (=0.5) and mean may be (slightly different)\n",
    "    levels=(1-np.exp(-0.5), 1-np.exp(-0.5*2**2)),\n",
    "    show_titles=True, \n",
    "    title_kwargs={\"fontsize\": 9}\n",
    ")"
   ]
  },
  {
   "attachments": {},
   "cell_type": "markdown",
   "id": "955d4e5b",
   "metadata": {},
   "source": [
    "## Sampling nuclear symmetry parameters\n",
    "\n",
    "First, we need to import the inferred (empirical) saturation points. They are located in the folder `samples`:"
   ]
  },
  {
   "cell_type": "code",
   "execution_count": 44,
   "id": "b98bf882",
   "metadata": {},
   "outputs": [],
   "source": [
    "import pickle\n",
    "filename = \"./samples/results_posteriors.pkl\"\n",
    "with open(filename, 'rb') as fp:\n",
    "    res_postpred = pickle.load(fp)"
   ]
  },
  {
   "cell_type": "markdown",
   "id": "873ff941",
   "metadata": {},
   "source": [
    "Next, we can use the empirical saturation points (together with the microscopic PNM calculations) to constraint $(S_v,L)$ for all prior sets, scenarios, and momentum cutoffs:"
   ]
  },
  {
   "cell_type": "code",
   "execution_count": 45,
   "id": "e3efb4ae",
   "metadata": {},
   "outputs": [
    {
     "name": "stdout",
     "output_type": "stream",
     "text": [
      "Working on prior 'Set A' (500 Mev interaction)\n",
      "--------------------------------------------------\n",
      "\twith data config: satbox\n",
      "For EFT order 0, the best polynomial has max nu = 8\n",
      "For EFT order 2, the best polynomial has max nu = 8\n",
      "For EFT order 3, the best polynomial has max nu = 8\n",
      "For EFT order 4, the best polynomial has max nu = 8\n"
     ]
    },
    {
     "name": "stderr",
     "output_type": "stream",
     "text": [
      "Sampling emp. sat. point: 100%|██████████| 10000/10000 [03:04<00:00, 54.18it/s]\n"
     ]
    },
    {
     "name": "stdout",
     "output_type": "stream",
     "text": [
      "fit of a bivariate t distribution with finite dof in ((3, 40)) failed: 'f(a) and f(b) must have different signs'\n",
      "assuming Normal distribution instead\n",
      "++++++++++++++++++++++++++++++\n",
      "fit new {'mu': array([32.39234947, 54.92750505]), 'Psi': array([[ 1.15344594,  8.30264433],\n",
      "       [ 8.30264433, 64.9791018 ]]), 'nu': inf}\n",
      "++++++++++++++++++++++++++++++\n",
      "\twith data config: satbox_wo_SQMC700\n",
      "For EFT order 0, the best polynomial has max nu = 8\n",
      "For EFT order 2, the best polynomial has max nu = 8\n",
      "For EFT order 3, the best polynomial has max nu = 8\n",
      "For EFT order 4, the best polynomial has max nu = 8\n"
     ]
    },
    {
     "name": "stderr",
     "output_type": "stream",
     "text": [
      "Sampling emp. sat. point: 100%|██████████| 10000/10000 [03:03<00:00, 54.59it/s]\n"
     ]
    },
    {
     "name": "stdout",
     "output_type": "stream",
     "text": [
      "fit of a bivariate t distribution with finite dof in ((3, 40)) failed: 'f(a) and f(b) must have different signs'\n",
      "assuming Normal distribution instead\n",
      "++++++++++++++++++++++++++++++\n",
      "fit new {'mu': array([32.33928638, 54.42508775]), 'Psi': array([[ 1.09784854,  7.77147689],\n",
      "       [ 7.77147689, 59.96538734]]), 'nu': inf}\n",
      "++++++++++++++++++++++++++++++\n",
      "\twith data config: all-but-fsu\n",
      "For EFT order 0, the best polynomial has max nu = 8\n",
      "For EFT order 2, the best polynomial has max nu = 8\n",
      "For EFT order 3, the best polynomial has max nu = 8\n",
      "For EFT order 4, the best polynomial has max nu = 8\n"
     ]
    },
    {
     "name": "stderr",
     "output_type": "stream",
     "text": [
      "Sampling emp. sat. point: 100%|██████████| 10000/10000 [03:10<00:00, 52.41it/s]\n"
     ]
    },
    {
     "name": "stdout",
     "output_type": "stream",
     "text": [
      "++++++++++++++++++++++++++++++\n",
      "fit new {'mu': array([32.04206675, 52.61015777]), 'Psi': array([[ 1.13602527,  8.05238289],\n",
      "       [ 8.05238289, 61.90868557]]), 'nu': 39}\n",
      "++++++++++++++++++++++++++++++\n",
      "Working on prior 'Set B' (500 Mev interaction)\n",
      "--------------------------------------------------\n",
      "\twith data config: satbox\n",
      "For EFT order 0, the best polynomial has max nu = 8\n",
      "For EFT order 2, the best polynomial has max nu = 8\n",
      "For EFT order 3, the best polynomial has max nu = 8\n",
      "For EFT order 4, the best polynomial has max nu = 8\n"
     ]
    },
    {
     "name": "stderr",
     "output_type": "stream",
     "text": [
      "Sampling emp. sat. point: 100%|██████████| 10000/10000 [03:19<00:00, 50.13it/s]\n"
     ]
    },
    {
     "name": "stdout",
     "output_type": "stream",
     "text": [
      "fit of a bivariate t distribution with finite dof in ((3, 40)) failed: 'f(a) and f(b) must have different signs'\n",
      "assuming Normal distribution instead\n",
      "++++++++++++++++++++++++++++++\n",
      "fit new {'mu': array([32.40872924, 55.06453554]), 'Psi': array([[ 1.17002804,  8.38897747],\n",
      "       [ 8.38897747, 65.59266894]]), 'nu': inf}\n",
      "++++++++++++++++++++++++++++++\n",
      "\twith data config: satbox_wo_SQMC700\n",
      "For EFT order 0, the best polynomial has max nu = 8\n",
      "For EFT order 2, the best polynomial has max nu = 8\n",
      "For EFT order 3, the best polynomial has max nu = 8\n",
      "For EFT order 4, the best polynomial has max nu = 8\n"
     ]
    },
    {
     "name": "stderr",
     "output_type": "stream",
     "text": [
      "Sampling emp. sat. point: 100%|██████████| 10000/10000 [03:23<00:00, 49.07it/s]\n"
     ]
    },
    {
     "name": "stdout",
     "output_type": "stream",
     "text": [
      "fit of a bivariate t distribution with finite dof in ((3, 40)) failed: 'f(a) and f(b) must have different signs'\n",
      "assuming Normal distribution instead\n",
      "++++++++++++++++++++++++++++++\n",
      "fit new {'mu': array([32.35671498, 54.57111559]), 'Psi': array([[ 1.11769121,  7.88070809],\n",
      "       [ 7.88070809, 60.76437209]]), 'nu': inf}\n",
      "++++++++++++++++++++++++++++++\n",
      "\twith data config: all-but-fsu\n",
      "For EFT order 0, the best polynomial has max nu = 8\n",
      "For EFT order 2, the best polynomial has max nu = 8\n",
      "For EFT order 3, the best polynomial has max nu = 8\n",
      "For EFT order 4, the best polynomial has max nu = 8\n"
     ]
    },
    {
     "name": "stderr",
     "output_type": "stream",
     "text": [
      "Sampling emp. sat. point: 100%|██████████| 10000/10000 [03:10<00:00, 52.55it/s]\n"
     ]
    },
    {
     "name": "stdout",
     "output_type": "stream",
     "text": [
      "++++++++++++++++++++++++++++++\n",
      "fit new {'mu': array([32.06939028, 52.83837253]), 'Psi': array([[ 1.17353499,  8.27423862],\n",
      "       [ 8.27423862, 63.4806242 ]]), 'nu': 34}\n",
      "++++++++++++++++++++++++++++++\n",
      "Working on prior 'Extra Set' (500 Mev interaction)\n",
      "--------------------------------------------------\n",
      "\twith data config: satbox\n",
      "For EFT order 0, the best polynomial has max nu = 8\n",
      "For EFT order 2, the best polynomial has max nu = 8\n",
      "For EFT order 3, the best polynomial has max nu = 8\n",
      "For EFT order 4, the best polynomial has max nu = 8\n"
     ]
    },
    {
     "name": "stderr",
     "output_type": "stream",
     "text": [
      "Sampling emp. sat. point: 100%|██████████| 10000/10000 [03:18<00:00, 50.26it/s]\n"
     ]
    },
    {
     "name": "stdout",
     "output_type": "stream",
     "text": [
      "fit of a bivariate t distribution with finite dof in ((3, 40)) failed: 'f(a) and f(b) must have different signs'\n",
      "assuming Normal distribution instead\n",
      "++++++++++++++++++++++++++++++\n",
      "fit new {'mu': array([32.38466343, 54.92379752]), 'Psi': array([[ 1.17506656,  8.41903944],\n",
      "       [ 8.41903944, 65.40257797]]), 'nu': inf}\n",
      "++++++++++++++++++++++++++++++\n",
      "\twith data config: satbox_wo_SQMC700\n",
      "For EFT order 0, the best polynomial has max nu = 8\n",
      "For EFT order 2, the best polynomial has max nu = 8\n",
      "For EFT order 3, the best polynomial has max nu = 8\n",
      "For EFT order 4, the best polynomial has max nu = 8\n"
     ]
    },
    {
     "name": "stderr",
     "output_type": "stream",
     "text": [
      "Sampling emp. sat. point: 100%|██████████| 10000/10000 [03:21<00:00, 49.69it/s]\n"
     ]
    },
    {
     "name": "stdout",
     "output_type": "stream",
     "text": [
      "fit of a bivariate t distribution with finite dof in ((3, 40)) failed: 'f(a) and f(b) must have different signs'\n",
      "assuming Normal distribution instead\n",
      "++++++++++++++++++++++++++++++\n",
      "fit new {'mu': array([32.33286312, 54.43140655]), 'Psi': array([[ 1.12986556,  8.00427725],\n",
      "       [ 8.00427725, 61.57959758]]), 'nu': inf}\n",
      "++++++++++++++++++++++++++++++\n",
      "\twith data config: all-but-fsu\n",
      "For EFT order 0, the best polynomial has max nu = 8\n",
      "For EFT order 2, the best polynomial has max nu = 8\n",
      "For EFT order 3, the best polynomial has max nu = 8\n",
      "For EFT order 4, the best polynomial has max nu = 8\n"
     ]
    },
    {
     "name": "stderr",
     "output_type": "stream",
     "text": [
      "Sampling emp. sat. point: 100%|██████████| 10000/10000 [03:14<00:00, 51.39it/s]\n"
     ]
    },
    {
     "name": "stdout",
     "output_type": "stream",
     "text": [
      "fit of a bivariate t distribution with finite dof in ((3, 40)) failed: 'f(a) and f(b) must have different signs'\n",
      "assuming Normal distribution instead\n",
      "++++++++++++++++++++++++++++++\n",
      "fit new {'mu': array([32.02820029, 52.59596445]), 'Psi': array([[ 1.16408376,  8.24740198],\n",
      "       [ 8.24740198, 63.22933148]]), 'nu': inf}\n",
      "++++++++++++++++++++++++++++++\n",
      "Results for Lambda 500 MeV written to file './sv_l_samples_Lambda_500.pkl' for external use\n",
      "Working on prior 'Set A' (450 Mev interaction)\n",
      "--------------------------------------------------\n",
      "\twith data config: satbox\n",
      "For EFT order 0, the best polynomial has max nu = 8\n",
      "For EFT order 2, the best polynomial has max nu = 8\n",
      "For EFT order 3, the best polynomial has max nu = 8\n",
      "For EFT order 4, the best polynomial has max nu = 8\n"
     ]
    },
    {
     "name": "stderr",
     "output_type": "stream",
     "text": [
      "Sampling emp. sat. point: 100%|██████████| 10000/10000 [03:05<00:00, 53.96it/s]\n"
     ]
    },
    {
     "name": "stdout",
     "output_type": "stream",
     "text": [
      "fit of a bivariate t distribution with finite dof in ((3, 40)) failed: 'f(a) and f(b) must have different signs'\n",
      "assuming Normal distribution instead\n",
      "++++++++++++++++++++++++++++++\n",
      "fit new {'mu': array([33.51078038, 60.99489573]), 'Psi': array([[ 0.93908201,  6.58521193],\n",
      "       [ 6.58521193, 52.01259479]]), 'nu': inf}\n",
      "++++++++++++++++++++++++++++++\n",
      "\twith data config: satbox_wo_SQMC700\n",
      "For EFT order 0, the best polynomial has max nu = 8\n",
      "For EFT order 2, the best polynomial has max nu = 8\n",
      "For EFT order 3, the best polynomial has max nu = 8\n",
      "For EFT order 4, the best polynomial has max nu = 8\n"
     ]
    },
    {
     "name": "stderr",
     "output_type": "stream",
     "text": [
      "Sampling emp. sat. point: 100%|██████████| 10000/10000 [03:10<00:00, 52.51it/s]\n"
     ]
    },
    {
     "name": "stdout",
     "output_type": "stream",
     "text": [
      "fit of a bivariate t distribution with finite dof in ((3, 40)) failed: 'f(a) and f(b) must have different signs'\n",
      "assuming Normal distribution instead\n",
      "++++++++++++++++++++++++++++++\n",
      "fit new {'mu': array([33.44886856, 60.49017642]), 'Psi': array([[ 0.87580146,  6.03027298],\n",
      "       [ 6.03027298, 47.22744109]]), 'nu': inf}\n",
      "++++++++++++++++++++++++++++++\n",
      "\twith data config: all-but-fsu\n",
      "For EFT order 0, the best polynomial has max nu = 8\n",
      "For EFT order 2, the best polynomial has max nu = 8\n",
      "For EFT order 3, the best polynomial has max nu = 8\n",
      "For EFT order 4, the best polynomial has max nu = 8\n"
     ]
    },
    {
     "name": "stderr",
     "output_type": "stream",
     "text": [
      "Sampling emp. sat. point: 100%|██████████| 10000/10000 [03:48<00:00, 43.70it/s]\n"
     ]
    },
    {
     "name": "stdout",
     "output_type": "stream",
     "text": [
      "++++++++++++++++++++++++++++++\n",
      "fit new {'mu': array([33.11569435, 58.61574995]), 'Psi': array([[ 0.98299196,  6.67940906],\n",
      "       [ 6.67940906, 50.74359383]]), 'nu': 33}\n",
      "++++++++++++++++++++++++++++++\n",
      "Working on prior 'Set B' (450 Mev interaction)\n",
      "--------------------------------------------------\n",
      "\twith data config: satbox\n",
      "For EFT order 0, the best polynomial has max nu = 8\n",
      "For EFT order 2, the best polynomial has max nu = 8\n",
      "For EFT order 3, the best polynomial has max nu = 8\n",
      "For EFT order 4, the best polynomial has max nu = 8\n"
     ]
    },
    {
     "name": "stderr",
     "output_type": "stream",
     "text": [
      "Sampling emp. sat. point: 100%|██████████| 10000/10000 [03:53<00:00, 42.82it/s]\n"
     ]
    },
    {
     "name": "stdout",
     "output_type": "stream",
     "text": [
      "fit of a bivariate t distribution with finite dof in ((3, 40)) failed: 'f(a) and f(b) must have different signs'\n",
      "assuming Normal distribution instead\n",
      "++++++++++++++++++++++++++++++\n",
      "fit new {'mu': array([33.52966898, 61.13378049]), 'Psi': array([[ 0.95550396,  6.66379691],\n",
      "       [ 6.66379691, 52.54181422]]), 'nu': inf}\n",
      "++++++++++++++++++++++++++++++\n",
      "\twith data config: satbox_wo_SQMC700\n",
      "For EFT order 0, the best polynomial has max nu = 8\n",
      "For EFT order 2, the best polynomial has max nu = 8\n",
      "For EFT order 3, the best polynomial has max nu = 8\n",
      "For EFT order 4, the best polynomial has max nu = 8\n"
     ]
    },
    {
     "name": "stderr",
     "output_type": "stream",
     "text": [
      "Sampling emp. sat. point: 100%|██████████| 10000/10000 [03:22<00:00, 49.28it/s]\n"
     ]
    },
    {
     "name": "stdout",
     "output_type": "stream",
     "text": [
      "fit of a bivariate t distribution with finite dof in ((3, 40)) failed: 'f(a) and f(b) must have different signs'\n",
      "assuming Normal distribution instead\n",
      "++++++++++++++++++++++++++++++\n",
      "fit new {'mu': array([33.46896974, 60.6381575 ]), 'Psi': array([[ 0.89622388,  6.1348778 ],\n",
      "       [ 6.1348778 , 47.94702621]]), 'nu': inf}\n",
      "++++++++++++++++++++++++++++++\n",
      "\twith data config: all-but-fsu\n",
      "For EFT order 0, the best polynomial has max nu = 8\n",
      "For EFT order 2, the best polynomial has max nu = 8\n",
      "For EFT order 3, the best polynomial has max nu = 8\n",
      "For EFT order 4, the best polynomial has max nu = 8\n"
     ]
    },
    {
     "name": "stderr",
     "output_type": "stream",
     "text": [
      "Sampling emp. sat. point: 100%|██████████| 10000/10000 [03:10<00:00, 52.62it/s]\n"
     ]
    },
    {
     "name": "stdout",
     "output_type": "stream",
     "text": [
      "++++++++++++++++++++++++++++++\n",
      "fit new {'mu': array([33.14717653, 58.84679113]), 'Psi': array([[ 1.02852273,  6.93160865],\n",
      "       [ 6.93160865, 52.37642846]]), 'nu': 30}\n",
      "++++++++++++++++++++++++++++++\n",
      "Working on prior 'Extra Set' (450 Mev interaction)\n",
      "--------------------------------------------------\n",
      "\twith data config: satbox\n",
      "For EFT order 0, the best polynomial has max nu = 8\n",
      "For EFT order 2, the best polynomial has max nu = 8\n",
      "For EFT order 3, the best polynomial has max nu = 8\n",
      "For EFT order 4, the best polynomial has max nu = 8\n"
     ]
    },
    {
     "name": "stderr",
     "output_type": "stream",
     "text": [
      "Sampling emp. sat. point: 100%|██████████| 10000/10000 [03:13<00:00, 51.74it/s]\n"
     ]
    },
    {
     "name": "stdout",
     "output_type": "stream",
     "text": [
      "fit of a bivariate t distribution with finite dof in ((3, 40)) failed: 'f(a) and f(b) must have different signs'\n",
      "assuming Normal distribution instead\n",
      "++++++++++++++++++++++++++++++\n",
      "fit new {'mu': array([33.50296148, 60.99032496]), 'Psi': array([[ 0.96510922,  6.71150622],\n",
      "       [ 6.71150622, 52.45135034]]), 'nu': inf}\n",
      "++++++++++++++++++++++++++++++\n",
      "\twith data config: satbox_wo_SQMC700\n",
      "For EFT order 0, the best polynomial has max nu = 8\n",
      "For EFT order 2, the best polynomial has max nu = 8\n",
      "For EFT order 3, the best polynomial has max nu = 8\n",
      "For EFT order 4, the best polynomial has max nu = 8\n"
     ]
    },
    {
     "name": "stderr",
     "output_type": "stream",
     "text": [
      "Sampling emp. sat. point: 100%|██████████| 10000/10000 [03:30<00:00, 47.50it/s]\n"
     ]
    },
    {
     "name": "stdout",
     "output_type": "stream",
     "text": [
      "fit of a bivariate t distribution with finite dof in ((3, 40)) failed: 'f(a) and f(b) must have different signs'\n",
      "assuming Normal distribution instead\n",
      "++++++++++++++++++++++++++++++\n",
      "fit new {'mu': array([33.44233695, 60.49368233]), 'Psi': array([[ 0.91645408,  6.2942552 ],\n",
      "       [ 6.2942552 , 48.88196648]]), 'nu': inf}\n",
      "++++++++++++++++++++++++++++++\n",
      "\twith data config: all-but-fsu\n",
      "For EFT order 0, the best polynomial has max nu = 8\n",
      "For EFT order 2, the best polynomial has max nu = 8\n",
      "For EFT order 3, the best polynomial has max nu = 8\n",
      "For EFT order 4, the best polynomial has max nu = 8\n"
     ]
    },
    {
     "name": "stderr",
     "output_type": "stream",
     "text": [
      "Sampling emp. sat. point: 100%|██████████| 10000/10000 [03:28<00:00, 47.99it/s]\n"
     ]
    },
    {
     "name": "stdout",
     "output_type": "stream",
     "text": [
      "fit of a bivariate t distribution with finite dof in ((3, 40)) failed: 'f(a) and f(b) must have different signs'\n",
      "assuming Normal distribution instead\n",
      "++++++++++++++++++++++++++++++\n",
      "fit new {'mu': array([33.10184789, 58.60496696]), 'Psi': array([[ 1.00427696,  6.83119101],\n",
      "       [ 6.83119101, 51.925272  ]]), 'nu': inf}\n",
      "++++++++++++++++++++++++++++++\n",
      "Results for Lambda 450 MeV written to file './sv_l_samples_Lambda_450.pkl' for external use\n"
     ]
    }
   ],
   "source": [
    "from modules.plot_helpers import confidence_ellipse, fit_bivariate_t\n",
    "for Lambda in (500, 450):  # MeV\n",
    "    ret = {}\n",
    "    for prior_set_lbl, results in res_postpred.items():\n",
    "        print(f\"Working on prior '{prior_set_lbl}' ({Lambda} Mev interaction)\")\n",
    "        print(\"-\"*50)\n",
    "        ret_data = {}\n",
    "        for res_lbl, post_pred in results.items():\n",
    "            print(\"\\twith data config:\", res_lbl)\n",
    "            samples = sample_sv_l(num_sats=10000, num_GP_samples=800, Lambda=Lambda, posterior_predict_params=post_pred)  # 101000\n",
    "            fit = fit_bivariate_t(samples.to_numpy(), alpha_fit=0.68, nu_limits=None, tol=1e-2, print_status=False)\n",
    "            ret_data[res_lbl] = {\"satpoint_dist\": results, \"cov\": samples.cov().to_numpy(), **fit}\n",
    "            # fit2 = fit_bivariate_t(samples.to_numpy(), alpha_fit=0.68, nu_limits=None, tol=1e-2, print_status=False, strategy=\"old\")\n",
    "            print(\"+\"*30)\n",
    "            print(\"fit new\", fit)\n",
    "            # print(\"fit old\", fit2)\n",
    "            print(\"+\"*30)\n",
    "        ret[prior_set_lbl] = ret_data\n",
    "    filename = f'samples/sv_l_samples_Lambda_{Lambda}.pkl'\n",
    "    with open(filename, 'wb') as fp:\n",
    "        pickle.dump(ret, fp)\n",
    "        print(f\"Results for Lambda {Lambda} MeV written to file '{filename}' for external use\")"
   ]
  },
  {
   "cell_type": "code",
   "execution_count": null,
   "id": "ad8a2fd7",
   "metadata": {},
   "outputs": [],
   "source": []
  }
 ],
 "metadata": {
  "kernelspec": {
   "display_name": "venv",
   "language": "python",
   "name": "python3"
  },
  "language_info": {
   "codemirror_mode": {
    "name": "ipython",
    "version": 3
   },
   "file_extension": ".py",
   "mimetype": "text/x-python",
   "name": "python",
   "nbconvert_exporter": "python",
   "pygments_lexer": "ipython3",
   "version": "3.9.19"
  }
 },
 "nbformat": 4,
 "nbformat_minor": 5
}
