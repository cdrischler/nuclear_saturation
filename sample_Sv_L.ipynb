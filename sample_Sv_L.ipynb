{
 "cells": [
  {
   "cell_type": "markdown",
   "id": "1456412e",
   "metadata": {},
   "source": [
    "# Nuclear saturation\n",
    "\n",
    "This notebook derives constraints on the nuclear symmetry energy parameters $(S_v,L)$ from chiral EFT calculations in pure neutron matter combined with empirical constraints on the nuclear saturation point.\n",
    "\n",
    "The notebook is a minimalistic version of `derivatives-bands.ipynb` for this specific purpose.\n",
    "\n",
    "## Installation\n",
    "\n",
    "Navigate to the root directory of this repository and follow these instructions to install the codes:\n",
    "\n",
    "```shell\n",
    "python3 -m venv venv  # in the root dir of this repository\n",
    "source venv/bin/activate\n",
    "python3 -m ipykernel install --name \"nuclear-conv\"\n",
    "python3 -m pip install .\n",
    "python3 -m pip install jupyter\n",
    "python3 -m pip install corner\n",
    "python3 -m pip install arviz\n",
    "python3 -m pip install gsum\n",
    "python3 -m pip install pymc3\n",
    "python3 -m pip install statsmodels\n",
    "python3 -m pip install docrep\n",
    "python3 -m pip install seaborn\n",
    "python3 -m pip uninstall gsum\n",
    "python3 -m pip uninstall gptools\n",
    "python3 -m pip install git+https://github.com/buqeye/gsum\n",
    "python3 -m pip install Cython\n",
    "python3 -m pip install git+https://github.com/markchil/gptools\n",
    "```\n",
    "\n",
    "In addition, install:\n",
    "```shell\n",
    "python3 -m pip install tqdm\n",
    "```"
   ]
  },
  {
   "cell_type": "markdown",
   "id": "34192d7e",
   "metadata": {},
   "source": [
    "## Set up EFT part: neutron matter"
   ]
  },
  {
   "cell_type": "code",
   "execution_count": 1,
   "id": "37c1cc2f",
   "metadata": {},
   "outputs": [
    {
     "name": "stdout",
     "output_type": "stream",
     "text": [
      "Deprecation Warning: 'triangle' has been renamed to 'corner'. This shim should continue to work but you should use 'import corner' in new code. https://github.com/dfm/corner.py\n"
     ]
    }
   ],
   "source": [
    "import numpy as np\n",
    "from scipy import stats\n",
    "import pandas as pd\n",
    "from nuclear_matter import fermi_momentum, nuclear_density, kf_derivative_wrt_density\n",
    "from nuclear_matter import compute_pressure, compute_pressure_cov\n",
    "from nuclear_matter import compute_slope, compute_slope_cov\n",
    "from nuclear_matter import compute_compressibility, compute_compressibility_cov\n",
    "from nuclear_matter import compute_speed_of_sound\n",
    "from nuclear_matter import setup_rc_params\n",
    "from nuclear_matter import InputData\n",
    "from nuclear_matter import confidence_ellipse, confidence_ellipse_mean_cov\n",
    "from nuclear_matter.graphs import add_top_order_legend, compute_filled_handles, plot_empirical_saturation\n",
    "from nuclear_matter.derivatives import ObservableContainer"
   ]
  },
  {
   "cell_type": "code",
   "execution_count": 2,
   "id": "41aef906",
   "metadata": {},
   "outputs": [],
   "source": [
    "Lambda = 450 #MeV\n",
    "# Lambda = 500 # MeV\n",
    "\n",
    "high_density = True\n",
    "if high_density:\n",
    "    filename = '../data/all_matter_data_high_density.csv'\n",
    "else:\n",
    "    filename = '../data/all_matter_data.csv'\n",
    "    \n",
    "data = InputData(filename, Lambda)\n",
    "density = data.density\n",
    "Kf_n = data.Kf_n\n",
    "kf_n = data.kf_n\n",
    "density_all = np.arange(density[0], density[-1], 0.005)\n",
    "N_all = len(density_all)\n",
    "kf_n_all = fermi_momentum(density_all, degeneracy=2)\n",
    "Kf_n_all = kf_n_all[:, None]\n",
    "y_n_2_plus_3bf = data.y_n_2_plus_3bf\n",
    "orders = np.array([0, 2, 3, 4])\n",
    "train = slice(None, None, 5)\n",
    "valid = slice(2, None, 5)\n",
    "breakdown = 600 # MeV\n",
    "fig_path = 'manuscript_figures'\n",
    "verbose = True"
   ]
  },
  {
   "cell_type": "code",
   "execution_count": 3,
   "id": "e0f1735c",
   "metadata": {},
   "outputs": [],
   "source": [
    "kf0_n = fermi_momentum(0.16, 2)\n",
    "kf0_s = fermi_momentum(0.16, 4)\n",
    "\n",
    "ref_neutron = 16 / kf0_n**2\n",
    "ref_nuclear = 16 / kf0_s**2\n",
    "\n",
    "if Lambda == 500:\n",
    "    std_neutron = 1.00\n",
    "    ls_neutron = 0.973\n",
    "elif Lambda == 450:\n",
    "    std_neutron = 0.8684060649936118\n",
    "    ls_neutron = 0.7631421388401067"
   ]
  },
  {
   "cell_type": "code",
   "execution_count": 4,
   "id": "d6fa878a",
   "metadata": {},
   "outputs": [],
   "source": [
    "min_uncertainty = 0.02  # Twenty keV\n",
    "uncertainty_factor = 0.001  # 0.1%\n",
    "err_y_n = np.abs(y_n_2_plus_3bf[:, -1]) * uncertainty_factor\n",
    "err_y_n[np.abs(err_y_n) < min_uncertainty] = min_uncertainty"
   ]
  },
  {
   "cell_type": "code",
   "execution_count": 5,
   "id": "3158bcda",
   "metadata": {},
   "outputs": [
    {
     "name": "stdout",
     "output_type": "stream",
     "text": [
      "For EFT order 0, the best polynomial has max nu = 8\n",
      "For EFT order 2, the best polynomial has max nu = 8\n",
      "For EFT order 3, the best polynomial has max nu = 8\n",
      "For EFT order 4, the best polynomial has max nu = 8\n"
     ]
    }
   ],
   "source": [
    "obs_neutron = ObservableContainer(\n",
    "    density=density,\n",
    "    kf=kf_n,\n",
    "    y=y_n_2_plus_3bf,\n",
    "    orders=orders,\n",
    "    density_interp=density_all,\n",
    "    kf_interp=kf_n_all,\n",
    "    std=std_neutron,\n",
    "    ls=ls_neutron,\n",
    "    ref=ref_neutron,\n",
    "    breakdown=breakdown,\n",
    "    err_y=err_y_n,\n",
    "    include_3bf=False,\n",
    "    derivs=[0, 1, 2],\n",
    "    verbose=verbose,\n",
    ")"
   ]
  },
  {
   "cell_type": "markdown",
   "id": "44f4fa5b",
   "metadata": {},
   "source": [
    "## Define empirical saturation point"
   ]
  },
  {
   "cell_type": "code",
   "execution_count": 6,
   "id": "2e5f3278",
   "metadata": {},
   "outputs": [],
   "source": [
    "# emp_sat_point_dist = stats.multivariate_normal(\n",
    "#     mean=[0.17, -16.], \n",
    "#     cov=np.diag([0.01**2, 0.1**2])\n",
    "# )\n",
    "emp_sat_point_dist = stats.multivariate_t(\n",
    "    loc=[  0.16083667, -15.9292    ], \n",
    "    shape=[[1.07708821e-05, 1.65382275e-04],\n",
    "       [1.65382275e-04, 2.74842604e-02]],\n",
    "    df=17\n",
    ")\n",
    "\n",
    "num_sats = 101000 #1\n",
    "np.random.seed(1)\n",
    "de_sats = emp_sat_point_dist.rvs(num_sats)\n",
    "d_sats = de_sats[:, 0]\n",
    "e_sats = de_sats[:, 1]\n",
    "D_sats = d_sats[:, None]\n",
    "kf_n_sats = fermi_momentum(d_sats, 2)\n",
    "Kf_n_sats = kf_n_sats[:, None]\n",
    "# d_sats"
   ]
  },
  {
   "cell_type": "markdown",
   "id": "8e2852ec",
   "metadata": {},
   "source": [
    "## Constrain the nuclear symmetry energy"
   ]
  },
  {
   "cell_type": "markdown",
   "id": "aaf0ec94",
   "metadata": {},
   "source": [
    "Marginalization:\n",
    "$$\n",
    "P(S_v,L) = \\int dn_0 \\, dE_0 \\, P(S_v,L \\mid n_0, E_0) \\, P(n_0, E_0)\n",
    "$$"
   ]
  },
  {
   "cell_type": "code",
   "execution_count": 7,
   "id": "041f49d1",
   "metadata": {},
   "outputs": [],
   "source": [
    "# # obtain energy per neutron and its derivative (note: w.r.t. the Fermi momentum, not the density)\n",
    "# # here are the mean values...\n",
    "# np.random.seed(1)\n",
    "# E_and_dE_n_sats, E_and_dE_n_sats_cov = obs_neutron.predict(Kf_n_sats, order=4, derivs=[0, 1])\n",
    "# E_n_sats = E_and_dE_n_sats[:num_sats]\n",
    "# dE_n_sats = E_and_dE_n_sats[num_sats:]\n",
    "\n",
    "# # ...and here the associated covariance matrices\n",
    "# E_n_sats_cov = E_and_dE_n_sats_cov[:num_sats, :num_sats]\n",
    "# dE_n_sats_cov = E_and_dE_n_sats_cov[num_sats:, num_sats:]\n",
    "# E_dE_n_sats_cov = E_and_dE_n_sats_cov[:num_sats, num_sats:]\n",
    "\n",
    "# # next, we compute the mean and covariance of the slope parameter\n",
    "# # note that dS2 equals dE at saturation density!\n",
    "# slope = compute_slope(n=d_sats, kf=kf_n_sats, dS2=dE_n_sats, wrt_kf=True)\n",
    "# slope_cov = compute_slope_cov(n=d_sats, kf=kf_n_sats, dS2_cov=dE_n_sats_cov, wrt_kf=True)\n",
    "\n",
    "# # next, let's compute the symmetry energy as the (uncorrelated) difference between \n",
    "# # the neutron matter energy per particle and the inferred empirical saturation point\n",
    "# Sv = E_n_sats - e_sats\n",
    "# Sv_cov = 1"
   ]
  },
  {
   "cell_type": "code",
   "execution_count": 8,
   "id": "7b158634",
   "metadata": {},
   "outputs": [],
   "source": [
    "# import matplotlib.pyplot as plt\n",
    "# import arviz as az\n",
    "# import corner\n",
    "# fig, axes = plt.subplots(2, 2, figsize=(4, 4), constrained_layout=False)\n",
    "# fig = corner.corner(\n",
    "#     data=az.from_dict(\n",
    "#     posterior={\"$S_v$\": Sv, \"$L$\": slope}),\n",
    "#     range=[(28, 36), (5, 100)],\n",
    "#     labels=[r'$S_v$ [MeV]', r'$L$ [MeV]'], \n",
    "#     fig=fig,\n",
    "#     quantiles=(0.16, 0.5, 0.84), \n",
    "#     levels=(1-np.exp(-0.5), 1-np.exp(-0.5*2**2)),\n",
    "#     show_titles=True, \n",
    "#     title_kwargs={\"fontsize\": 9}\n",
    "# )"
   ]
  },
  {
   "cell_type": "markdown",
   "id": "4a834629",
   "metadata": {},
   "source": [
    "## new"
   ]
  },
  {
   "cell_type": "code",
   "execution_count": 9,
   "id": "cbad67f0",
   "metadata": {},
   "outputs": [],
   "source": [
    "def compute_Esym_L(kf, n, e, S2_dS2, S2_dS2_cov):\n",
    "    to_Esym_L_mat = np.array([\n",
    "        [1, 0],\n",
    "        [0, 3*n*kf_derivative_wrt_density(kf, n)]  # the derivative is w.r.t. to kf, not the density\n",
    "    ])\n",
    "    S2_L = to_Esym_L_mat @ S2_dS2 - np.array([e, 0])\n",
    "    S2_L_cov = to_Esym_L_mat @ S2_dS2_cov @ to_Esym_L_mat.T\n",
    "    return S2_L, S2_L_cov"
   ]
  },
  {
   "cell_type": "code",
   "execution_count": 10,
   "id": "21b4e628",
   "metadata": {},
   "outputs": [
    {
     "name": "stderr",
     "output_type": "stream",
     "text": [
      "100%|███████████████████████████████████████████████████████████████████████████████████████████████████████████████████| 101000/101000 [27:04<00:00, 62.18it/s]\n"
     ]
    }
   ],
   "source": [
    "from tqdm import tqdm\n",
    "np.random.seed(1)\n",
    "num_GP_samples = 50\n",
    "df = []\n",
    "for index in tqdm(range(num_sats)):\n",
    "    E_dE, E_dE_cov = obs_neutron.predict(np.atleast_2d(Kf_n_sats[index]), order=4, derivs=[0, 1])\n",
    "    E_L_mean, E_L_cov = compute_Esym_L(kf=kf_n_sats[index], n=d_sats[index], e=e_sats[index],\n",
    "                                       S2_dS2=E_dE, S2_dS2_cov=E_dE_cov)\n",
    "     # note that the derivative is w.r.t. kf, not the density\n",
    "    sample = stats.multivariate_normal.rvs(mean=E_L_mean, cov=E_L_cov, size=num_GP_samples)\n",
    "    df.append(pd.DataFrame(np.atleast_2d(sample), columns=(\"Sv\", \"L\")))\n",
    "df = pd.concat(df)"
   ]
  },
  {
   "cell_type": "code",
   "execution_count": 11,
   "id": "39ac2f77",
   "metadata": {},
   "outputs": [
    {
     "name": "stdout",
     "output_type": "stream",
     "text": [
      "Pandas support in corner is deprecated; use ArviZ directly\n"
     ]
    },
    {
     "data": {
      "image/png": "[encoded data removed]",
      "text/plain": [
       "<Figure size 400x400 with 4 Axes>"
      ]
     },
     "metadata": {},
     "output_type": "display_data"
    }
   ],
   "source": [
    "import matplotlib.pyplot as plt\n",
    "import arviz as az\n",
    "import corner\n",
    "fig, axes = plt.subplots(2, 2, figsize=(4, 4), constrained_layout=False)\n",
    "fig = corner.corner(\n",
    "    data=df,\n",
    "    range=[(28, 36), (5, 100)],\n",
    "    labels=[r'$S_v$ [MeV]', r'$L$ [MeV]'], \n",
    "    fig=fig,\n",
    "    quantiles=(0.16, 0.5, 0.84), \n",
    "    levels=(1-np.exp(-0.5), 1-np.exp(-0.5*2**2)),\n",
    "    show_titles=True, \n",
    "    title_kwargs={\"fontsize\": 9}\n",
    ")\n",
    "filename = f\"corner_lam_{Lambda}_num_sats_{num_sats}_num_GP_samples_{num_GP_samples}.pdf\"\n",
    "fig.savefig(filename)\n",
    "df.to_csv(filename.replace(\".pdf\", \".csv\").replace(\"corner\", \"samples\"))"
   ]
  },
  {
   "cell_type": "code",
   "execution_count": 12,
   "id": "dd1d7b2e",
   "metadata": {},
   "outputs": [
    {
     "data": {
      "text/plain": [
       "array([[ 0.93643079,  6.57296244],\n",
       "       [ 6.57296244, 51.95419266]])"
      ]
     },
     "execution_count": 12,
     "metadata": {},
     "output_type": "execute_result"
    }
   ],
   "source": [
    "df.cov().to_numpy()"
   ]
  },
  {
   "cell_type": "code",
   "execution_count": 13,
   "id": "41134cfe",
   "metadata": {},
   "outputs": [
    {
     "data": {
      "text/plain": [
       "array([33.5111994 , 60.99789384])"
      ]
     },
     "execution_count": 13,
     "metadata": {},
     "output_type": "execute_result"
    }
   ],
   "source": [
    "df.mean().to_numpy()"
   ]
  },
  {
   "cell_type": "code",
   "execution_count": null,
   "id": "b98bf882",
   "metadata": {},
   "outputs": [],
   "source": []
  }
 ],
 "metadata": {
  "kernelspec": {
   "display_name": "nuclear-conv",
   "language": "python",
   "name": "nuclear-conv"
  },
  "language_info": {
   "codemirror_mode": {
    "name": "ipython",
    "version": 3
   },
   "file_extension": ".py",
   "mimetype": "text/x-python",
   "name": "python",
   "nbconvert_exporter": "python",
   "pygments_lexer": "ipython3",
   "version": "3.9.6"
  }
 },
 "nbformat": 4,
 "nbformat_minor": 5
}
