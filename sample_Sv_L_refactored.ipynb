{
 "cells": [
  {
   "attachments": {},
   "cell_type": "markdown",
   "id": "1456412e",
   "metadata": {},
   "source": [
    "# Sampling nuclear symmetry energy parameters\n",
    "\n",
    "This notebook derives constraints on the nuclear symmetry energy parameters $(S_v,L)$ from chiral EFT calculations in pure neutron matter combined with empirical constraints on the nuclear saturation point.\n",
    "\n",
    "The notebook is a minimalistic version of BUQEYE's [`derivatives-bands.ipynb`](https://github.com/buqeye/nuclear-matter-convergence/blob/master/analysis/derivatives-bands.ipynb) for this specific purpose.\n",
    "\n",
    "## Installation\n",
    "\n",
    "Navigate to the root directory of the `nuclear_saturation` repository and follow these instructions to install the code:\n",
    "\n",
    "```shell\n",
    "python3 -m venv env_esym  # in the root dir of this repository\n",
    "source env_esym/bin/activate\n",
    "python3 -m pip install -r requirements_esym.txt\n",
    "python3 -m ipykernel install --name \"nuclear-esym\"\n",
    "```\n",
    "\n",
    "For completeness, we state the packages would need to be installed manually:\n",
    "```shell\n",
    "python3 -m pip install numpy\n",
    "python3 -m pip install sympy\n",
    "python3 -m pip install jupyter\n",
    "python3 -m pip install corner\n",
    "python3 -m pip install arviz\n",
    "python3 -m pip install gsum\n",
    "python3 -m pip install pymc3\n",
    "python3 -m pip install statsmodels\n",
    "python3 -m pip install docrep\n",
    "python3 -m pip install findiff\n",
    "python3 -m pip install seaborn\n",
    "python3 -m pip uninstall gsum\n",
    "python3 -m pip uninstall gptools\n",
    "python3 -m pip install git+https://github.com/buqeye/gsum\n",
    "python3 -m pip install Cython\n",
    "python3 -m pip install git+https://github.com/markchil/gptools\n",
    "python3 -m pip install tqdm\n",
    "```\n",
    "\n",
    "Clone BUQEYE's GitHub repository [nuclear-matter-convergence](https://github.com/buqeye/nuclear-matter-convergence) to your computer and tell your Python interpreter where to find it "
   ]
  },
  {
   "cell_type": "code",
   "execution_count": 1,
   "id": "1fe43304",
   "metadata": {},
   "outputs": [],
   "source": [
    "import sys\n",
    "sys.path.append('/Users/drischler/Dropbox/Projects/nuclear-matter-convergence')"
   ]
  },
  {
   "cell_type": "markdown",
   "id": "6073a863",
   "metadata": {},
   "source": [
    "Now, you should be able to import the BUQEYE packages for EOS truncation error analysis and sampling:"
   ]
  },
  {
   "cell_type": "code",
   "execution_count": 3,
   "id": "05f03257",
   "metadata": {},
   "outputs": [
    {
     "name": "stdout",
     "output_type": "stream",
     "text": [
      "The autoreload extension is already loaded. To reload it, use:\n",
      "  %reload_ext autoreload\n"
     ]
    },
    {
     "ename": "ModuleNotFoundError",
     "evalue": "No module named 'gptools'",
     "output_type": "error",
     "traceback": [
      "\u001b[0;31m---------------------------------------------------------------------------\u001b[0m",
      "\u001b[0;31mModuleNotFoundError\u001b[0m                       Traceback (most recent call last)",
      "Cell \u001b[0;32mIn[3], line 17\u001b[0m\n\u001b[1;32m     15\u001b[0m \u001b[38;5;28;01mfrom\u001b[39;00m \u001b[38;5;21;01mnuclear_matter\u001b[39;00m \u001b[38;5;28;01mimport\u001b[39;00m confidence_ellipse, confidence_ellipse_mean_cov\n\u001b[1;32m     16\u001b[0m \u001b[38;5;28;01mfrom\u001b[39;00m \u001b[38;5;21;01mnuclear_matter\u001b[39;00m\u001b[38;5;21;01m.\u001b[39;00m\u001b[38;5;21;01mgraphs\u001b[39;00m \u001b[38;5;28;01mimport\u001b[39;00m add_top_order_legend, compute_filled_handles, plot_empirical_saturation\n\u001b[0;32m---> 17\u001b[0m \u001b[38;5;28;01mfrom\u001b[39;00m \u001b[38;5;21;01mnuclear_matter\u001b[39;00m\u001b[38;5;21;01m.\u001b[39;00m\u001b[38;5;21;01mderivatives\u001b[39;00m \u001b[38;5;28;01mimport\u001b[39;00m ObservableContainer\n",
      "File \u001b[0;32m~/Dropbox/Projects/nuclear-matter-convergence/nuclear_matter/derivatives.py:1\u001b[0m\n\u001b[0;32m----> 1\u001b[0m \u001b[38;5;28;01mimport\u001b[39;00m \u001b[38;5;21;01mgptools\u001b[39;00m\n\u001b[1;32m      2\u001b[0m \u001b[38;5;28;01mimport\u001b[39;00m \u001b[38;5;21;01mnumpy\u001b[39;00m \u001b[38;5;28;01mas\u001b[39;00m \u001b[38;5;21;01mnp\u001b[39;00m\n\u001b[1;32m      3\u001b[0m \u001b[38;5;28;01mfrom\u001b[39;00m \u001b[38;5;21;01msympy\u001b[39;00m \u001b[38;5;28;01mimport\u001b[39;00m symbols, diff, lambdify\n",
      "\u001b[0;31mModuleNotFoundError\u001b[0m: No module named 'gptools'"
     ]
    }
   ],
   "source": [
    "%load_ext autoreload\n",
    "%autoreload 2\n",
    "%matplotlib inline\n",
    "\n",
    "import numpy as np\n",
    "from scipy import stats\n",
    "import pandas as pd\n",
    "from nuclear_matter import fermi_momentum, nuclear_density, kf_derivative_wrt_density\n",
    "from nuclear_matter import compute_pressure, compute_pressure_cov\n",
    "from nuclear_matter import compute_slope, compute_slope_cov\n",
    "from nuclear_matter import compute_compressibility, compute_compressibility_cov\n",
    "from nuclear_matter import compute_speed_of_sound\n",
    "from nuclear_matter import setup_rc_params\n",
    "from nuclear_matter import InputData\n",
    "from nuclear_matter import confidence_ellipse, confidence_ellipse_mean_cov\n",
    "from nuclear_matter.graphs import add_top_order_legend, compute_filled_handles, plot_empirical_saturation\n",
    "from nuclear_matter.derivatives import ObservableContainer"
   ]
  },
  {
   "cell_type": "markdown",
   "id": "1dbdb329",
   "metadata": {},
   "source": [
    "## Sampling\n",
    "\n",
    "Marginalization:\n",
    "$$\n",
    "P(S_v,L) = \\int dn_0 \\, dE_0 \\, P(S_v,L \\mid n_0, E_0) \\, P(n_0, E_0)\n",
    "$$"
   ]
  },
  {
   "cell_type": "code",
   "execution_count": null,
   "id": "41aef906",
   "metadata": {},
   "outputs": [],
   "source": [
    "def sample_sv_l(num_sats=101, num_GP_samples=50, Lambda=500, posterior_predict_params=None, high_density=True):\n",
    "    if Lambda not in (500, 450):\n",
    "        raise ValueError(f\"Requested Lambda {Lambda} not supported.\")\n",
    "\n",
    "    # high_density = True\n",
    "    if high_density:\n",
    "        filename = './data/all_matter_data_high_density.csv'\n",
    "    else:\n",
    "        filename = './data/all_matter_data.csv'\n",
    "        \n",
    "    data = InputData(filename, Lambda)\n",
    "    density = data.density\n",
    "    kf_n = data.kf_n\n",
    "    density_all = np.arange(density[0], density[-1], 0.005)\n",
    "    kf_n_all = fermi_momentum(density_all, degeneracy=2)\n",
    "    y_n_2_plus_3bf = data.y_n_2_plus_3bf\n",
    "    orders = np.array([0, 2, 3, 4])\n",
    "    breakdown = 600 # MeV\n",
    "    verbose = True\n",
    "    kf0_n = fermi_momentum(0.16, 2)\n",
    "\n",
    "    ref_neutron = 16 / kf0_n**2\n",
    "\n",
    "    if Lambda == 500:\n",
    "        std_neutron = 1.00\n",
    "        ls_neutron = 0.973\n",
    "    elif Lambda == 450:\n",
    "        std_neutron = 0.8684060649936118\n",
    "        ls_neutron = 0.7631421388401067\n",
    "    min_uncertainty = 0.02  # Twenty keV\n",
    "    uncertainty_factor = 0.001  # 0.1%\n",
    "    err_y_n = np.abs(y_n_2_plus_3bf[:, -1]) * uncertainty_factor\n",
    "    err_y_n[np.abs(err_y_n) < min_uncertainty] = min_uncertainty\n",
    "    obs_neutron = ObservableContainer(\n",
    "        density=density,\n",
    "        kf=kf_n,\n",
    "        y=y_n_2_plus_3bf,\n",
    "        orders=orders,\n",
    "        density_interp=density_all,\n",
    "        kf_interp=kf_n_all,\n",
    "        std=std_neutron,\n",
    "        ls=ls_neutron,\n",
    "        ref=ref_neutron,\n",
    "        breakdown=breakdown,\n",
    "        err_y=err_y_n,\n",
    "        include_3bf=False,\n",
    "        derivs=[0, 1, 2],\n",
    "        verbose=verbose,\n",
    "    )\n",
    "    # emp_sat_point_dist = stats.multivariate_normal(\n",
    "    #     mean=[0.17, -16.], \n",
    "    #     cov=np.diag([0.01**2, 0.1**2])\n",
    "    # )\n",
    "\n",
    "    if posterior_predict_params is None:\n",
    "        dist_kwargs = dict(\n",
    "            loc=[  0.16083667, -15.9292    ], \n",
    "            shape=np.array([[1.07708821e-05, 1.65382275e-04],\n",
    "            [1.65382275e-04, 2.74842604e-02]]),\n",
    "            df=17\n",
    "        )\n",
    "    else:\n",
    "        dist_kwargs = dict(\n",
    "            loc=posterior_predict_params[\"mu\"], \n",
    "            shape=posterior_predict_params[\"Psi\"],\n",
    "            df=posterior_predict_params[\"nu\"]\n",
    "        )    \n",
    "    emp_sat_point_dist = stats.multivariate_t(**dist_kwargs)\n",
    "\n",
    "    np.random.seed(1)\n",
    "    de_sats = emp_sat_point_dist.rvs(num_sats)\n",
    "    d_sats = de_sats[:, 0]\n",
    "    e_sats = de_sats[:, 1]\n",
    "    kf_n_sats = fermi_momentum(d_sats, 2)\n",
    "    Kf_n_sats = kf_n_sats[:, None]\n",
    "\n",
    "    def compute_Esym_L(kf, n, e, S2_dS2, S2_dS2_cov):\n",
    "        to_Esym_L_mat = np.array([\n",
    "            [1, 0],\n",
    "            [0, 3*n*kf_derivative_wrt_density(kf, n)]  # the derivative is w.r.t. to kf, not the density\n",
    "        ])\n",
    "        S2_L = to_Esym_L_mat @ S2_dS2 - np.array([e, 0])\n",
    "        S2_L_cov = to_Esym_L_mat @ S2_dS2_cov @ to_Esym_L_mat.T\n",
    "        return S2_L, S2_L_cov\n",
    "\n",
    "    from tqdm import tqdm\n",
    "    np.random.seed(1)\n",
    "    df = []\n",
    "    for index in tqdm(range(num_sats), desc=\"Sampling emp. sat. point\"):\n",
    "        E_dE, E_dE_cov = obs_neutron.predict(np.atleast_2d(Kf_n_sats[index]), order=4, derivs=[0, 1])\n",
    "        E_L_mean, E_L_cov = compute_Esym_L(kf=kf_n_sats[index], n=d_sats[index], e=e_sats[index],\n",
    "                                        S2_dS2=E_dE, S2_dS2_cov=E_dE_cov)\n",
    "        # note that the derivative is w.r.t. kf, not the density\n",
    "        sample = stats.multivariate_normal.rvs(mean=E_L_mean, cov=E_L_cov, size=num_GP_samples)\n",
    "        df.append(pd.DataFrame(np.atleast_2d(sample), columns=(\"Sv\", \"L\")))\n",
    "    return pd.concat(df)"
   ]
  },
  {
   "attachments": {},
   "cell_type": "markdown",
   "id": "58e0f37a",
   "metadata": {},
   "source": [
    "## Test evaluations to investigate the runtime"
   ]
  },
  {
   "attachments": {},
   "cell_type": "markdown",
   "id": "45414f24",
   "metadata": {},
   "source": [
    "Let's run a few test calculations. "
   ]
  },
  {
   "cell_type": "code",
   "execution_count": null,
   "id": "1e6da026",
   "metadata": {},
   "outputs": [
    {
     "name": "stdout",
     "output_type": "stream",
     "text": [
      "For EFT order 0, the best polynomial has max nu = 8\n",
      "For EFT order 2, the best polynomial has max nu = 8\n",
      "For EFT order 3, the best polynomial has max nu = 8\n",
      "For EFT order 4, the best polynomial has max nu = 8\n"
     ]
    },
    {
     "name": "stderr",
     "output_type": "stream",
     "text": [
      "Sampling emp. sat. point: 100%|██████████| 101000/101000 [13:42<00:00, 122.84it/s]\n"
     ]
    },
    {
     "name": "stdout",
     "output_type": "stream",
     "text": [
      "sample mean Sv    32.362836\n",
      "L     54.334244\n",
      "dtype: float64\n",
      "sample std          Sv         L\n",
      "Sv  0.99343  2.705990\n",
      "L   2.70599  7.608165\n",
      "expected Sv [0.36297218 0.986838  ]\n",
      "expect L [54.33503047  7.57715677]\n"
     ]
    }
   ],
   "source": [
    "nsat, esat = 0.16, -16\n",
    "dist_kwargs = dict(\n",
    "            mu=[  nsat, esat    ], \n",
    "            Psi=np.eye(2)*0.000001,\n",
    "            nu=160000  # normal\n",
    "        )\n",
    "\n",
    "dat = sample_sv_l(num_sats=101000, num_GP_samples = 500, Lambda=500, posterior_predict_params=dist_kwargs)\n",
    "print(\"sample mean\", dat.mean())\n",
    "print(\"sample std\", np.sqrt(dat.cov()))\n",
    "print(\"expected Sv\", np.array([16.362972180704700 + esat, 0.9868380045082120]))  # Sv (data from BUQEYE)\n",
    "print(\"expect L\", np.array([2.8978682916931900, 0.4041150279261480]) * 3 / nsat)  # Slope parameter (mean, std)"
   ]
  },
  {
   "cell_type": "code",
   "execution_count": null,
   "id": "c8d17dc8",
   "metadata": {},
   "outputs": [
    {
     "name": "stdout",
     "output_type": "stream",
     "text": [
      "For EFT order 0, the best polynomial has max nu = 8\n",
      "For EFT order 2, the best polynomial has max nu = 8\n",
      "For EFT order 3, the best polynomial has max nu = 8\n",
      "For EFT order 4, the best polynomial has max nu = 8\n"
     ]
    },
    {
     "name": "stderr",
     "output_type": "stream",
     "text": [
      "Sampling emp. sat. point: 100%|██████████| 101000/101000 [13:35<00:00, 123.81it/s]\n"
     ]
    },
    {
     "name": "stdout",
     "output_type": "stream",
     "text": [
      "Sv    32.326183\n",
      "L     54.351790\n",
      "dtype: float64\n",
      "          Sv         L\n",
      "Sv  1.043155  2.778366\n",
      "L   2.778366  7.721239\n"
     ]
    }
   ],
   "source": [
    "dist_kwargs = dict(\n",
    "            mu=[  0.160 , -15.96    ], \n",
    "            Psi=np.array([[0.002**2 , -0.012**2],\n",
    "            [-0.012**2, 0.12**2]]),\n",
    "            nu=16\n",
    "        )\n",
    "\n",
    "dat = sample_sv_l(num_sats=101000, num_GP_samples = 500, Lambda=500, posterior_predict_params=dist_kwargs)\n",
    "print(dat.mean())\n",
    "print(np.sqrt(dat.cov()))"
   ]
  },
  {
   "cell_type": "code",
   "execution_count": null,
   "id": "e3641e58",
   "metadata": {},
   "outputs": [
    {
     "name": "stdout",
     "output_type": "stream",
     "text": [
      "For EFT order 0, the best polynomial has max nu = 8\n",
      "For EFT order 2, the best polynomial has max nu = 8\n",
      "For EFT order 3, the best polynomial has max nu = 8\n",
      "For EFT order 4, the best polynomial has max nu = 8\n"
     ]
    },
    {
     "name": "stderr",
     "output_type": "stream",
     "text": [
      "Sampling emp. sat. point:  96%|█████████▌| 97/101 [00:01<00:00, 94.91it/s]\n"
     ]
    },
    {
     "ename": "KeyboardInterrupt",
     "evalue": "",
     "output_type": "error",
     "traceback": [
      "\u001b[0;31m---------------------------------------------------------------------------\u001b[0m",
      "\u001b[0;31mKeyboardInterrupt\u001b[0m                         Traceback (most recent call last)",
      "Cell \u001b[0;32mIn[11], line 1\u001b[0m\n\u001b[0;32m----> 1\u001b[0m sample_sv_l(num_sats\u001b[39m=\u001b[39;49m\u001b[39m101\u001b[39;49m, num_GP_samples \u001b[39m=\u001b[39;49m \u001b[39m50000\u001b[39;49m, Lambda\u001b[39m=\u001b[39;49m\u001b[39m500\u001b[39;49m)\u001b[39m.\u001b[39mmean()\n",
      "Cell \u001b[0;32mIn[9], line 90\u001b[0m, in \u001b[0;36msample_sv_l\u001b[0;34m(num_sats, num_GP_samples, Lambda, posterior_predict_params, high_density)\u001b[0m\n\u001b[1;32m     88\u001b[0m df \u001b[39m=\u001b[39m []\n\u001b[1;32m     89\u001b[0m \u001b[39mfor\u001b[39;00m index \u001b[39min\u001b[39;00m tqdm(\u001b[39mrange\u001b[39m(num_sats), desc\u001b[39m=\u001b[39m\u001b[39m\"\u001b[39m\u001b[39mSampling emp. sat. point\u001b[39m\u001b[39m\"\u001b[39m):\n\u001b[0;32m---> 90\u001b[0m     E_dE, E_dE_cov \u001b[39m=\u001b[39m obs_neutron\u001b[39m.\u001b[39;49mpredict(np\u001b[39m.\u001b[39;49matleast_2d(Kf_n_sats[index]), order\u001b[39m=\u001b[39;49m\u001b[39m4\u001b[39;49m, derivs\u001b[39m=\u001b[39;49m[\u001b[39m0\u001b[39;49m, \u001b[39m1\u001b[39;49m])\n\u001b[1;32m     91\u001b[0m     E_L_mean, E_L_cov \u001b[39m=\u001b[39m compute_Esym_L(kf\u001b[39m=\u001b[39mkf_n_sats[index], n\u001b[39m=\u001b[39md_sats[index], e\u001b[39m=\u001b[39me_sats[index],\n\u001b[1;32m     92\u001b[0m                                     S2_dS2\u001b[39m=\u001b[39mE_dE, S2_dS2_cov\u001b[39m=\u001b[39mE_dE_cov)\n\u001b[1;32m     93\u001b[0m     \u001b[39m# note that the derivative is w.r.t. kf, not the density\u001b[39;00m\n",
      "File \u001b[0;32m~/GitHub/nuclear-matter-convergence/nuclear_matter/derivatives.py:597\u001b[0m, in \u001b[0;36mObservableContainer.predict\u001b[0;34m(self, X, order, derivs, include_trunc)\u001b[0m\n\u001b[1;32m    593\u001b[0m y_interp, cov \u001b[39m=\u001b[39m predict_with_derivatives(\n\u001b[1;32m    594\u001b[0m     \u001b[39mself\u001b[39m\u001b[39m.\u001b[39mgps_interp[order], X\u001b[39m=\u001b[39mX, n\u001b[39m=\u001b[39mderivs, return_cov\u001b[39m=\u001b[39m\u001b[39mTrue\u001b[39;00m\n\u001b[1;32m    595\u001b[0m )\n\u001b[1;32m    596\u001b[0m \u001b[39mif\u001b[39;00m include_trunc:\n\u001b[0;32m--> 597\u001b[0m     cov \u001b[39m+\u001b[39m\u001b[39m=\u001b[39m predict_with_derivatives(\n\u001b[1;32m    598\u001b[0m         \u001b[39mself\u001b[39;49m\u001b[39m.\u001b[39;49mgps_trunc[order], X\u001b[39m=\u001b[39;49mX, n\u001b[39m=\u001b[39;49mderivs, only_cov\u001b[39m=\u001b[39;49m\u001b[39mTrue\u001b[39;49;00m\n\u001b[1;32m    599\u001b[0m     )\n\u001b[1;32m    600\u001b[0m \u001b[39mreturn\u001b[39;00m y_interp, cov\n",
      "File \u001b[0;32m~/GitHub/nuclear-matter-convergence/nuclear_matter/derivatives.py:282\u001b[0m, in \u001b[0;36mpredict_with_derivatives\u001b[0;34m(gp, X, n, only_cov, **kwargs)\u001b[0m\n\u001b[1;32m    280\u001b[0m n_tiled \u001b[39m=\u001b[39m np\u001b[39m.\u001b[39mconcatenate([n_i \u001b[39m*\u001b[39m np\u001b[39m.\u001b[39mones(X\u001b[39m.\u001b[39mshape[\u001b[39m0\u001b[39m], dtype\u001b[39m=\u001b[39m\u001b[39mint\u001b[39m) \u001b[39mfor\u001b[39;00m n_i \u001b[39min\u001b[39;00m n])[:, \u001b[39mNone\u001b[39;00m]\n\u001b[1;32m    281\u001b[0m \u001b[39mif\u001b[39;00m only_cov:\n\u001b[0;32m--> 282\u001b[0m     \u001b[39mreturn\u001b[39;00m gp\u001b[39m.\u001b[39;49mcompute_Kij(X_tiled, \u001b[39mNone\u001b[39;49;00m, ni\u001b[39m=\u001b[39;49mn_tiled, nj\u001b[39m=\u001b[39;49m\u001b[39mNone\u001b[39;49;00m)\n\u001b[1;32m    283\u001b[0m \u001b[39mreturn\u001b[39;00m gp\u001b[39m.\u001b[39mpredict(X_tiled, n\u001b[39m=\u001b[39mn_tiled, \u001b[39m*\u001b[39m\u001b[39m*\u001b[39mkwargs)\n",
      "File \u001b[0;32m~/GitHub/nuclear-matter-convergence/venv/lib/python3.10/site-packages/gptools/gaussian_process.py:1595\u001b[0m, in \u001b[0;36mGaussianProcess.compute_Kij\u001b[0;34m(self, Xi, Xj, ni, nj, noise, hyper_deriv, k)\u001b[0m\n\u001b[1;32m   1593\u001b[0m Xj_tile \u001b[39m=\u001b[39m scipy\u001b[39m.\u001b[39mtile(Xj, (Xi\u001b[39m.\u001b[39mshape[\u001b[39m0\u001b[39m], \u001b[39m1\u001b[39m))\n\u001b[1;32m   1594\u001b[0m nj_tile \u001b[39m=\u001b[39m scipy\u001b[39m.\u001b[39mtile(nj, (Xi\u001b[39m.\u001b[39mshape[\u001b[39m0\u001b[39m], \u001b[39m1\u001b[39m))\n\u001b[0;32m-> 1595\u001b[0m Kij \u001b[39m=\u001b[39m k(\n\u001b[1;32m   1596\u001b[0m     Xi_tile,\n\u001b[1;32m   1597\u001b[0m     Xj_tile,\n\u001b[1;32m   1598\u001b[0m     ni_tile,\n\u001b[1;32m   1599\u001b[0m     nj_tile,\n\u001b[1;32m   1600\u001b[0m     hyper_deriv\u001b[39m=\u001b[39;49mhyper_deriv,\n\u001b[1;32m   1601\u001b[0m     symmetric\u001b[39m=\u001b[39;49msymmetric\n\u001b[1;32m   1602\u001b[0m )\n\u001b[1;32m   1603\u001b[0m Kij \u001b[39m=\u001b[39m scipy\u001b[39m.\u001b[39mreshape(Kij, (Xi\u001b[39m.\u001b[39mshape[\u001b[39m0\u001b[39m], \u001b[39m-\u001b[39m\u001b[39m1\u001b[39m))\n\u001b[1;32m   1605\u001b[0m \u001b[39mreturn\u001b[39;00m Kij\n",
      "File \u001b[0;32m~/GitHub/nuclear-matter-convergence/venv/lib/python3.10/site-packages/gptools/kernel/core.py:655\u001b[0m, in \u001b[0;36mProductKernel.__call__\u001b[0;34m(self, Xi, Xj, ni, nj, **kwargs)\u001b[0m\n\u001b[1;32m    652\u001b[0m         \u001b[39mfor\u001b[39;00m i \u001b[39min\u001b[39;00m sC:\n\u001b[1;32m    653\u001b[0m             nij_2[:, i] \u001b[39m+\u001b[39m\u001b[39m=\u001b[39m \u001b[39m1\u001b[39m\n\u001b[1;32m    654\u001b[0m         result[idxs] \u001b[39m+\u001b[39m\u001b[39m=\u001b[39m (\n\u001b[0;32m--> 655\u001b[0m             \u001b[39mself\u001b[39;49m\u001b[39m.\u001b[39;49mk1(\n\u001b[1;32m    656\u001b[0m                 Xi[idxs, :],\n\u001b[1;32m    657\u001b[0m                 Xj[idxs, :],\n\u001b[1;32m    658\u001b[0m                 nij_1[:, :\u001b[39mself\u001b[39;49m\u001b[39m.\u001b[39;49mnum_dim],\n\u001b[1;32m    659\u001b[0m                 nij_1[:, \u001b[39mself\u001b[39;49m\u001b[39m.\u001b[39;49mnum_dim:],\n\u001b[1;32m    660\u001b[0m                 \u001b[39m*\u001b[39;49m\u001b[39m*\u001b[39;49mkwargs\n\u001b[1;32m    661\u001b[0m             ) \u001b[39m*\u001b[39m\n\u001b[1;32m    662\u001b[0m             \u001b[39mself\u001b[39m\u001b[39m.\u001b[39mk2(\n\u001b[1;32m    663\u001b[0m                 Xi[idxs, :],\n\u001b[1;32m    664\u001b[0m                 Xj[idxs, :],\n\u001b[1;32m    665\u001b[0m                 nij_2[:, :\u001b[39mself\u001b[39m\u001b[39m.\u001b[39mnum_dim],\n\u001b[1;32m    666\u001b[0m                 nij_2[:, \u001b[39mself\u001b[39m\u001b[39m.\u001b[39mnum_dim:],\n\u001b[1;32m    667\u001b[0m                 \u001b[39m*\u001b[39m\u001b[39m*\u001b[39mkwargs\n\u001b[1;32m    668\u001b[0m             )\n\u001b[1;32m    669\u001b[0m         )\n\u001b[1;32m    670\u001b[0m \u001b[39mreturn\u001b[39;00m result\n",
      "File \u001b[0;32m~/GitHub/nuclear-matter-convergence/nuclear_matter/derivatives.py:52\u001b[0m, in \u001b[0;36mCustomKernel.__call__\u001b[0;34m(self, Xi, Xj, ni, nj, hyper_deriv, symmetric)\u001b[0m\n\u001b[1;32m     50\u001b[0m value \u001b[39m=\u001b[39m np\u001b[39m.\u001b[39mNaN \u001b[39m*\u001b[39m np\u001b[39m.\u001b[39mones(Xi\u001b[39m.\u001b[39mshape[\u001b[39m0\u001b[39m])\n\u001b[1;32m     51\u001b[0m \u001b[39mfor\u001b[39;00m (i, j), mask \u001b[39min\u001b[39;00m dmasks\u001b[39m.\u001b[39mitems():\n\u001b[0;32m---> 52\u001b[0m     value[mask] \u001b[39m=\u001b[39m \u001b[39mself\u001b[39;49m\u001b[39m.\u001b[39;49mf(Xi[mask], Xj[mask], i, j)\n\u001b[1;32m     53\u001b[0m \u001b[39mreturn\u001b[39;00m value\n",
      "File \u001b[0;32m~/GitHub/nuclear-matter-convergence/nuclear_matter/derivatives.py:268\u001b[0m, in \u001b[0;36mConvergenceKernel.__call__\u001b[0;34m(self, Xi, Xj, ni, nj)\u001b[0m\n\u001b[1;32m    266\u001b[0m ref \u001b[39m=\u001b[39m \u001b[39mself\u001b[39m\u001b[39m.\u001b[39mref\n\u001b[1;32m    267\u001b[0m f \u001b[39m=\u001b[39m \u001b[39mself\u001b[39m\u001b[39m.\u001b[39mcompute_func(ni, nj)\n\u001b[0;32m--> 268\u001b[0m K \u001b[39m=\u001b[39m f(Xi, Xj, breakdown, ref)\n\u001b[1;32m    269\u001b[0m \u001b[39m#         K = f(Xi, Xj, breakdown, ref, ni, nj)\u001b[39;00m\n\u001b[1;32m    270\u001b[0m \u001b[39m# try:\u001b[39;00m\n\u001b[1;32m    271\u001b[0m \u001b[39m#     K = K.astype('float')\u001b[39;00m\n\u001b[1;32m    272\u001b[0m \u001b[39m# except:\u001b[39;00m\n\u001b[1;32m    273\u001b[0m \u001b[39m#     pass\u001b[39;00m\n\u001b[1;32m    274\u001b[0m \u001b[39mreturn\u001b[39;00m np\u001b[39m.\u001b[39msqueeze(K)\n",
      "\u001b[0;31mKeyboardInterrupt\u001b[0m: "
     ]
    }
   ],
   "source": [
    "sample_sv_l(num_sats=101, num_GP_samples = 50000, Lambda=500).mean()"
   ]
  },
  {
   "cell_type": "code",
   "execution_count": null,
   "id": "0d2346be",
   "metadata": {},
   "outputs": [
    {
     "name": "stdout",
     "output_type": "stream",
     "text": [
      "For EFT order 0, the best polynomial has max nu = 8\n",
      "For EFT order 2, the best polynomial has max nu = 8\n",
      "For EFT order 3, the best polynomial has max nu = 8\n",
      "For EFT order 4, the best polynomial has max nu = 8\n"
     ]
    },
    {
     "name": "stderr",
     "output_type": "stream",
     "text": [
      "Sampling emp. sat. point:   4%|▎         | 36/1010 [00:00<00:08, 110.52it/s]\n"
     ]
    },
    {
     "ename": "KeyboardInterrupt",
     "evalue": "",
     "output_type": "error",
     "traceback": [
      "\u001b[0;31m---------------------------------------------------------------------------\u001b[0m",
      "\u001b[0;31mKeyboardInterrupt\u001b[0m                         Traceback (most recent call last)",
      "Cell \u001b[0;32mIn[62], line 1\u001b[0m\n\u001b[0;32m----> 1\u001b[0m sample_sv_l(num_sats\u001b[39m=\u001b[39;49m\u001b[39m1010\u001b[39;49m, num_GP_samples \u001b[39m=\u001b[39;49m \u001b[39m50\u001b[39;49m, Lambda\u001b[39m=\u001b[39;49m\u001b[39m500\u001b[39;49m)\u001b[39m.\u001b[39mmean()\n",
      "Cell \u001b[0;32mIn[59], line 90\u001b[0m, in \u001b[0;36msample_sv_l\u001b[0;34m(num_sats, num_GP_samples, Lambda, posterior_predict_params, high_density)\u001b[0m\n\u001b[1;32m     88\u001b[0m df \u001b[39m=\u001b[39m []\n\u001b[1;32m     89\u001b[0m \u001b[39mfor\u001b[39;00m index \u001b[39min\u001b[39;00m tqdm(\u001b[39mrange\u001b[39m(num_sats), desc\u001b[39m=\u001b[39m\u001b[39m\"\u001b[39m\u001b[39mSampling emp. sat. point\u001b[39m\u001b[39m\"\u001b[39m):\n\u001b[0;32m---> 90\u001b[0m     E_dE, E_dE_cov \u001b[39m=\u001b[39m obs_neutron\u001b[39m.\u001b[39;49mpredict(np\u001b[39m.\u001b[39;49matleast_2d(Kf_n_sats[index]), order\u001b[39m=\u001b[39;49m\u001b[39m4\u001b[39;49m, derivs\u001b[39m=\u001b[39;49m[\u001b[39m0\u001b[39;49m, \u001b[39m1\u001b[39;49m])\n\u001b[1;32m     91\u001b[0m     E_L_mean, E_L_cov \u001b[39m=\u001b[39m compute_Esym_L(kf\u001b[39m=\u001b[39mkf_n_sats[index], n\u001b[39m=\u001b[39md_sats[index], e\u001b[39m=\u001b[39me_sats[index],\n\u001b[1;32m     92\u001b[0m                                     S2_dS2\u001b[39m=\u001b[39mE_dE, S2_dS2_cov\u001b[39m=\u001b[39mE_dE_cov)\n\u001b[1;32m     93\u001b[0m     \u001b[39m# note that the derivative is w.r.t. kf, not the density\u001b[39;00m\n",
      "File \u001b[0;32m~/GitHub/nuclear-matter-convergence/nuclear_matter/derivatives.py:593\u001b[0m, in \u001b[0;36mObservableContainer.predict\u001b[0;34m(self, X, order, derivs, include_trunc)\u001b[0m\n\u001b[1;32m    591\u001b[0m \u001b[39mif\u001b[39;00m derivs \u001b[39mis\u001b[39;00m \u001b[39mNone\u001b[39;00m:\n\u001b[1;32m    592\u001b[0m     derivs \u001b[39m=\u001b[39m \u001b[39mself\u001b[39m\u001b[39m.\u001b[39mderivs\n\u001b[0;32m--> 593\u001b[0m y_interp, cov \u001b[39m=\u001b[39m predict_with_derivatives(\n\u001b[1;32m    594\u001b[0m     \u001b[39mself\u001b[39;49m\u001b[39m.\u001b[39;49mgps_interp[order], X\u001b[39m=\u001b[39;49mX, n\u001b[39m=\u001b[39;49mderivs, return_cov\u001b[39m=\u001b[39;49m\u001b[39mTrue\u001b[39;49;00m\n\u001b[1;32m    595\u001b[0m )\n\u001b[1;32m    596\u001b[0m \u001b[39mif\u001b[39;00m include_trunc:\n\u001b[1;32m    597\u001b[0m     cov \u001b[39m+\u001b[39m\u001b[39m=\u001b[39m predict_with_derivatives(\n\u001b[1;32m    598\u001b[0m         \u001b[39mself\u001b[39m\u001b[39m.\u001b[39mgps_trunc[order], X\u001b[39m=\u001b[39mX, n\u001b[39m=\u001b[39mderivs, only_cov\u001b[39m=\u001b[39m\u001b[39mTrue\u001b[39;00m\n\u001b[1;32m    599\u001b[0m     )\n",
      "File \u001b[0;32m~/GitHub/nuclear-matter-convergence/nuclear_matter/derivatives.py:283\u001b[0m, in \u001b[0;36mpredict_with_derivatives\u001b[0;34m(gp, X, n, only_cov, **kwargs)\u001b[0m\n\u001b[1;32m    281\u001b[0m \u001b[39mif\u001b[39;00m only_cov:\n\u001b[1;32m    282\u001b[0m     \u001b[39mreturn\u001b[39;00m gp\u001b[39m.\u001b[39mcompute_Kij(X_tiled, \u001b[39mNone\u001b[39;00m, ni\u001b[39m=\u001b[39mn_tiled, nj\u001b[39m=\u001b[39m\u001b[39mNone\u001b[39;00m)\n\u001b[0;32m--> 283\u001b[0m \u001b[39mreturn\u001b[39;00m gp\u001b[39m.\u001b[39;49mpredict(X_tiled, n\u001b[39m=\u001b[39;49mn_tiled, \u001b[39m*\u001b[39;49m\u001b[39m*\u001b[39;49mkwargs)\n",
      "File \u001b[0;32m~/GitHub/nuclear-matter-convergence/venv/lib/python3.10/site-packages/gptools/gaussian_process.py:984\u001b[0m, in \u001b[0;36mGaussianProcess.predict\u001b[0;34m(self, Xstar, n, noise, return_std, return_cov, full_output, return_samples, num_samples, samp_kwargs, return_mean_func, use_MCMC, full_MC, rejection_func, ddof, output_transform, **kwargs)\u001b[0m\n\u001b[1;32m    982\u001b[0m \u001b[39mif\u001b[39;00m return_std \u001b[39mor\u001b[39;00m return_cov \u001b[39mor\u001b[39;00m full_output \u001b[39mor\u001b[39;00m full_MC:\n\u001b[1;32m    983\u001b[0m     v \u001b[39m=\u001b[39m scipy\u001b[39m.\u001b[39mlinalg\u001b[39m.\u001b[39msolve_triangular(\u001b[39mself\u001b[39m\u001b[39m.\u001b[39mL, Kstar, lower\u001b[39m=\u001b[39m\u001b[39mTrue\u001b[39;00m)\n\u001b[0;32m--> 984\u001b[0m     Kstarstar \u001b[39m=\u001b[39m \u001b[39mself\u001b[39;49m\u001b[39m.\u001b[39;49mcompute_Kij(Xstar, \u001b[39mNone\u001b[39;49;00m, n, \u001b[39mNone\u001b[39;49;00m)\n\u001b[1;32m    985\u001b[0m     \u001b[39mif\u001b[39;00m noise:\n\u001b[1;32m    986\u001b[0m         Kstarstar \u001b[39m=\u001b[39m Kstarstar \u001b[39m+\u001b[39m \u001b[39mself\u001b[39m\u001b[39m.\u001b[39mcompute_Kij(Xstar, \u001b[39mNone\u001b[39;00m, n, \u001b[39mNone\u001b[39;00m, noise\u001b[39m=\u001b[39m\u001b[39mTrue\u001b[39;00m)\n",
      "File \u001b[0;32m~/GitHub/nuclear-matter-convergence/venv/lib/python3.10/site-packages/gptools/gaussian_process.py:1595\u001b[0m, in \u001b[0;36mGaussianProcess.compute_Kij\u001b[0;34m(self, Xi, Xj, ni, nj, noise, hyper_deriv, k)\u001b[0m\n\u001b[1;32m   1593\u001b[0m Xj_tile \u001b[39m=\u001b[39m scipy\u001b[39m.\u001b[39mtile(Xj, (Xi\u001b[39m.\u001b[39mshape[\u001b[39m0\u001b[39m], \u001b[39m1\u001b[39m))\n\u001b[1;32m   1594\u001b[0m nj_tile \u001b[39m=\u001b[39m scipy\u001b[39m.\u001b[39mtile(nj, (Xi\u001b[39m.\u001b[39mshape[\u001b[39m0\u001b[39m], \u001b[39m1\u001b[39m))\n\u001b[0;32m-> 1595\u001b[0m Kij \u001b[39m=\u001b[39m k(\n\u001b[1;32m   1596\u001b[0m     Xi_tile,\n\u001b[1;32m   1597\u001b[0m     Xj_tile,\n\u001b[1;32m   1598\u001b[0m     ni_tile,\n\u001b[1;32m   1599\u001b[0m     nj_tile,\n\u001b[1;32m   1600\u001b[0m     hyper_deriv\u001b[39m=\u001b[39;49mhyper_deriv,\n\u001b[1;32m   1601\u001b[0m     symmetric\u001b[39m=\u001b[39;49msymmetric\n\u001b[1;32m   1602\u001b[0m )\n\u001b[1;32m   1603\u001b[0m Kij \u001b[39m=\u001b[39m scipy\u001b[39m.\u001b[39mreshape(Kij, (Xi\u001b[39m.\u001b[39mshape[\u001b[39m0\u001b[39m], \u001b[39m-\u001b[39m\u001b[39m1\u001b[39m))\n\u001b[1;32m   1605\u001b[0m \u001b[39mreturn\u001b[39;00m Kij\n",
      "File \u001b[0;32m~/GitHub/nuclear-matter-convergence/venv/lib/python3.10/site-packages/gptools/kernel/core.py:655\u001b[0m, in \u001b[0;36mProductKernel.__call__\u001b[0;34m(self, Xi, Xj, ni, nj, **kwargs)\u001b[0m\n\u001b[1;32m    652\u001b[0m         \u001b[39mfor\u001b[39;00m i \u001b[39min\u001b[39;00m sC:\n\u001b[1;32m    653\u001b[0m             nij_2[:, i] \u001b[39m+\u001b[39m\u001b[39m=\u001b[39m \u001b[39m1\u001b[39m\n\u001b[1;32m    654\u001b[0m         result[idxs] \u001b[39m+\u001b[39m\u001b[39m=\u001b[39m (\n\u001b[0;32m--> 655\u001b[0m             \u001b[39mself\u001b[39;49m\u001b[39m.\u001b[39;49mk1(\n\u001b[1;32m    656\u001b[0m                 Xi[idxs, :],\n\u001b[1;32m    657\u001b[0m                 Xj[idxs, :],\n\u001b[1;32m    658\u001b[0m                 nij_1[:, :\u001b[39mself\u001b[39;49m\u001b[39m.\u001b[39;49mnum_dim],\n\u001b[1;32m    659\u001b[0m                 nij_1[:, \u001b[39mself\u001b[39;49m\u001b[39m.\u001b[39;49mnum_dim:],\n\u001b[1;32m    660\u001b[0m                 \u001b[39m*\u001b[39;49m\u001b[39m*\u001b[39;49mkwargs\n\u001b[1;32m    661\u001b[0m             ) \u001b[39m*\u001b[39m\n\u001b[1;32m    662\u001b[0m             \u001b[39mself\u001b[39m\u001b[39m.\u001b[39mk2(\n\u001b[1;32m    663\u001b[0m                 Xi[idxs, :],\n\u001b[1;32m    664\u001b[0m                 Xj[idxs, :],\n\u001b[1;32m    665\u001b[0m                 nij_2[:, :\u001b[39mself\u001b[39m\u001b[39m.\u001b[39mnum_dim],\n\u001b[1;32m    666\u001b[0m                 nij_2[:, \u001b[39mself\u001b[39m\u001b[39m.\u001b[39mnum_dim:],\n\u001b[1;32m    667\u001b[0m                 \u001b[39m*\u001b[39m\u001b[39m*\u001b[39mkwargs\n\u001b[1;32m    668\u001b[0m             )\n\u001b[1;32m    669\u001b[0m         )\n\u001b[1;32m    670\u001b[0m \u001b[39mreturn\u001b[39;00m result\n",
      "File \u001b[0;32m~/GitHub/nuclear-matter-convergence/nuclear_matter/derivatives.py:52\u001b[0m, in \u001b[0;36mCustomKernel.__call__\u001b[0;34m(self, Xi, Xj, ni, nj, hyper_deriv, symmetric)\u001b[0m\n\u001b[1;32m     50\u001b[0m value \u001b[39m=\u001b[39m np\u001b[39m.\u001b[39mNaN \u001b[39m*\u001b[39m np\u001b[39m.\u001b[39mones(Xi\u001b[39m.\u001b[39mshape[\u001b[39m0\u001b[39m])\n\u001b[1;32m     51\u001b[0m \u001b[39mfor\u001b[39;00m (i, j), mask \u001b[39min\u001b[39;00m dmasks\u001b[39m.\u001b[39mitems():\n\u001b[0;32m---> 52\u001b[0m     value[mask] \u001b[39m=\u001b[39m \u001b[39mself\u001b[39;49m\u001b[39m.\u001b[39;49mf(Xi[mask], Xj[mask], i, j)\n\u001b[1;32m     53\u001b[0m \u001b[39mreturn\u001b[39;00m value\n",
      "File \u001b[0;32m~/GitHub/nuclear-matter-convergence/nuclear_matter/derivatives.py:268\u001b[0m, in \u001b[0;36mConvergenceKernel.__call__\u001b[0;34m(self, Xi, Xj, ni, nj)\u001b[0m\n\u001b[1;32m    266\u001b[0m ref \u001b[39m=\u001b[39m \u001b[39mself\u001b[39m\u001b[39m.\u001b[39mref\n\u001b[1;32m    267\u001b[0m f \u001b[39m=\u001b[39m \u001b[39mself\u001b[39m\u001b[39m.\u001b[39mcompute_func(ni, nj)\n\u001b[0;32m--> 268\u001b[0m K \u001b[39m=\u001b[39m f(Xi, Xj, breakdown, ref)\n\u001b[1;32m    269\u001b[0m \u001b[39m#         K = f(Xi, Xj, breakdown, ref, ni, nj)\u001b[39;00m\n\u001b[1;32m    270\u001b[0m \u001b[39m# try:\u001b[39;00m\n\u001b[1;32m    271\u001b[0m \u001b[39m#     K = K.astype('float')\u001b[39;00m\n\u001b[1;32m    272\u001b[0m \u001b[39m# except:\u001b[39;00m\n\u001b[1;32m    273\u001b[0m \u001b[39m#     pass\u001b[39;00m\n\u001b[1;32m    274\u001b[0m \u001b[39mreturn\u001b[39;00m np\u001b[39m.\u001b[39msqueeze(K)\n",
      "\u001b[0;31mKeyboardInterrupt\u001b[0m: "
     ]
    }
   ],
   "source": [
    "sample_sv_l(num_sats=1010, num_GP_samples = 50, Lambda=500).mean()"
   ]
  },
  {
   "cell_type": "code",
   "execution_count": null,
   "id": "e091f253",
   "metadata": {},
   "outputs": [
    {
     "name": "stdout",
     "output_type": "stream",
     "text": [
      "For EFT order 0, the best polynomial has max nu = 8\n",
      "For EFT order 2, the best polynomial has max nu = 8\n",
      "For EFT order 3, the best polynomial has max nu = 8\n",
      "For EFT order 4, the best polynomial has max nu = 8\n"
     ]
    },
    {
     "name": "stderr",
     "output_type": "stream",
     "text": [
      "Sampling emp. sat. point: 100%|██████████| 1010/1010 [00:08<00:00, 123.21it/s]\n"
     ]
    },
    {
     "data": {
      "text/plain": [
       "Sv    32.397953\n",
       "L     54.930678\n",
       "dtype: float64"
      ]
     },
     "execution_count": 17,
     "metadata": {},
     "output_type": "execute_result"
    }
   ],
   "source": [
    "sample_sv_l(num_sats=1010, num_GP_samples = 500, Lambda=500).mean()"
   ]
  },
  {
   "cell_type": "code",
   "execution_count": null,
   "id": "cb9d7034",
   "metadata": {},
   "outputs": [
    {
     "name": "stdout",
     "output_type": "stream",
     "text": [
      "For EFT order 0, the best polynomial has max nu = 8\n",
      "For EFT order 2, the best polynomial has max nu = 8\n",
      "For EFT order 3, the best polynomial has max nu = 8\n",
      "For EFT order 4, the best polynomial has max nu = 8\n"
     ]
    },
    {
     "name": "stderr",
     "output_type": "stream",
     "text": [
      "Sampling emp. sat. point: 100%|██████████| 10100/10100 [01:26<00:00, 116.34it/s]\n"
     ]
    },
    {
     "data": {
      "text/plain": [
       "Sv    32.386351\n",
       "L     54.903259\n",
       "dtype: float64"
      ]
     },
     "execution_count": 19,
     "metadata": {},
     "output_type": "execute_result"
    }
   ],
   "source": [
    "sample_sv_l(num_sats=10100, num_GP_samples = 50, Lambda=500).mean()"
   ]
  },
  {
   "cell_type": "code",
   "execution_count": null,
   "id": "09c82092",
   "metadata": {},
   "outputs": [
    {
     "name": "stdout",
     "output_type": "stream",
     "text": [
      "For EFT order 0, the best polynomial has max nu = 8\n",
      "For EFT order 2, the best polynomial has max nu = 8\n",
      "For EFT order 3, the best polynomial has max nu = 8\n",
      "For EFT order 4, the best polynomial has max nu = 8\n"
     ]
    },
    {
     "name": "stderr",
     "output_type": "stream",
     "text": [
      "Sampling emp. sat. point: 100%|██████████| 101000/101000 [13:21<00:00, 126.00it/s]\n"
     ]
    },
    {
     "data": {
      "text/plain": [
       "Sv    32.391370\n",
       "L     54.920654\n",
       "dtype: float64"
      ]
     },
     "execution_count": 22,
     "metadata": {},
     "output_type": "execute_result"
    }
   ],
   "source": [
    "sample_sv_l(num_sats=101000, num_GP_samples = 5, Lambda=500).mean()"
   ]
  },
  {
   "cell_type": "code",
   "execution_count": null,
   "id": "094a6a8f",
   "metadata": {},
   "outputs": [
    {
     "name": "stdout",
     "output_type": "stream",
     "text": [
      "For EFT order 0, the best polynomial has max nu = 8\n",
      "For EFT order 2, the best polynomial has max nu = 8\n",
      "For EFT order 3, the best polynomial has max nu = 8\n",
      "For EFT order 4, the best polynomial has max nu = 8\n"
     ]
    },
    {
     "name": "stderr",
     "output_type": "stream",
     "text": [
      "Sampling emp. sat. point: 100%|██████████| 101000/101000 [13:32<00:00, 124.32it/s]\n"
     ]
    },
    {
     "data": {
      "text/plain": [
       "Sv    32.392716\n",
       "L     54.930372\n",
       "dtype: float64"
      ]
     },
     "execution_count": 23,
     "metadata": {},
     "output_type": "execute_result"
    }
   ],
   "source": [
    "sample_sv_l(num_sats=101000, num_GP_samples = 50, Lambda=500).mean()"
   ]
  },
  {
   "cell_type": "code",
   "execution_count": null,
   "id": "091cff50",
   "metadata": {},
   "outputs": [
    {
     "name": "stdout",
     "output_type": "stream",
     "text": [
      "For EFT order 0, the best polynomial has max nu = 8\n",
      "For EFT order 2, the best polynomial has max nu = 8\n",
      "For EFT order 3, the best polynomial has max nu = 8\n",
      "For EFT order 4, the best polynomial has max nu = 8\n"
     ]
    },
    {
     "name": "stderr",
     "output_type": "stream",
     "text": [
      "Sampling emp. sat. point: 100%|██████████| 501000/501000 [1:20:43<00:00, 103.43it/s] \n"
     ]
    },
    {
     "data": {
      "text/plain": [
       "Sv    32.391449\n",
       "L     54.928074\n",
       "dtype: float64"
      ]
     },
     "execution_count": 24,
     "metadata": {},
     "output_type": "execute_result"
    }
   ],
   "source": [
    "sample_sv_l(num_sats=501000, num_GP_samples = 5, Lambda=500).mean()"
   ]
  },
  {
   "cell_type": "code",
   "execution_count": null,
   "id": "2a1b754f",
   "metadata": {},
   "outputs": [
    {
     "name": "stdout",
     "output_type": "stream",
     "text": [
      "For EFT order 0, the best polynomial has max nu = 8\n",
      "For EFT order 2, the best polynomial has max nu = 8\n",
      "For EFT order 3, the best polynomial has max nu = 8\n",
      "For EFT order 4, the best polynomial has max nu = 8\n"
     ]
    },
    {
     "name": "stderr",
     "output_type": "stream",
     "text": [
      "Sampling emp. sat. point: 100%|██████████| 501000/501000 [1:42:47<00:00, 81.23it/s]     \n"
     ]
    },
    {
     "data": {
      "text/plain": [
       "Sv    32.391448\n",
       "L     54.928149\n",
       "dtype: float64"
      ]
     },
     "execution_count": 25,
     "metadata": {},
     "output_type": "execute_result"
    }
   ],
   "source": [
    "sample_sv_l(num_sats=501000, num_GP_samples = 50, Lambda=500).mean()"
   ]
  },
  {
   "cell_type": "code",
   "execution_count": null,
   "id": "a8b6ab22",
   "metadata": {},
   "outputs": [
    {
     "name": "stdout",
     "output_type": "stream",
     "text": [
      "For EFT order 0, the best polynomial has max nu = 8\n",
      "For EFT order 2, the best polynomial has max nu = 8\n",
      "For EFT order 3, the best polynomial has max nu = 8\n",
      "For EFT order 4, the best polynomial has max nu = 8\n"
     ]
    },
    {
     "name": "stderr",
     "output_type": "stream",
     "text": [
      "Sampling emp. sat. point: 100%|██████████| 10100/10100 [01:21<00:00, 124.37it/s]\n"
     ]
    },
    {
     "data": {
      "text/plain": [
       "Sv    32.386351\n",
       "L     54.903259\n",
       "dtype: float64"
      ]
     },
     "execution_count": 28,
     "metadata": {},
     "output_type": "execute_result"
    }
   ],
   "source": [
    "sample_sv_l(num_sats=10100, num_GP_samples=50, Lambda=500).mean()"
   ]
  },
  {
   "attachments": {},
   "cell_type": "markdown",
   "id": "0c17a8b8",
   "metadata": {},
   "source": [
    "## Test evaluation with corner plot"
   ]
  },
  {
   "cell_type": "code",
   "execution_count": null,
   "id": "39ac2f77",
   "metadata": {},
   "outputs": [
    {
     "name": "stdout",
     "output_type": "stream",
     "text": [
      "Pandas support in corner is deprecated; use ArviZ directly\n"
     ]
    },
    {
     "data": {
      "image/png": "[encoded data removed]",
      "text/plain": [
       "<Figure size 400x400 with 4 Axes>"
      ]
     },
     "metadata": {},
     "output_type": "display_data"
    }
   ],
   "source": [
    "import matplotlib.pyplot as plt\n",
    "import arviz as az\n",
    "import corner\n",
    "df = sample_sv_l(num_sats=10100, num_GP_samples=50, Lambda=500)\n",
    "fig, axes = plt.subplots(2, 2, figsize=(4, 4), constrained_layout=False)\n",
    "fig = corner.corner(\n",
    "    data=df,\n",
    "    range=[(28, 36), (5, 100)],\n",
    "    labels=[r'$S_v$ [MeV]', r'$L$ [MeV]'], \n",
    "    fig=fig,\n",
    "    quantiles=(0.16, 0.5, 0.84),  # note that the median (=0.5) and mean may be (slightly different)\n",
    "    levels=(1-np.exp(-0.5), 1-np.exp(-0.5*2**2)),\n",
    "    show_titles=True, \n",
    "    title_kwargs={\"fontsize\": 9}\n",
    ")\n",
    "# filename = f\"corner_lam_{Lambda}_num_sats_{num_sats}_num_GP_samples_{num_GP_samples}.pdf\"\n",
    "# fig.savefig(filename)\n",
    "# df.to_csv(filename.replace(\".pdf\", \".csv\").replace(\"corner\", \"samples\"))"
   ]
  },
  {
   "attachments": {},
   "cell_type": "markdown",
   "id": "955d4e5b",
   "metadata": {},
   "source": [
    "## Full run with data I/O"
   ]
  },
  {
   "cell_type": "code",
   "execution_count": null,
   "id": "b98bf882",
   "metadata": {},
   "outputs": [],
   "source": [
    "import pickle\n",
    "filename=\"/Users/drischler/GitHub/nuclear_saturation/samples/results_posteriors.pkl\"\n",
    "with open(filename, 'rb') as fp:\n",
    "    res_postpred = pickle.load(fp)\n",
    "    # print(res_postpred)"
   ]
  },
  {
   "cell_type": "code",
   "execution_count": null,
   "id": "e3efb4ae",
   "metadata": {},
   "outputs": [
    {
     "name": "stdout",
     "output_type": "stream",
     "text": [
      "Working on prior: Set A\n",
      "--------------------------------------------------\n",
      "\twith data config: satbox\n",
      "For EFT order 0, the best polynomial has max nu = 8\n",
      "For EFT order 2, the best polynomial has max nu = 8\n",
      "For EFT order 3, the best polynomial has max nu = 8\n",
      "For EFT order 4, the best polynomial has max nu = 8\n"
     ]
    },
    {
     "name": "stderr",
     "output_type": "stream",
     "text": [
      "Sampling emp. sat. point: 100%|██████████| 10100/10100 [01:20<00:00, 125.10it/s]\n"
     ]
    },
    {
     "name": "stdout",
     "output_type": "stream",
     "text": [
      "fit of a bivariate t distribution with finite dof in ((3, 40)) failed: 'f(a) and f(b) must have different signs'\n",
      "assuming Normal distribution instead\n",
      "fit new {'mu': [32.38655009487843, 54.905528258487315], 'Psi': array([[ 1.1304728 ,  8.14101676],\n",
      "       [ 8.14101676, 63.75271028]]), 'nu': 134.0}\n",
      "fit old {'mu': array([32.38726029, 54.91078852]), 'Psi': array([[ 1.14755754,  8.2640512 ],\n",
      "       [ 8.2640512 , 64.71619913]]), 'nu': inf}\n",
      "\twith data config: satbox_wo_SQMC700\n",
      "For EFT order 0, the best polynomial has max nu = 8\n",
      "For EFT order 2, the best polynomial has max nu = 8\n",
      "For EFT order 3, the best polynomial has max nu = 8\n",
      "For EFT order 4, the best polynomial has max nu = 8\n"
     ]
    },
    {
     "name": "stderr",
     "output_type": "stream",
     "text": [
      "Sampling emp. sat. point: 100%|██████████| 10100/10100 [01:20<00:00, 125.38it/s]\n"
     ]
    }
   ],
   "source": [
    "from plot_helpers import confidence_ellipse, fit_bivariate_t\n",
    "for Lambda in (500, 450):  # MeV\n",
    "    ret = {}\n",
    "    for prior_set_lbl, results in res_postpred.items():\n",
    "        print(\"Working on prior:\", prior_set_lbl)\n",
    "        print(\"-\"*50)\n",
    "        ret_data = {}\n",
    "        for res_lbl, post_pred in results.items():\n",
    "            print(\"\\twith data config:\", res_lbl)\n",
    "            samples = sample_sv_l(num_sats=10100, num_GP_samples=800, Lambda=Lambda, posterior_predict_params=post_pred)  # 101000\n",
    "            fit = fit_bivariate_t(samples.to_numpy(), alpha_fit=0.68, nu_limits=None, tol=1e-2, print_status=False)\n",
    "            ret_data[res_lbl] = {\"satpoint_dist\":results, \"cov\": samples.cov().to_numpy(), **fit}\n",
    "            fit2 = fit_bivariate_t(samples.to_numpy(), alpha_fit=0.68, nu_limits=None, tol=1e-2, print_status=False, strategy=\"old\")\n",
    "            print(\"+\"*30)\n",
    "            print(\"fit new\", fit)\n",
    "            print(\"fit old\", fit2)\n",
    "            print(\"+\"*30)\n",
    "        ret[prior_set_lbl] = ret_data\n",
    "    filename = f'./sv_l_samples_Lambda_{Lambda}.pkl'\n",
    "    with open(filename, 'wb') as fp:\n",
    "        pickle.dump(ret, fp)\n",
    "        print(f\"Results for Lambda {Lambda} MeV written to file '{filename}' for external processing\")"
   ]
  }
 ],
 "metadata": {
  "kernelspec": {
   "display_name": "venv",
   "language": "python",
   "name": "python3"
  },
  "language_info": {
   "codemirror_mode": {
    "name": "ipython",
    "version": 3
   },
   "file_extension": ".py",
   "mimetype": "text/x-python",
   "name": "python",
   "nbconvert_exporter": "python",
   "pygments_lexer": "ipython3",
   "version": "3.11.5"
  }
 },
 "nbformat": 4,
 "nbformat_minor": 5
}
