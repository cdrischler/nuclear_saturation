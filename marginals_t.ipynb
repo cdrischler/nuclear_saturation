{
 "cells": [
  {
   "cell_type": "markdown",
   "source": [
    "# Testing marginal distributions of the bivariate $t$ distribution\n",
    "\n",
    "This notebook tests Frederi's derivation of the marginal distributions of the bivariate $t$ distribution, which is a univariate Student-$t$ distribution."
   ],
   "metadata": {
    "collapsed": false,
    "pycharm": {
     "name": "#%% md\n"
    }
   }
  },
  {
   "cell_type": "code",
   "execution_count": 1,
   "metadata": {
    "pycharm": {
     "name": "#%%\n"
    }
   },
   "outputs": [],
   "source": [
    "import numpy as np\n",
    "from scipy.stats import multivariate_t"
   ]
  },
  {
   "cell_type": "code",
   "execution_count": 2,
   "metadata": {
    "pycharm": {
     "name": "#%%\n"
    }
   },
   "outputs": [],
   "source": [
    "df=5\n",
    "sig1 = 2\n",
    "sig2 = 3\n",
    "offdiag = sig1*sig2*0.9\n",
    "scale=np.array([[sig1**2,offdiag],[offdiag,sig2**2]])\n",
    "loc=np.array([3,4])\n",
    "data = multivariate_t.rvs(df=df, shape=scale, loc=loc, size=100000000)"
   ]
  },
  {
   "cell_type": "code",
   "execution_count": 3,
   "metadata": {
    "pycharm": {
     "name": "#%%\n"
    }
   },
   "outputs": [
    {
     "name": "stdout",
     "output_type": "stream",
     "text": [
      "mu 2.999484732597903\n",
      "var 6.664215222342008\n"
     ]
    }
   ],
   "source": [
    "ind = 0\n",
    "data_mar = data[:, ind]\n",
    "print(\"mu\", data_mar.mean())\n",
    "print(\"var\", np.var(data_mar))"
   ]
  },
  {
   "cell_type": "code",
   "execution_count": 4,
   "metadata": {
    "pycharm": {
     "name": "#%%\n"
    }
   },
   "outputs": [],
   "source": [
    "R = np.linalg.cholesky(scale)\n",
    "sigma_i2 = np.linalg.norm(R[ind, :])**2"
   ]
  },
  {
   "cell_type": "code",
   "execution_count": 5,
   "metadata": {
    "pycharm": {
     "name": "#%%\n"
    }
   },
   "outputs": [
    {
     "data": {
      "text/plain": "6.666666666666667"
     },
     "execution_count": 5,
     "metadata": {},
     "output_type": "execute_result"
    }
   ],
   "source": [
    "var = df/(df-2) * sigma_i2\n",
    "var"
   ]
  },
  {
   "cell_type": "code",
   "execution_count": null,
   "metadata": {
    "pycharm": {
     "name": "#%%\n"
    }
   },
   "outputs": [],
   "source": []
  }
 ],
 "metadata": {
  "kernelspec": {
   "display_name": "Python 3 (ipykernel)",
   "language": "python",
   "name": "python3"
  },
  "language_info": {
   "codemirror_mode": {
    "name": "ipython",
    "version": 3
   },
   "file_extension": ".py",
   "mimetype": "text/x-python",
   "name": "python",
   "nbconvert_exporter": "python",
   "pygments_lexer": "ipython3",
   "version": "3.8.5"
  }
 },
 "nbformat": 4,
 "nbformat_minor": 4
}